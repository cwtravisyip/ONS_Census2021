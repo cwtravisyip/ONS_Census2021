{
 "cells": [
  {
   "cell_type": "code",
   "execution_count": null,
   "metadata": {},
   "outputs": [],
   "source": [
    "import requests\n",
    "import pandas as pd \n",
    "import time\n",
    "import numpy as np\n",
    "import os\n",
    "from io import StringIO\n",
    "from custom_function import *\n",
    "\n",
    "\n",
    "# define request header\n",
    "headers = {'user-agent': os.environ.get(\"ONS-USER-AGENT\")}"
   ]
  },
  {
   "cell_type": "markdown",
   "metadata": {},
   "source": [
    "## 1. Explore the dataset available\n",
    "\n"
   ]
  },
  {
   "cell_type": "code",
   "execution_count": 37,
   "metadata": {},
   "outputs": [
    {
     "name": "stdout",
     "output_type": "stream",
     "text": [
      "requesting https://api.beta.ons.gov.uk/v1/datasets\n"
     ]
    }
   ],
   "source": [
    "# make API requests\n",
    "url = \"https://api.beta.ons.gov.uk/v1/datasets\"\n",
    "res = requests_get(url,headers)\n",
    "\n",
    "# parse into a pd DataFrame\n",
    "df = pd.json_normalize(res.json()['items'])\n",
    "\n"
   ]
  },
  {
   "cell_type": "code",
   "execution_count": 38,
   "metadata": {},
   "outputs": [],
   "source": [
    "# parse the metadata\n",
    "meta_df = df[['id','description','links.latest_version.href']]\\\n",
    "            .rename(columns={\"links.latest_version.href\":\"href\"})"
   ]
  },
  {
   "cell_type": "code",
   "execution_count": 44,
   "metadata": {},
   "outputs": [
    {
     "name": "stdout",
     "output_type": "stream",
     "text": [
      "requesting https://api.beta.ons.gov.uk/v1/datasets/wellbeing-quarterly/editions/time-series/versions/9\n",
      "requesting https://api.beta.ons.gov.uk/v1/datasets/wellbeing-local-authority/editions/time-series/versions/4\n",
      "requesting https://api.beta.ons.gov.uk/v1/datasets/weekly-deaths-region/editions/covid-19/versions/170\n",
      "requesting https://api.beta.ons.gov.uk/v1/datasets/weekly-deaths-local-authority/editions/2023/versions/50\n",
      "requesting https://api.beta.ons.gov.uk/v1/datasets/weekly-deaths-health-board/editions/2023/versions/50\n",
      "requesting https://api.beta.ons.gov.uk/v1/datasets/weekly-deaths-age-sex/editions/covid-19/versions/170\n",
      "requesting https://api.beta.ons.gov.uk/v1/datasets/uk-spending-on-cards/editions/time-series/versions/112\n",
      "requesting https://api.beta.ons.gov.uk/v1/datasets/uk-business-by-enterprises-and-local-units/editions/2022/versions/1\n",
      "requesting https://api.beta.ons.gov.uk/v1/datasets/traffic-camera-activity/editions/time-series/versions/88\n",
      "requesting https://api.beta.ons.gov.uk/v1/datasets/trade/editions/time-series/versions/39\n",
      "requesting https://api.beta.ons.gov.uk/v1/datasets/tax-benefits-statistics/editions/time-series/versions/3\n",
      "requesting https://api.beta.ons.gov.uk/v1/datasets/suicides-in-the-uk/editions/2022/versions/1\n",
      "requesting https://api.beta.ons.gov.uk/v1/datasets/sexual-orientation-by-region/editions/time-series/versions/3\n",
      "requesting https://api.beta.ons.gov.uk/v1/datasets/sexual-orientation-by-age-and-sex/editions/time-series/versions/3\n",
      "requesting https://api.beta.ons.gov.uk/v1/datasets/retail-sales-index-large-and-small-businesses/editions/time-series/versions/21\n",
      "requesting https://api.beta.ons.gov.uk/v1/datasets/retail-sales-index-all-businesses/editions/time-series/versions/21\n",
      "requesting https://api.beta.ons.gov.uk/v1/datasets/retail-sales-index/editions/time-series/versions/21\n",
      "requesting https://api.beta.ons.gov.uk/v1/datasets/regional-gdp-by-year/editions/time-series/versions/6\n",
      "requesting https://api.beta.ons.gov.uk/v1/datasets/regional-gdp-by-quarter/editions/time-series/versions/6\n",
      "requesting https://api.beta.ons.gov.uk/v1/datasets/projections-older-people-sex-ratios/editions/time-series/versions/1\n"
     ]
    }
   ],
   "source": [
    "# parse the metadata\n",
    "meta_df = df[['id','description','links.latest_version.href']]\\\n",
    "            .rename(columns={\"links.latest_version.href\":\"href\"})\n",
    "\n",
    "# instantiate empty df\n",
    "dataset_df = pd.DataFrame()\n",
    "for key, row in meta_df.iterrows():\n",
    "    res = requests_get(row[-1],headers)\n",
    "    dataset = pd.json_normalize(res.json()['downloads'])\n",
    "    dataset['id'] = row['id']\n",
    "    # append to the df\n",
    "    dataset_df = pd.concat([dataset_df, dataset], ignore_index = True)\n",
    "    time.sleep(0.5)\n"
   ]
  },
  {
   "cell_type": "code",
   "execution_count": 131,
   "metadata": {},
   "outputs": [
    {
     "data": {
      "text/html": [
       "<div>\n",
       "<style scoped>\n",
       "    .dataframe tbody tr th:only-of-type {\n",
       "        vertical-align: middle;\n",
       "    }\n",
       "\n",
       "    .dataframe tbody tr th {\n",
       "        vertical-align: top;\n",
       "    }\n",
       "\n",
       "    .dataframe thead th {\n",
       "        text-align: right;\n",
       "    }\n",
       "</style>\n",
       "<table border=\"1\" class=\"dataframe\">\n",
       "  <thead>\n",
       "    <tr style=\"text-align: right;\">\n",
       "      <th></th>\n",
       "      <th>csv.href</th>\n",
       "      <th>csv.size</th>\n",
       "      <th>csvw.href</th>\n",
       "      <th>csvw.size</th>\n",
       "      <th>xls.href</th>\n",
       "      <th>xls.size</th>\n",
       "      <th>id</th>\n",
       "    </tr>\n",
       "  </thead>\n",
       "  <tbody>\n",
       "    <tr>\n",
       "      <th>0</th>\n",
       "      <td>https://download.beta.ons.gov.uk/downloads/dat...</td>\n",
       "      <td>265571</td>\n",
       "      <td>https://download.beta.ons.gov.uk/downloads/dat...</td>\n",
       "      <td>2779</td>\n",
       "      <td>https://download.beta.ons.gov.uk/downloads/dat...</td>\n",
       "      <td>33265</td>\n",
       "      <td>wellbeing-quarterly</td>\n",
       "    </tr>\n",
       "    <tr>\n",
       "      <th>1</th>\n",
       "      <td>https://download.beta.ons.gov.uk/downloads/dat...</td>\n",
       "      <td>9515176</td>\n",
       "      <td>https://download.beta.ons.gov.uk/downloads/dat...</td>\n",
       "      <td>3542</td>\n",
       "      <td>https://download.beta.ons.gov.uk/downloads/dat...</td>\n",
       "      <td>2250646</td>\n",
       "      <td>wellbeing-local-authority</td>\n",
       "    </tr>\n",
       "    <tr>\n",
       "      <th>2</th>\n",
       "      <td>https://download.beta.ons.gov.uk/downloads/dat...</td>\n",
       "      <td>772791</td>\n",
       "      <td>https://download.beta.ons.gov.uk/downloads/dat...</td>\n",
       "      <td>1830</td>\n",
       "      <td>https://download.beta.ons.gov.uk/downloads/dat...</td>\n",
       "      <td>86858</td>\n",
       "      <td>weekly-deaths-region</td>\n",
       "    </tr>\n",
       "    <tr>\n",
       "      <th>3</th>\n",
       "      <td>https://download.beta.ons.gov.uk/downloads/dat...</td>\n",
       "      <td>49325723</td>\n",
       "      <td>https://download.beta.ons.gov.uk/downloads/dat...</td>\n",
       "      <td>2124</td>\n",
       "      <td>https://download.beta.ons.gov.uk/downloads/dat...</td>\n",
       "      <td>10837647</td>\n",
       "      <td>weekly-deaths-local-authority</td>\n",
       "    </tr>\n",
       "    <tr>\n",
       "      <th>4</th>\n",
       "      <td>https://download.beta.ons.gov.uk/downloads/dat...</td>\n",
       "      <td>1262931</td>\n",
       "      <td>https://download.beta.ons.gov.uk/downloads/dat...</td>\n",
       "      <td>2020</td>\n",
       "      <td>https://download.beta.ons.gov.uk/downloads/dat...</td>\n",
       "      <td>241893</td>\n",
       "      <td>weekly-deaths-health-board</td>\n",
       "    </tr>\n",
       "  </tbody>\n",
       "</table>\n",
       "</div>"
      ],
      "text/plain": [
       "                                            csv.href  csv.size  \\\n",
       "0  https://download.beta.ons.gov.uk/downloads/dat...    265571   \n",
       "1  https://download.beta.ons.gov.uk/downloads/dat...   9515176   \n",
       "2  https://download.beta.ons.gov.uk/downloads/dat...    772791   \n",
       "3  https://download.beta.ons.gov.uk/downloads/dat...  49325723   \n",
       "4  https://download.beta.ons.gov.uk/downloads/dat...   1262931   \n",
       "\n",
       "                                           csvw.href csvw.size  \\\n",
       "0  https://download.beta.ons.gov.uk/downloads/dat...      2779   \n",
       "1  https://download.beta.ons.gov.uk/downloads/dat...      3542   \n",
       "2  https://download.beta.ons.gov.uk/downloads/dat...      1830   \n",
       "3  https://download.beta.ons.gov.uk/downloads/dat...      2124   \n",
       "4  https://download.beta.ons.gov.uk/downloads/dat...      2020   \n",
       "\n",
       "                                            xls.href  xls.size  \\\n",
       "0  https://download.beta.ons.gov.uk/downloads/dat...     33265   \n",
       "1  https://download.beta.ons.gov.uk/downloads/dat...   2250646   \n",
       "2  https://download.beta.ons.gov.uk/downloads/dat...     86858   \n",
       "3  https://download.beta.ons.gov.uk/downloads/dat...  10837647   \n",
       "4  https://download.beta.ons.gov.uk/downloads/dat...    241893   \n",
       "\n",
       "                              id  \n",
       "0            wellbeing-quarterly  \n",
       "1      wellbeing-local-authority  \n",
       "2           weekly-deaths-region  \n",
       "3  weekly-deaths-local-authority  \n",
       "4     weekly-deaths-health-board  "
      ]
     },
     "execution_count": 131,
     "metadata": {},
     "output_type": "execute_result"
    }
   ],
   "source": [
    "dataset_df.head()"
   ]
  },
  {
   "cell_type": "markdown",
   "metadata": {},
   "source": [
    "## 2. Download the CSV File"
   ]
  },
  {
   "cell_type": "code",
   "execution_count": 162,
   "metadata": {},
   "outputs": [],
   "source": [
    "for key, value in dataset_df.iterrows():\n",
    "    if str(value['csv.href']) != \"nan\":\n",
    "        # storage_options = {'User-Agent': 'Mozilla/5.0'}\n",
    "        df = pd.read_csv(value['csv.href'],\n",
    "                    storage_options=headers)\n",
    "        df.to_csv(f\"./data/{value['id']}.csv\")\n",
    "        time.sleep(5)\n"
   ]
  },
  {
   "cell_type": "code",
   "execution_count": null,
   "metadata": {},
   "outputs": [],
   "source": []
  }
 ],
 "metadata": {
  "kernelspec": {
   "display_name": "base",
   "language": "python",
   "name": "python3"
  },
  "language_info": {
   "codemirror_mode": {
    "name": "ipython",
    "version": 3
   },
   "file_extension": ".py",
   "mimetype": "text/x-python",
   "name": "python",
   "nbconvert_exporter": "python",
   "pygments_lexer": "ipython3",
   "version": "3.8.3"
  }
 },
 "nbformat": 4,
 "nbformat_minor": 2
}
