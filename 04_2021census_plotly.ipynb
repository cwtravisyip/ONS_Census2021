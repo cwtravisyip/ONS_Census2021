{
 "cells": [
  {
   "cell_type": "code",
   "execution_count": 1,
   "metadata": {},
   "outputs": [
    {
     "name": "stderr",
     "output_type": "stream",
     "text": [
      "/Users/Tra_FIT/opt/anaconda3/lib/python3.8/site-packages/geopandas/_compat.py:124: UserWarning: The Shapely GEOS version (3.11.2-CAPI-1.17.2) is incompatible with the GEOS version PyGEOS was compiled with (3.10.3-CAPI-1.16.1). Conversions between both will be slow.\n",
      "  warnings.warn(\n",
      "<ipython-input-1-1c5cfe49bbd3>:9: DeprecationWarning: Shapely 2.0 is installed, but because PyGEOS is also installed, GeoPandas still uses PyGEOS by default. However, starting with version 0.14, the default will switch to Shapely. To force to use Shapely 2.0 now, you can either uninstall PyGEOS or set the environment variable USE_PYGEOS=0. You can do this before starting the Python process, or in your code before importing geopandas:\n",
      "\n",
      "import os\n",
      "os.environ['USE_PYGEOS'] = '0'\n",
      "import geopandas\n",
      "\n",
      "In the next release, GeoPandas will switch to using Shapely by default, even if PyGEOS is installed. If you only have PyGEOS installed to get speed-ups, this switch should be smooth. However, if you are using PyGEOS directly (calling PyGEOS functions on geometries from GeoPandas), this will then stop working and you are encouraged to migrate from PyGEOS to Shapely 2.0 (https://shapely.readthedocs.io/en/latest/migration_pygeos.html).\n",
      "  import geopandas as gpd\n"
     ]
    }
   ],
   "source": [
    "import plotly.express as px \n",
    "import plotly.graph_objects as go\n",
    "import plotly.io as pio\n",
    "import matplotlib.pyplot as plt \n",
    "\n",
    "import pandas as pd \n",
    "import numpy as np\n",
    "import os\n",
    "import geopandas as gpd\n",
    "\n",
    "import requests\n",
    "from custom_function import *\n",
    "\n",
    "# define api request header\n",
    "os.environ['user-agent'] = \"censusAPIBot/Version1.0.0 (org email)\"\n",
    "header = {\"user-agent\":os.getenv(\"user-agent\")}"
   ]
  },
  {
   "cell_type": "markdown",
   "metadata": {},
   "source": [
    "## Loading Geography Boundary\n",
    "Using the boundaries shapefile listed on [ONS Open Geography Portal](https://geoportal.statistics.gov.uk), we will load the boundaries and the area code which will be useful when retrieving the Census data. Different dataset has data available at different geography level. In the section below, there is an extensive amount of code loading different geography. Depending on the use case, some geography that are not relevant are commented out. For comparison of the geography level available to the census data, see [Area Type Definition Census 2021](https://www.ons.gov.uk/census/census2021dictionary/areatypedefinitions#:~:text=Lower%20tier%20local%20authorities%20provide,(including%20City%20of%20London.)).\n",
    "\n",
    "There exists multiple lookup table that will help us classify smaller geographical division into to the larger unit. These files, by nature are on-geographical. However, they are only available in the `.geojson` format. Therefore, we will use the `geoPandas` module to parse the data. \n",
    "\n",
    "**Note that using these API, there is a limit that each quuery would only return 1000 rows at maximum.**"
   ]
  },
  {
   "cell_type": "code",
   "execution_count": 2,
   "metadata": {},
   "outputs": [],
   "source": [
    "# load the lookup table\n",
    "lookup_table = gpd.read_file(\"https://services1.arcgis.com/ESMARspQHYMw9BZ9/arcgis/rest/services/OA21_WD22_LTLA22_UTLA22_RGN22_CTRY22_EW_LU_v2/FeatureServer/0/query?outFields=*&where=1%3D1&f=geojson\")"
   ]
  },
  {
   "cell_type": "code",
   "execution_count": 3,
   "metadata": {},
   "outputs": [
    {
     "data": {
      "text/plain": [
       "<Geographic 2D CRS: EPSG:4326>\n",
       "Name: WGS 84\n",
       "Axis Info [ellipsoidal]:\n",
       "- Lat[north]: Geodetic latitude (degree)\n",
       "- Lon[east]: Geodetic longitude (degree)\n",
       "Area of Use:\n",
       "- name: World.\n",
       "- bounds: (-180.0, -90.0, 180.0, 90.0)\n",
       "Datum: World Geodetic System 1984 ensemble\n",
       "- Ellipsoid: WGS 84\n",
       "- Prime Meridian: Greenwich"
      ]
     },
     "execution_count": 3,
     "metadata": {},
     "output_type": "execute_result"
    }
   ],
   "source": [
    "# get the regions of the uk\n",
    "regions_E = gpd.read_file(\"https://services1.arcgis.com/ESMARspQHYMw9BZ9/arcgis/rest/services/Regions_December_2016_UGCB_in_England_2022/FeatureServer/0/query?outFields=*&where=1%3D1&f=geojson\")\n",
    "# check the crs \n",
    "regions_E.crs\n",
    "# reproject regions_E to British National Grid\n",
    "# regions_E = regions_E.to_crs(epsg = 27700)\n"
   ]
  },
  {
   "cell_type": "code",
   "execution_count": 4,
   "metadata": {},
   "outputs": [],
   "source": [
    "# # get the msoa\n",
    "# msoa = gpd.read_file(\"./data/MOSA_2021/\")\n",
    "# # check the crs \n",
    "# msoa.crs"
   ]
  },
  {
   "cell_type": "code",
   "execution_count": 5,
   "metadata": {},
   "outputs": [],
   "source": [
    "# # get the westminster paliametary constituency of the uk\n",
    "# wpc = gpd.read_file(\"https://services1.arcgis.com/ESMARspQHYMw9BZ9/arcgis/rest/services/Westminster_Parliamentary_Constituencies_Dec_2022_UK_BFC/FeatureServer/0/query?outFields=*&where=1%3D1&f=geojson\")\n",
    "# # check the crs\n",
    "# wpc.crs\n",
    "# # reporject wpc to British National Grid\n",
    "# # wpc = wpc.to_crs(epsg = 27700)\n",
    "\n",
    "# # filter for England and Wales only\n",
    "# wpc_EW = wpc[wpc['PCON22CD'].str.contains(\"[EW]\")]\n",
    "\n",
    "# # apply spatial join\n",
    "# wpc_EW = wpc_EW.sjoin(regions_E[['rgn16nm','geometry']],how = \"left\")\n",
    "\n",
    "# # fill in the rgn as Wales \n",
    "# wales_index = wpc_EW['PCON22CD'].str.contains(\"W\")\n",
    "# wpc_EW.loc[wales_index, 'rgn16nm'] = \"Wales\"\n",
    "\n",
    "# # inspect result\n",
    "# wpc_EW.sample(n=10)\n",
    "\n",
    "# # inspect the number of WPC per region\n",
    "# wpc_EW.groupby(\"rgn16nm\").size()"
   ]
  },
  {
   "cell_type": "code",
   "execution_count": 6,
   "metadata": {},
   "outputs": [
    {
     "data": {
      "text/html": [
       "<div>\n",
       "<style scoped>\n",
       "    .dataframe tbody tr th:only-of-type {\n",
       "        vertical-align: middle;\n",
       "    }\n",
       "\n",
       "    .dataframe tbody tr th {\n",
       "        vertical-align: top;\n",
       "    }\n",
       "\n",
       "    .dataframe thead th {\n",
       "        text-align: right;\n",
       "    }\n",
       "</style>\n",
       "<table border=\"1\" class=\"dataframe\">\n",
       "  <thead>\n",
       "    <tr style=\"text-align: right;\">\n",
       "      <th></th>\n",
       "      <th>OBJECTID</th>\n",
       "      <th>lad11cd</th>\n",
       "      <th>lad11cdo</th>\n",
       "      <th>lad11nm</th>\n",
       "      <th>lad11nmw</th>\n",
       "      <th>Shape__Area</th>\n",
       "      <th>Shape__Length</th>\n",
       "      <th>GlobalID</th>\n",
       "      <th>geometry</th>\n",
       "      <th>index_right</th>\n",
       "      <th>rgn16nm</th>\n",
       "    </tr>\n",
       "  </thead>\n",
       "  <tbody>\n",
       "    <tr>\n",
       "      <th>142</th>\n",
       "      <td>143</td>\n",
       "      <td>E07000110</td>\n",
       "      <td>29UH</td>\n",
       "      <td>Maidstone</td>\n",
       "      <td></td>\n",
       "      <td>3.933507e+08</td>\n",
       "      <td>121874.055888</td>\n",
       "      <td>d43e0ff2-046e-4597-a6c1-83c5283ab54c</td>\n",
       "      <td>POLYGON ((0.57099 51.33634, 0.57135 51.33609, ...</td>\n",
       "      <td>7.0</td>\n",
       "      <td>South East</td>\n",
       "    </tr>\n",
       "    <tr>\n",
       "      <th>14</th>\n",
       "      <td>15</td>\n",
       "      <td>E06000015</td>\n",
       "      <td>00FK</td>\n",
       "      <td>Derby</td>\n",
       "      <td></td>\n",
       "      <td>7.803113e+07</td>\n",
       "      <td>50037.612393</td>\n",
       "      <td>7dbd94ca-d724-48d9-aef6-f8c73d2de327</td>\n",
       "      <td>POLYGON ((-1.48073 52.96805, -1.48052 52.96804...</td>\n",
       "      <td>3.0</td>\n",
       "      <td>East Midlands</td>\n",
       "    </tr>\n",
       "    <tr>\n",
       "      <th>192</th>\n",
       "      <td>193</td>\n",
       "      <td>E07000166</td>\n",
       "      <td>36UE</td>\n",
       "      <td>Richmondshire</td>\n",
       "      <td></td>\n",
       "      <td>1.318707e+09</td>\n",
       "      <td>221709.949820</td>\n",
       "      <td>5ebac48e-d658-46a0-bc65-39266b5b1146</td>\n",
       "      <td>POLYGON ((-1.69862 54.53610, -1.69834 54.53608...</td>\n",
       "      <td>2.0</td>\n",
       "      <td>Yorkshire and The Humber</td>\n",
       "    </tr>\n",
       "    <tr>\n",
       "      <th>139</th>\n",
       "      <td>140</td>\n",
       "      <td>E07000107</td>\n",
       "      <td>29UD</td>\n",
       "      <td>Dartford</td>\n",
       "      <td></td>\n",
       "      <td>7.631042e+07</td>\n",
       "      <td>52447.140155</td>\n",
       "      <td>a061523b-c1b5-4bca-98d5-ec3914761170</td>\n",
       "      <td>POLYGON ((0.22803 51.47989, 0.22821 51.47980, ...</td>\n",
       "      <td>7.0</td>\n",
       "      <td>South East</td>\n",
       "    </tr>\n",
       "    <tr>\n",
       "      <th>147</th>\n",
       "      <td>148</td>\n",
       "      <td>E07000115</td>\n",
       "      <td>29UP</td>\n",
       "      <td>Tonbridge and Malling</td>\n",
       "      <td></td>\n",
       "      <td>2.409734e+08</td>\n",
       "      <td>109907.239851</td>\n",
       "      <td>793ce066-cdb1-4a59-a1d0-0014c343287c</td>\n",
       "      <td>POLYGON ((0.47490 51.36070, 0.47568 51.36022, ...</td>\n",
       "      <td>7.0</td>\n",
       "      <td>South East</td>\n",
       "    </tr>\n",
       "    <tr>\n",
       "      <th>320</th>\n",
       "      <td>321</td>\n",
       "      <td>E09000028</td>\n",
       "      <td>00BE</td>\n",
       "      <td>Southwark</td>\n",
       "      <td></td>\n",
       "      <td>2.991344e+07</td>\n",
       "      <td>33627.049876</td>\n",
       "      <td>489d6093-df6b-43f3-a24a-882a08e7eecb</td>\n",
       "      <td>POLYGON ((-0.10556 51.50989, -0.10515 51.50988...</td>\n",
       "      <td>6.0</td>\n",
       "      <td>London</td>\n",
       "    </tr>\n",
       "    <tr>\n",
       "      <th>205</th>\n",
       "      <td>206</td>\n",
       "      <td>E07000179</td>\n",
       "      <td>38UD</td>\n",
       "      <td>South Oxfordshire</td>\n",
       "      <td></td>\n",
       "      <td>6.785388e+08</td>\n",
       "      <td>205266.843703</td>\n",
       "      <td>b24b7a72-d23d-47a9-aad5-49bd90cd13bf</td>\n",
       "      <td>POLYGON ((-1.16598 51.81214, -1.16568 51.81181...</td>\n",
       "      <td>7.0</td>\n",
       "      <td>South East</td>\n",
       "    </tr>\n",
       "    <tr>\n",
       "      <th>297</th>\n",
       "      <td>298</td>\n",
       "      <td>E09000005</td>\n",
       "      <td>00AE</td>\n",
       "      <td>Brent</td>\n",
       "      <td></td>\n",
       "      <td>4.323264e+07</td>\n",
       "      <td>38334.036787</td>\n",
       "      <td>86d76495-459b-47af-ad7f-3d7bd2192450</td>\n",
       "      <td>POLYGON ((-0.26474 51.59818, -0.26425 51.59778...</td>\n",
       "      <td>6.0</td>\n",
       "      <td>London</td>\n",
       "    </tr>\n",
       "    <tr>\n",
       "      <th>169</th>\n",
       "      <td>170</td>\n",
       "      <td>E07000137</td>\n",
       "      <td>32UC</td>\n",
       "      <td>East Lindsey</td>\n",
       "      <td></td>\n",
       "      <td>1.828952e+09</td>\n",
       "      <td>214844.865058</td>\n",
       "      <td>f49fae6c-9497-443c-abbf-bfff7c80ef86</td>\n",
       "      <td>POLYGON ((0.04253 53.52791, 0.04279 53.52788, ...</td>\n",
       "      <td>2.0</td>\n",
       "      <td>Yorkshire and The Humber</td>\n",
       "    </tr>\n",
       "    <tr>\n",
       "      <th>261</th>\n",
       "      <td>262</td>\n",
       "      <td>E08000005</td>\n",
       "      <td>00BQ</td>\n",
       "      <td>Rochdale</td>\n",
       "      <td></td>\n",
       "      <td>1.580815e+08</td>\n",
       "      <td>82432.735190</td>\n",
       "      <td>573fcb32-df9e-45c6-a217-711c6028c964</td>\n",
       "      <td>POLYGON ((-2.13225 53.68405, -2.13136 53.68370...</td>\n",
       "      <td>1.0</td>\n",
       "      <td>North West</td>\n",
       "    </tr>\n",
       "  </tbody>\n",
       "</table>\n",
       "</div>"
      ],
      "text/plain": [
       "     OBJECTID    lad11cd lad11cdo                lad11nm lad11nmw  \\\n",
       "142       143  E07000110     29UH              Maidstone            \n",
       "14         15  E06000015     00FK                  Derby            \n",
       "192       193  E07000166     36UE          Richmondshire            \n",
       "139       140  E07000107     29UD               Dartford            \n",
       "147       148  E07000115     29UP  Tonbridge and Malling            \n",
       "320       321  E09000028     00BE              Southwark            \n",
       "205       206  E07000179     38UD      South Oxfordshire            \n",
       "297       298  E09000005     00AE                  Brent            \n",
       "169       170  E07000137     32UC           East Lindsey            \n",
       "261       262  E08000005     00BQ               Rochdale            \n",
       "\n",
       "      Shape__Area  Shape__Length                              GlobalID  \\\n",
       "142  3.933507e+08  121874.055888  d43e0ff2-046e-4597-a6c1-83c5283ab54c   \n",
       "14   7.803113e+07   50037.612393  7dbd94ca-d724-48d9-aef6-f8c73d2de327   \n",
       "192  1.318707e+09  221709.949820  5ebac48e-d658-46a0-bc65-39266b5b1146   \n",
       "139  7.631042e+07   52447.140155  a061523b-c1b5-4bca-98d5-ec3914761170   \n",
       "147  2.409734e+08  109907.239851  793ce066-cdb1-4a59-a1d0-0014c343287c   \n",
       "320  2.991344e+07   33627.049876  489d6093-df6b-43f3-a24a-882a08e7eecb   \n",
       "205  6.785388e+08  205266.843703  b24b7a72-d23d-47a9-aad5-49bd90cd13bf   \n",
       "297  4.323264e+07   38334.036787  86d76495-459b-47af-ad7f-3d7bd2192450   \n",
       "169  1.828952e+09  214844.865058  f49fae6c-9497-443c-abbf-bfff7c80ef86   \n",
       "261  1.580815e+08   82432.735190  573fcb32-df9e-45c6-a217-711c6028c964   \n",
       "\n",
       "                                              geometry  index_right  \\\n",
       "142  POLYGON ((0.57099 51.33634, 0.57135 51.33609, ...          7.0   \n",
       "14   POLYGON ((-1.48073 52.96805, -1.48052 52.96804...          3.0   \n",
       "192  POLYGON ((-1.69862 54.53610, -1.69834 54.53608...          2.0   \n",
       "139  POLYGON ((0.22803 51.47989, 0.22821 51.47980, ...          7.0   \n",
       "147  POLYGON ((0.47490 51.36070, 0.47568 51.36022, ...          7.0   \n",
       "320  POLYGON ((-0.10556 51.50989, -0.10515 51.50988...          6.0   \n",
       "205  POLYGON ((-1.16598 51.81214, -1.16568 51.81181...          7.0   \n",
       "297  POLYGON ((-0.26474 51.59818, -0.26425 51.59778...          6.0   \n",
       "169  POLYGON ((0.04253 53.52791, 0.04279 53.52788, ...          2.0   \n",
       "261  POLYGON ((-2.13225 53.68405, -2.13136 53.68370...          1.0   \n",
       "\n",
       "                      rgn16nm  \n",
       "142                South East  \n",
       "14              East Midlands  \n",
       "192  Yorkshire and The Humber  \n",
       "139                South East  \n",
       "147                South East  \n",
       "320                    London  \n",
       "205                South East  \n",
       "297                    London  \n",
       "169  Yorkshire and The Humber  \n",
       "261                North West  "
      ]
     },
     "execution_count": 6,
     "metadata": {},
     "output_type": "execute_result"
    }
   ],
   "source": [
    "# load the low tiered local authority boundary\n",
    "ltla = gpd.read_file(\"https://services1.arcgis.com/ESMARspQHYMw9BZ9/arcgis/rest/services/Local_Authority_Districts_December_2011_FEB_EW_2022/FeatureServer/0/query?outFields=*&where=1%3D1&f=geojson\")\n",
    "# check the crs\n",
    "ltla.crs\n",
    "\n",
    "# filter for England and Wales only\n",
    "ltla_EW = ltla[ltla['lad11cd'].str.contains(\"[EW]\")]\n",
    "\n",
    "# spatial join to get the region\n",
    "ltla_EW  = ltla_EW.sjoin(regions_E[['rgn16nm','geometry']],how = \"left\")\n",
    "\n",
    "# fill in for wales\n",
    "wales_ind = ltla_EW['lad11cd'].str.contains(\"W\")\n",
    "ltla_EW.loc[wales_ind, \"rgn16nm\"] = \"Wales\"\n",
    "\n",
    "# inspect the result\n",
    "ltla_EW.sample(n=10)\n"
   ]
  },
  {
   "cell_type": "code",
   "execution_count": 7,
   "metadata": {},
   "outputs": [
    {
     "data": {
      "text/plain": [
       "rgn16nm\n",
       "East Midlands               66\n",
       "East of England             62\n",
       "London                      50\n",
       "North East                  17\n",
       "North West                  50\n",
       "South East                  87\n",
       "South West                  46\n",
       "Wales                       24\n",
       "West Midlands               44\n",
       "Yorkshire and The Humber    42\n",
       "dtype: int64"
      ]
     },
     "execution_count": 7,
     "metadata": {},
     "output_type": "execute_result"
    }
   ],
   "source": [
    "# inspect the number of LTLA per region\n",
    "ltla_EW.groupby(\"rgn16nm\").size()"
   ]
  },
  {
   "cell_type": "markdown",
   "metadata": {},
   "source": [
    "## Request Census API data - LITA\n",
    "First we need to define the list of area code to request.\n",
    "While we should be able to set chunk size to 50 to improve the running time, there API sometimes fails to render data for specific geography. For the sake of convenience, we will compromise on some lost data without too much drag on the running time by setting chunk size to 5."
   ]
  },
  {
   "cell_type": "code",
   "execution_count": 8,
   "metadata": {},
   "outputs": [
    {
     "name": "stdout",
     "output_type": "stream",
     "text": [
      "requesting https://api.beta.ons.gov.uk/v1/datasets/TS060/editions/2021/versions/5/json?area-type=ltla,E06000001,E06000002,E06000003,E06000004,E06000005\n",
      "requesting https://api.beta.ons.gov.uk/v1/datasets/TS060/editions/2021/versions/5/json?area-type=ltla,E06000006,E06000007,E06000008,E06000009,E06000010\n",
      "requesting https://api.beta.ons.gov.uk/v1/datasets/TS060/editions/2021/versions/5/json?area-type=ltla,E06000011,E06000012,E06000013,E06000014,E06000015\n",
      "requesting https://api.beta.ons.gov.uk/v1/datasets/TS060/editions/2021/versions/5/json?area-type=ltla,E06000016,E06000017,E06000018,E06000019,E06000020\n",
      "requesting https://api.beta.ons.gov.uk/v1/datasets/TS060/editions/2021/versions/5/json?area-type=ltla,E06000021,E06000022,E06000023,E06000024,E06000025\n",
      "requesting https://api.beta.ons.gov.uk/v1/datasets/TS060/editions/2021/versions/5/json?area-type=ltla,E06000026,E06000027,E06000028,E06000029,E06000030\n",
      "A 500 error occured when requesting the url\n",
      "requesting https://api.beta.ons.gov.uk/v1/datasets/TS060/editions/2021/versions/5\n",
      "requesting https://api.beta.ons.gov.uk/v1/datasets/TS060/editions/2021/versions/5/json?area-type=ltla,E06000026\n",
      "requesting https://api.beta.ons.gov.uk/v1/datasets/TS060/editions/2021/versions/5/json?area-type=ltla,E06000027\n",
      "requesting https://api.beta.ons.gov.uk/v1/datasets/TS060/editions/2021/versions/5/json?area-type=ltla,E06000028\n",
      "A 500 error occured when requesting the url\n",
      "The API is not able to locate area ltla E06000028\n",
      "requesting https://api.beta.ons.gov.uk/v1/datasets/TS060/editions/2021/versions/5/json?area-type=ltla,E06000029\n",
      "A 500 error occured when requesting the url\n",
      "The API is not able to locate area ltla E06000029\n",
      "requesting https://api.beta.ons.gov.uk/v1/datasets/TS060/editions/2021/versions/5/json?area-type=ltla,E06000030\n",
      "Successfully retrieved datapoint for area ['E06000026', 'E06000027', 'E06000030']\n",
      "['E06000029', 'E06000028'] cannot be loacted\n",
      "requesting https://api.beta.ons.gov.uk/v1/datasets/TS060/editions/2021/versions/5/json?area-type=ltla,E06000031,E06000032,E06000033,E06000034,E06000035\n",
      "requesting https://api.beta.ons.gov.uk/v1/datasets/TS060/editions/2021/versions/5/json?area-type=ltla,E06000036,E06000037,E06000038,E06000039,E06000040\n",
      "requesting https://api.beta.ons.gov.uk/v1/datasets/TS060/editions/2021/versions/5/json?area-type=ltla,E06000041,E06000042,E06000043,E06000044,E06000045\n",
      "requesting https://api.beta.ons.gov.uk/v1/datasets/TS060/editions/2021/versions/5/json?area-type=ltla,E06000046,E06000047,E06000048,E06000049,E06000050\n",
      "A 500 error occured when requesting the url\n",
      "requesting https://api.beta.ons.gov.uk/v1/datasets/TS060/editions/2021/versions/5\n",
      "requesting https://api.beta.ons.gov.uk/v1/datasets/TS060/editions/2021/versions/5/json?area-type=ltla,E06000046\n",
      "requesting https://api.beta.ons.gov.uk/v1/datasets/TS060/editions/2021/versions/5/json?area-type=ltla,E06000047\n",
      "requesting https://api.beta.ons.gov.uk/v1/datasets/TS060/editions/2021/versions/5/json?area-type=ltla,E06000048\n",
      "A 500 error occured when requesting the url\n",
      "The API is not able to locate area ltla E06000048\n",
      "requesting https://api.beta.ons.gov.uk/v1/datasets/TS060/editions/2021/versions/5/json?area-type=ltla,E06000049\n",
      "requesting https://api.beta.ons.gov.uk/v1/datasets/TS060/editions/2021/versions/5/json?area-type=ltla,E06000050\n",
      "Successfully retrieved datapoint for area ['E06000046', 'E06000047', 'E06000049', 'E06000050']\n",
      "['E06000048'] cannot be loacted\n",
      "requesting https://api.beta.ons.gov.uk/v1/datasets/TS060/editions/2021/versions/5/json?area-type=ltla,E06000051,E06000052,E06000053,E06000054,E06000055\n",
      "requesting https://api.beta.ons.gov.uk/v1/datasets/TS060/editions/2021/versions/5/json?area-type=ltla,E06000056,E07000004,E07000005,E07000006,E07000007\n",
      "A 500 error occured when requesting the url\n",
      "requesting https://api.beta.ons.gov.uk/v1/datasets/TS060/editions/2021/versions/5\n",
      "requesting https://api.beta.ons.gov.uk/v1/datasets/TS060/editions/2021/versions/5/json?area-type=ltla,E06000056\n",
      "requesting https://api.beta.ons.gov.uk/v1/datasets/TS060/editions/2021/versions/5/json?area-type=ltla,E07000004\n",
      "A 500 error occured when requesting the url\n",
      "The API is not able to locate area ltla E07000004\n",
      "requesting https://api.beta.ons.gov.uk/v1/datasets/TS060/editions/2021/versions/5/json?area-type=ltla,E07000005\n",
      "A 500 error occured when requesting the url\n",
      "The API is not able to locate area ltla E07000005\n",
      "requesting https://api.beta.ons.gov.uk/v1/datasets/TS060/editions/2021/versions/5/json?area-type=ltla,E07000006\n",
      "A 500 error occured when requesting the url\n",
      "The API is not able to locate area ltla E07000006\n",
      "requesting https://api.beta.ons.gov.uk/v1/datasets/TS060/editions/2021/versions/5/json?area-type=ltla,E07000007\n",
      "A 500 error occured when requesting the url\n",
      "The API is not able to locate area ltla E07000007\n",
      "Successfully retrieved datapoint for area ['E06000056']\n",
      "['E07000004', 'E07000006', 'E07000007', 'E07000005'] cannot be loacted\n",
      "requesting https://api.beta.ons.gov.uk/v1/datasets/TS060/editions/2021/versions/5/json?area-type=ltla,E07000008,E07000009,E07000010,E07000011,E07000012\n",
      "requesting https://api.beta.ons.gov.uk/v1/datasets/TS060/editions/2021/versions/5/json?area-type=ltla,E07000026,E07000027,E07000028,E07000029,E07000030\n",
      "requesting https://api.beta.ons.gov.uk/v1/datasets/TS060/editions/2021/versions/5/json?area-type=ltla,E07000031,E07000032,E07000033,E07000034,E07000035\n",
      "requesting https://api.beta.ons.gov.uk/v1/datasets/TS060/editions/2021/versions/5/json?area-type=ltla,E07000036,E07000037,E07000038,E07000039,E07000040\n",
      "requesting https://api.beta.ons.gov.uk/v1/datasets/TS060/editions/2021/versions/5/json?area-type=ltla,E07000041,E07000042,E07000043,E07000044,E07000045\n",
      "requesting https://api.beta.ons.gov.uk/v1/datasets/TS060/editions/2021/versions/5/json?area-type=ltla,E07000046,E07000047,E07000048,E07000049,E07000050\n",
      "A 500 error occured when requesting the url\n",
      "requesting https://api.beta.ons.gov.uk/v1/datasets/TS060/editions/2021/versions/5\n",
      "requesting https://api.beta.ons.gov.uk/v1/datasets/TS060/editions/2021/versions/5/json?area-type=ltla,E07000046\n",
      "requesting https://api.beta.ons.gov.uk/v1/datasets/TS060/editions/2021/versions/5/json?area-type=ltla,E07000047\n",
      "requesting https://api.beta.ons.gov.uk/v1/datasets/TS060/editions/2021/versions/5/json?area-type=ltla,E07000048\n",
      "A 500 error occured when requesting the url\n",
      "The API is not able to locate area ltla E07000048\n",
      "requesting https://api.beta.ons.gov.uk/v1/datasets/TS060/editions/2021/versions/5/json?area-type=ltla,E07000049\n",
      "A 500 error occured when requesting the url\n",
      "The API is not able to locate area ltla E07000049\n",
      "requesting https://api.beta.ons.gov.uk/v1/datasets/TS060/editions/2021/versions/5/json?area-type=ltla,E07000050\n",
      "A 500 error occured when requesting the url\n",
      "The API is not able to locate area ltla E07000050\n",
      "Successfully retrieved datapoint for area ['E07000046', 'E07000047']\n",
      "['E07000050', 'E07000048', 'E07000049'] cannot be loacted\n",
      "requesting https://api.beta.ons.gov.uk/v1/datasets/TS060/editions/2021/versions/5/json?area-type=ltla,E07000051,E07000052,E07000053,E07000061,E07000062\n",
      "A 500 error occured when requesting the url\n",
      "requesting https://api.beta.ons.gov.uk/v1/datasets/TS060/editions/2021/versions/5\n",
      "requesting https://api.beta.ons.gov.uk/v1/datasets/TS060/editions/2021/versions/5/json?area-type=ltla,E07000051\n",
      "A 500 error occured when requesting the url\n",
      "The API is not able to locate area ltla E07000051\n",
      "requesting https://api.beta.ons.gov.uk/v1/datasets/TS060/editions/2021/versions/5/json?area-type=ltla,E07000052\n",
      "A 500 error occured when requesting the url\n",
      "The API is not able to locate area ltla E07000052\n",
      "requesting https://api.beta.ons.gov.uk/v1/datasets/TS060/editions/2021/versions/5/json?area-type=ltla,E07000053\n",
      "A 500 error occured when requesting the url\n",
      "The API is not able to locate area ltla E07000053\n",
      "requesting https://api.beta.ons.gov.uk/v1/datasets/TS060/editions/2021/versions/5/json?area-type=ltla,E07000061\n",
      "requesting https://api.beta.ons.gov.uk/v1/datasets/TS060/editions/2021/versions/5/json?area-type=ltla,E07000062\n",
      "Successfully retrieved datapoint for area ['E07000061', 'E07000062']\n",
      "['E07000052', 'E07000053', 'E07000051'] cannot be loacted\n",
      "requesting https://api.beta.ons.gov.uk/v1/datasets/TS060/editions/2021/versions/5/json?area-type=ltla,E07000063,E07000064,E07000065,E07000066,E07000067\n",
      "requesting https://api.beta.ons.gov.uk/v1/datasets/TS060/editions/2021/versions/5/json?area-type=ltla,E07000068,E07000069,E07000070,E07000071,E07000072\n",
      "requesting https://api.beta.ons.gov.uk/v1/datasets/TS060/editions/2021/versions/5/json?area-type=ltla,E07000073,E07000074,E07000075,E07000076,E07000077\n",
      "requesting https://api.beta.ons.gov.uk/v1/datasets/TS060/editions/2021/versions/5/json?area-type=ltla,E07000078,E07000079,E07000080,E07000081,E07000082\n",
      "requesting https://api.beta.ons.gov.uk/v1/datasets/TS060/editions/2021/versions/5/json?area-type=ltla,E07000083,E07000084,E07000085,E07000086,E07000087\n",
      "requesting https://api.beta.ons.gov.uk/v1/datasets/TS060/editions/2021/versions/5/json?area-type=ltla,E07000088,E07000089,E07000090,E07000091,E07000092\n",
      "requesting https://api.beta.ons.gov.uk/v1/datasets/TS060/editions/2021/versions/5/json?area-type=ltla,E07000093,E07000094,E07000095,E07000096,E07000097\n",
      "A 500 error occured when requesting the url\n",
      "requesting https://api.beta.ons.gov.uk/v1/datasets/TS060/editions/2021/versions/5\n",
      "requesting https://api.beta.ons.gov.uk/v1/datasets/TS060/editions/2021/versions/5/json?area-type=ltla,E07000093\n",
      "requesting https://api.beta.ons.gov.uk/v1/datasets/TS060/editions/2021/versions/5/json?area-type=ltla,E07000094\n",
      "requesting https://api.beta.ons.gov.uk/v1/datasets/TS060/editions/2021/versions/5/json?area-type=ltla,E07000095\n",
      "requesting https://api.beta.ons.gov.uk/v1/datasets/TS060/editions/2021/versions/5/json?area-type=ltla,E07000096\n",
      "requesting https://api.beta.ons.gov.uk/v1/datasets/TS060/editions/2021/versions/5/json?area-type=ltla,E07000097\n",
      "A 500 error occured when requesting the url\n",
      "The API is not able to locate area ltla E07000097\n",
      "Successfully retrieved datapoint for area ['E07000093', 'E07000094', 'E07000095', 'E07000096']\n",
      "['E07000097'] cannot be loacted\n",
      "requesting https://api.beta.ons.gov.uk/v1/datasets/TS060/editions/2021/versions/5/json?area-type=ltla,E07000098,E07000099,E07000100,E07000101,E07000102\n",
      "A 500 error occured when requesting the url\n",
      "requesting https://api.beta.ons.gov.uk/v1/datasets/TS060/editions/2021/versions/5\n",
      "requesting https://api.beta.ons.gov.uk/v1/datasets/TS060/editions/2021/versions/5/json?area-type=ltla,E07000098\n",
      "requesting https://api.beta.ons.gov.uk/v1/datasets/TS060/editions/2021/versions/5/json?area-type=ltla,E07000099\n",
      "requesting https://api.beta.ons.gov.uk/v1/datasets/TS060/editions/2021/versions/5/json?area-type=ltla,E07000100\n",
      "A 500 error occured when requesting the url\n",
      "The API is not able to locate area ltla E07000100\n",
      "requesting https://api.beta.ons.gov.uk/v1/datasets/TS060/editions/2021/versions/5/json?area-type=ltla,E07000101\n",
      "A 500 error occured when requesting the url\n",
      "The API is not able to locate area ltla E07000101\n",
      "requesting https://api.beta.ons.gov.uk/v1/datasets/TS060/editions/2021/versions/5/json?area-type=ltla,E07000102\n",
      "Successfully retrieved datapoint for area ['E07000098', 'E07000099', 'E07000102']\n",
      "['E07000100', 'E07000101'] cannot be loacted\n",
      "requesting https://api.beta.ons.gov.uk/v1/datasets/TS060/editions/2021/versions/5/json?area-type=ltla,E07000103,E07000104,E07000105,E07000106,E07000107\n",
      "A 500 error occured when requesting the url\n",
      "requesting https://api.beta.ons.gov.uk/v1/datasets/TS060/editions/2021/versions/5\n",
      "requesting https://api.beta.ons.gov.uk/v1/datasets/TS060/editions/2021/versions/5/json?area-type=ltla,E07000103\n",
      "requesting https://api.beta.ons.gov.uk/v1/datasets/TS060/editions/2021/versions/5/json?area-type=ltla,E07000104\n",
      "A 500 error occured when requesting the url\n",
      "The API is not able to locate area ltla E07000104\n",
      "requesting https://api.beta.ons.gov.uk/v1/datasets/TS060/editions/2021/versions/5/json?area-type=ltla,E07000105\n",
      "requesting https://api.beta.ons.gov.uk/v1/datasets/TS060/editions/2021/versions/5/json?area-type=ltla,E07000106\n",
      "requesting https://api.beta.ons.gov.uk/v1/datasets/TS060/editions/2021/versions/5/json?area-type=ltla,E07000107\n",
      "Successfully retrieved datapoint for area ['E07000103', 'E07000105', 'E07000106', 'E07000107']\n",
      "['E07000104'] cannot be loacted\n",
      "requesting https://api.beta.ons.gov.uk/v1/datasets/TS060/editions/2021/versions/5/json?area-type=ltla,E07000108,E07000109,E07000110,E07000111,E07000112\n",
      "requesting https://api.beta.ons.gov.uk/v1/datasets/TS060/editions/2021/versions/5/json?area-type=ltla,E07000113,E07000114,E07000115,E07000116,E07000117\n",
      "requesting https://api.beta.ons.gov.uk/v1/datasets/TS060/editions/2021/versions/5/json?area-type=ltla,E07000118,E07000119,E07000120,E07000121,E07000122\n",
      "requesting https://api.beta.ons.gov.uk/v1/datasets/TS060/editions/2021/versions/5/json?area-type=ltla,E07000123,E07000124,E07000125,E07000126,E07000127\n",
      "requesting https://api.beta.ons.gov.uk/v1/datasets/TS060/editions/2021/versions/5/json?area-type=ltla,E07000128,E07000129,E07000130,E07000131,E07000132\n",
      "requesting https://api.beta.ons.gov.uk/v1/datasets/TS060/editions/2021/versions/5/json?area-type=ltla,E07000133,E07000134,E07000135,E07000136,E07000137\n",
      "requesting https://api.beta.ons.gov.uk/v1/datasets/TS060/editions/2021/versions/5/json?area-type=ltla,E07000138,E07000139,E07000140,E07000141,E07000142\n",
      "requesting https://api.beta.ons.gov.uk/v1/datasets/TS060/editions/2021/versions/5/json?area-type=ltla,E07000143,E07000144,E07000145,E07000146,E07000147\n",
      "requesting https://api.beta.ons.gov.uk/v1/datasets/TS060/editions/2021/versions/5/json?area-type=ltla,E07000148,E07000149,E07000150,E07000151,E07000152\n",
      "A 500 error occured when requesting the url\n",
      "requesting https://api.beta.ons.gov.uk/v1/datasets/TS060/editions/2021/versions/5\n",
      "requesting https://api.beta.ons.gov.uk/v1/datasets/TS060/editions/2021/versions/5/json?area-type=ltla,E07000148\n",
      "requesting https://api.beta.ons.gov.uk/v1/datasets/TS060/editions/2021/versions/5/json?area-type=ltla,E07000149\n",
      "requesting https://api.beta.ons.gov.uk/v1/datasets/TS060/editions/2021/versions/5/json?area-type=ltla,E07000150\n",
      "A 500 error occured when requesting the url\n",
      "The API is not able to locate area ltla E07000150\n",
      "requesting https://api.beta.ons.gov.uk/v1/datasets/TS060/editions/2021/versions/5/json?area-type=ltla,E07000151\n",
      "A 500 error occured when requesting the url\n",
      "The API is not able to locate area ltla E07000151\n",
      "requesting https://api.beta.ons.gov.uk/v1/datasets/TS060/editions/2021/versions/5/json?area-type=ltla,E07000152\n",
      "A 500 error occured when requesting the url\n",
      "The API is not able to locate area ltla E07000152\n",
      "Successfully retrieved datapoint for area ['E07000148', 'E07000149']\n",
      "['E07000151', 'E07000152', 'E07000150'] cannot be loacted\n",
      "requesting https://api.beta.ons.gov.uk/v1/datasets/TS060/editions/2021/versions/5/json?area-type=ltla,E07000153,E07000154,E07000155,E07000156,E07000163\n",
      "A 500 error occured when requesting the url\n",
      "requesting https://api.beta.ons.gov.uk/v1/datasets/TS060/editions/2021/versions/5\n",
      "requesting https://api.beta.ons.gov.uk/v1/datasets/TS060/editions/2021/versions/5/json?area-type=ltla,E07000153\n",
      "A 500 error occured when requesting the url\n",
      "The API is not able to locate area ltla E07000153\n",
      "requesting https://api.beta.ons.gov.uk/v1/datasets/TS060/editions/2021/versions/5/json?area-type=ltla,E07000154\n",
      "A 500 error occured when requesting the url\n",
      "The API is not able to locate area ltla E07000154\n",
      "requesting https://api.beta.ons.gov.uk/v1/datasets/TS060/editions/2021/versions/5/json?area-type=ltla,E07000155\n",
      "A 500 error occured when requesting the url\n",
      "The API is not able to locate area ltla E07000155\n",
      "requesting https://api.beta.ons.gov.uk/v1/datasets/TS060/editions/2021/versions/5/json?area-type=ltla,E07000156\n",
      "A 500 error occured when requesting the url\n",
      "The API is not able to locate area ltla E07000156\n",
      "requesting https://api.beta.ons.gov.uk/v1/datasets/TS060/editions/2021/versions/5/json?area-type=ltla,E07000163\n",
      "Successfully retrieved datapoint for area ['E07000163']\n",
      "['E07000153', 'E07000155', 'E07000154', 'E07000156'] cannot be loacted\n",
      "requesting https://api.beta.ons.gov.uk/v1/datasets/TS060/editions/2021/versions/5/json?area-type=ltla,E07000164,E07000165,E07000166,E07000167,E07000168\n",
      "requesting https://api.beta.ons.gov.uk/v1/datasets/TS060/editions/2021/versions/5/json?area-type=ltla,E07000169,E07000170,E07000171,E07000172,E07000173\n",
      "requesting https://api.beta.ons.gov.uk/v1/datasets/TS060/editions/2021/versions/5/json?area-type=ltla,E07000174,E07000175,E07000176,E07000177,E07000178\n",
      "requesting https://api.beta.ons.gov.uk/v1/datasets/TS060/editions/2021/versions/5/json?area-type=ltla,E07000179,E07000180,E07000181,E07000187,E07000188\n",
      "requesting https://api.beta.ons.gov.uk/v1/datasets/TS060/editions/2021/versions/5/json?area-type=ltla,E07000189,E07000190,E07000191,E07000192,E07000193\n",
      "A 500 error occured when requesting the url\n",
      "requesting https://api.beta.ons.gov.uk/v1/datasets/TS060/editions/2021/versions/5\n",
      "requesting https://api.beta.ons.gov.uk/v1/datasets/TS060/editions/2021/versions/5/json?area-type=ltla,E07000189\n",
      "requesting https://api.beta.ons.gov.uk/v1/datasets/TS060/editions/2021/versions/5/json?area-type=ltla,E07000190\n",
      "A 500 error occured when requesting the url\n",
      "The API is not able to locate area ltla E07000190\n",
      "requesting https://api.beta.ons.gov.uk/v1/datasets/TS060/editions/2021/versions/5/json?area-type=ltla,E07000191\n",
      "A 500 error occured when requesting the url\n",
      "The API is not able to locate area ltla E07000191\n",
      "requesting https://api.beta.ons.gov.uk/v1/datasets/TS060/editions/2021/versions/5/json?area-type=ltla,E07000192\n",
      "requesting https://api.beta.ons.gov.uk/v1/datasets/TS060/editions/2021/versions/5/json?area-type=ltla,E07000193\n",
      "Successfully retrieved datapoint for area ['E07000189', 'E07000192', 'E07000193']\n",
      "['E07000190', 'E07000191'] cannot be loacted\n",
      "requesting https://api.beta.ons.gov.uk/v1/datasets/TS060/editions/2021/versions/5/json?area-type=ltla,E07000194,E07000195,E07000196,E07000197,E07000198\n",
      "requesting https://api.beta.ons.gov.uk/v1/datasets/TS060/editions/2021/versions/5/json?area-type=ltla,E07000199,E07000200,E07000201,E07000202,E07000203\n",
      "A 500 error occured when requesting the url\n",
      "requesting https://api.beta.ons.gov.uk/v1/datasets/TS060/editions/2021/versions/5\n",
      "requesting https://api.beta.ons.gov.uk/v1/datasets/TS060/editions/2021/versions/5/json?area-type=ltla,E07000199\n",
      "requesting https://api.beta.ons.gov.uk/v1/datasets/TS060/editions/2021/versions/5/json?area-type=ltla,E07000200\n",
      "requesting https://api.beta.ons.gov.uk/v1/datasets/TS060/editions/2021/versions/5/json?area-type=ltla,E07000201\n",
      "A 500 error occured when requesting the url\n",
      "The API is not able to locate area ltla E07000201\n",
      "requesting https://api.beta.ons.gov.uk/v1/datasets/TS060/editions/2021/versions/5/json?area-type=ltla,E07000202\n",
      "requesting https://api.beta.ons.gov.uk/v1/datasets/TS060/editions/2021/versions/5/json?area-type=ltla,E07000203\n",
      "Successfully retrieved datapoint for area ['E07000199', 'E07000200', 'E07000202', 'E07000203']\n",
      "['E07000201'] cannot be loacted\n",
      "requesting https://api.beta.ons.gov.uk/v1/datasets/TS060/editions/2021/versions/5/json?area-type=ltla,E07000204,E07000205,E07000206,E07000207,E07000208\n",
      "A 500 error occured when requesting the url\n",
      "requesting https://api.beta.ons.gov.uk/v1/datasets/TS060/editions/2021/versions/5\n",
      "requesting https://api.beta.ons.gov.uk/v1/datasets/TS060/editions/2021/versions/5/json?area-type=ltla,E07000204\n",
      "A 500 error occured when requesting the url\n",
      "The API is not able to locate area ltla E07000204\n",
      "requesting https://api.beta.ons.gov.uk/v1/datasets/TS060/editions/2021/versions/5/json?area-type=ltla,E07000205\n",
      "A 500 error occured when requesting the url\n",
      "The API is not able to locate area ltla E07000205\n",
      "requesting https://api.beta.ons.gov.uk/v1/datasets/TS060/editions/2021/versions/5/json?area-type=ltla,E07000206\n",
      "A 500 error occured when requesting the url\n",
      "The API is not able to locate area ltla E07000206\n",
      "requesting https://api.beta.ons.gov.uk/v1/datasets/TS060/editions/2021/versions/5/json?area-type=ltla,E07000207\n",
      "requesting https://api.beta.ons.gov.uk/v1/datasets/TS060/editions/2021/versions/5/json?area-type=ltla,E07000208\n",
      "Successfully retrieved datapoint for area ['E07000207', 'E07000208']\n",
      "['E07000205', 'E07000204', 'E07000206'] cannot be loacted\n",
      "requesting https://api.beta.ons.gov.uk/v1/datasets/TS060/editions/2021/versions/5/json?area-type=ltla,E07000209,E07000210,E07000211,E07000212,E07000213\n",
      "requesting https://api.beta.ons.gov.uk/v1/datasets/TS060/editions/2021/versions/5/json?area-type=ltla,E07000214,E07000215,E07000216,E07000217,E07000218\n",
      "requesting https://api.beta.ons.gov.uk/v1/datasets/TS060/editions/2021/versions/5/json?area-type=ltla,E07000219,E07000220,E07000221,E07000222,E07000223\n",
      "requesting https://api.beta.ons.gov.uk/v1/datasets/TS060/editions/2021/versions/5/json?area-type=ltla,E07000224,E07000225,E07000226,E07000227,E07000228\n",
      "requesting https://api.beta.ons.gov.uk/v1/datasets/TS060/editions/2021/versions/5/json?area-type=ltla,E07000229,E07000234,E07000235,E07000236,E07000237\n",
      "requesting https://api.beta.ons.gov.uk/v1/datasets/TS060/editions/2021/versions/5/json?area-type=ltla,E07000238,E07000239,E08000001,E08000002,E08000003\n",
      "requesting https://api.beta.ons.gov.uk/v1/datasets/TS060/editions/2021/versions/5/json?area-type=ltla,E08000004,E08000005,E08000006,E08000007,E08000008\n",
      "requesting https://api.beta.ons.gov.uk/v1/datasets/TS060/editions/2021/versions/5/json?area-type=ltla,E08000009,E08000010,E08000011,E08000012,E08000013\n",
      "requesting https://api.beta.ons.gov.uk/v1/datasets/TS060/editions/2021/versions/5/json?area-type=ltla,E08000014,E08000015,E08000016,E08000017,E08000018\n",
      "requesting https://api.beta.ons.gov.uk/v1/datasets/TS060/editions/2021/versions/5/json?area-type=ltla,E08000019,E08000020,E08000021,E08000022,E08000023\n",
      "A 500 error occured when requesting the url\n",
      "requesting https://api.beta.ons.gov.uk/v1/datasets/TS060/editions/2021/versions/5\n",
      "requesting https://api.beta.ons.gov.uk/v1/datasets/TS060/editions/2021/versions/5/json?area-type=ltla,E08000019\n",
      "requesting https://api.beta.ons.gov.uk/v1/datasets/TS060/editions/2021/versions/5/json?area-type=ltla,E08000020\n",
      "A 500 error occured when requesting the url\n",
      "The API is not able to locate area ltla E08000020\n",
      "requesting https://api.beta.ons.gov.uk/v1/datasets/TS060/editions/2021/versions/5/json?area-type=ltla,E08000021\n",
      "requesting https://api.beta.ons.gov.uk/v1/datasets/TS060/editions/2021/versions/5/json?area-type=ltla,E08000022\n",
      "requesting https://api.beta.ons.gov.uk/v1/datasets/TS060/editions/2021/versions/5/json?area-type=ltla,E08000023\n",
      "Successfully retrieved datapoint for area ['E08000019', 'E08000021', 'E08000022', 'E08000023']\n",
      "['E08000020'] cannot be loacted\n",
      "requesting https://api.beta.ons.gov.uk/v1/datasets/TS060/editions/2021/versions/5/json?area-type=ltla,E08000024,E08000025,E08000026,E08000027,E08000028\n",
      "requesting https://api.beta.ons.gov.uk/v1/datasets/TS060/editions/2021/versions/5/json?area-type=ltla,E08000029,E08000030,E08000031,E08000032,E08000033\n",
      "requesting https://api.beta.ons.gov.uk/v1/datasets/TS060/editions/2021/versions/5/json?area-type=ltla,E08000034,E08000035,E08000036,E09000001,E09000002\n",
      "requesting https://api.beta.ons.gov.uk/v1/datasets/TS060/editions/2021/versions/5/json?area-type=ltla,E09000003,E09000004,E09000005,E09000006,E09000007\n",
      "requesting https://api.beta.ons.gov.uk/v1/datasets/TS060/editions/2021/versions/5/json?area-type=ltla,E09000008,E09000009,E09000010,E09000011,E09000012\n",
      "requesting https://api.beta.ons.gov.uk/v1/datasets/TS060/editions/2021/versions/5/json?area-type=ltla,E09000013,E09000014,E09000015,E09000016,E09000017\n",
      "requesting https://api.beta.ons.gov.uk/v1/datasets/TS060/editions/2021/versions/5/json?area-type=ltla,E09000018,E09000019,E09000020,E09000021,E09000022\n",
      "requesting https://api.beta.ons.gov.uk/v1/datasets/TS060/editions/2021/versions/5/json?area-type=ltla,E09000023,E09000024,E09000025,E09000026,E09000027\n",
      "requesting https://api.beta.ons.gov.uk/v1/datasets/TS060/editions/2021/versions/5/json?area-type=ltla,E09000028,E09000029,E09000030,E09000031,E09000032\n",
      "requesting https://api.beta.ons.gov.uk/v1/datasets/TS060/editions/2021/versions/5/json?area-type=ltla,E09000033,W06000001,W06000002,W06000003,W06000004\n",
      "requesting https://api.beta.ons.gov.uk/v1/datasets/TS060/editions/2021/versions/5/json?area-type=ltla,W06000005,W06000006,W06000008,W06000009,W06000010\n",
      "requesting https://api.beta.ons.gov.uk/v1/datasets/TS060/editions/2021/versions/5/json?area-type=ltla,W06000011,W06000012,W06000013,W06000014,W06000015\n",
      "requesting https://api.beta.ons.gov.uk/v1/datasets/TS060/editions/2021/versions/5/json?area-type=ltla,W06000016,W06000018,W06000019,W06000020\n",
      "requesting https://api.beta.ons.gov.uk/v1/datasets/TS060/editions/2021/versions/5/json?area-type=ltla,W06000021,W06000022,W06000023,W06000024\n"
     ]
    }
   ],
   "source": [
    "# initialize the for loop\n",
    "area_codes = list(ltla['lad11cd'])\n",
    "area_type = \"ltla\"\n",
    "chunksize = 5\n",
    "n = 0\n",
    "n_chunks = np.ceil(len(area_codes)/ chunksize)\n",
    "area_chunks = np.array_split(area_codes, n_chunks)\n",
    "\n",
    "dataset_id = \"TS060\"\n",
    "version = 5\n",
    "ts060 = pd.DataFrame()\n",
    "\n",
    "for areas in area_chunks:\n",
    "    # parse th chunk of area code\n",
    "    new_data = requests_census2021_api(area_code = areas,area_type=area_type, datasetId=dataset_id, version = version)\n",
    "    ts060 = pd.concat([ts060, new_data],ignore_index = True)\n"
   ]
  },
  {
   "cell_type": "code",
   "execution_count": 9,
   "metadata": {},
   "outputs": [
    {
     "data": {
      "text/html": [
       "<div>\n",
       "<style scoped>\n",
       "    .dataframe tbody tr th:only-of-type {\n",
       "        vertical-align: middle;\n",
       "    }\n",
       "\n",
       "    .dataframe tbody tr th {\n",
       "        vertical-align: top;\n",
       "    }\n",
       "\n",
       "    .dataframe thead th {\n",
       "        text-align: right;\n",
       "    }\n",
       "</style>\n",
       "<table border=\"1\" class=\"dataframe\">\n",
       "  <thead>\n",
       "    <tr style=\"text-align: right;\">\n",
       "      <th></th>\n",
       "      <th>href</th>\n",
       "      <th>id</th>\n",
       "      <th>label</th>\n",
       "      <th>Does not apply</th>\n",
       "      <th>01 Crop and animal production, hunting and related service activities</th>\n",
       "      <th>02 Forestry and logging</th>\n",
       "      <th>03 Fishing and aquaculture</th>\n",
       "      <th>05 Mining of coal and lignite</th>\n",
       "      <th>06 Extraction of crude petroleum and natural gas</th>\n",
       "      <th>07 Mining of metal ores</th>\n",
       "      <th>...</th>\n",
       "      <th>90 Creative, arts and entertainment activities</th>\n",
       "      <th>91 Libraries, archives, museums and other cultural activities</th>\n",
       "      <th>92 Gambling and betting activities</th>\n",
       "      <th>93 Sports activities and amusement and recreation activities</th>\n",
       "      <th>94 Activities of membership organisations</th>\n",
       "      <th>95 Repair of computers and personal and household goods</th>\n",
       "      <th>96 Other personal service activities</th>\n",
       "      <th>97 Activities of households as employers of domestic personnel</th>\n",
       "      <th>98 Undifferentiated goods- and services-producing activities of private households for own use</th>\n",
       "      <th>99 Activities of extraterritorial organisations and bodies</th>\n",
       "    </tr>\n",
       "  </thead>\n",
       "  <tbody>\n",
       "    <tr>\n",
       "      <th>0</th>\n",
       "      <td></td>\n",
       "      <td>E06000001</td>\n",
       "      <td>Hartlepool</td>\n",
       "      <td>54589</td>\n",
       "      <td>117</td>\n",
       "      <td>0</td>\n",
       "      <td>32</td>\n",
       "      <td>5</td>\n",
       "      <td>401</td>\n",
       "      <td>2</td>\n",
       "      <td>...</td>\n",
       "      <td>139</td>\n",
       "      <td>61</td>\n",
       "      <td>113</td>\n",
       "      <td>277</td>\n",
       "      <td>145</td>\n",
       "      <td>22</td>\n",
       "      <td>575</td>\n",
       "      <td>8</td>\n",
       "      <td>0</td>\n",
       "      <td>1</td>\n",
       "    </tr>\n",
       "    <tr>\n",
       "      <th>1</th>\n",
       "      <td></td>\n",
       "      <td>E06000002</td>\n",
       "      <td>Middlesbrough</td>\n",
       "      <td>87490</td>\n",
       "      <td>75</td>\n",
       "      <td>3</td>\n",
       "      <td>4</td>\n",
       "      <td>5</td>\n",
       "      <td>531</td>\n",
       "      <td>3</td>\n",
       "      <td>...</td>\n",
       "      <td>209</td>\n",
       "      <td>44</td>\n",
       "      <td>138</td>\n",
       "      <td>395</td>\n",
       "      <td>238</td>\n",
       "      <td>48</td>\n",
       "      <td>897</td>\n",
       "      <td>9</td>\n",
       "      <td>0</td>\n",
       "      <td>1</td>\n",
       "    </tr>\n",
       "    <tr>\n",
       "      <th>2</th>\n",
       "      <td></td>\n",
       "      <td>E06000003</td>\n",
       "      <td>Redcar and Cleveland</td>\n",
       "      <td>80910</td>\n",
       "      <td>241</td>\n",
       "      <td>9</td>\n",
       "      <td>33</td>\n",
       "      <td>70</td>\n",
       "      <td>657</td>\n",
       "      <td>13</td>\n",
       "      <td>...</td>\n",
       "      <td>246</td>\n",
       "      <td>113</td>\n",
       "      <td>134</td>\n",
       "      <td>503</td>\n",
       "      <td>174</td>\n",
       "      <td>51</td>\n",
       "      <td>1045</td>\n",
       "      <td>14</td>\n",
       "      <td>0</td>\n",
       "      <td>2</td>\n",
       "    </tr>\n",
       "    <tr>\n",
       "      <th>3</th>\n",
       "      <td></td>\n",
       "      <td>E06000004</td>\n",
       "      <td>Stockton-on-Tees</td>\n",
       "      <td>110152</td>\n",
       "      <td>245</td>\n",
       "      <td>7</td>\n",
       "      <td>7</td>\n",
       "      <td>9</td>\n",
       "      <td>863</td>\n",
       "      <td>5</td>\n",
       "      <td>...</td>\n",
       "      <td>351</td>\n",
       "      <td>94</td>\n",
       "      <td>211</td>\n",
       "      <td>790</td>\n",
       "      <td>297</td>\n",
       "      <td>44</td>\n",
       "      <td>1429</td>\n",
       "      <td>11</td>\n",
       "      <td>0</td>\n",
       "      <td>2</td>\n",
       "    </tr>\n",
       "    <tr>\n",
       "      <th>4</th>\n",
       "      <td></td>\n",
       "      <td>E06000005</td>\n",
       "      <td>Darlington</td>\n",
       "      <td>58503</td>\n",
       "      <td>297</td>\n",
       "      <td>12</td>\n",
       "      <td>2</td>\n",
       "      <td>2</td>\n",
       "      <td>107</td>\n",
       "      <td>0</td>\n",
       "      <td>...</td>\n",
       "      <td>201</td>\n",
       "      <td>75</td>\n",
       "      <td>61</td>\n",
       "      <td>466</td>\n",
       "      <td>190</td>\n",
       "      <td>56</td>\n",
       "      <td>773</td>\n",
       "      <td>12</td>\n",
       "      <td>0</td>\n",
       "      <td>2</td>\n",
       "    </tr>\n",
       "  </tbody>\n",
       "</table>\n",
       "<p>5 rows × 91 columns</p>\n",
       "</div>"
      ],
      "text/plain": [
       "  href         id                 label  Does not apply  \\\n",
       "0       E06000001            Hartlepool           54589   \n",
       "1       E06000002         Middlesbrough           87490   \n",
       "2       E06000003  Redcar and Cleveland           80910   \n",
       "3       E06000004      Stockton-on-Tees          110152   \n",
       "4       E06000005            Darlington           58503   \n",
       "\n",
       "   01 Crop and animal production, hunting and related service activities  \\\n",
       "0                                                117                       \n",
       "1                                                 75                       \n",
       "2                                                241                       \n",
       "3                                                245                       \n",
       "4                                                297                       \n",
       "\n",
       "   02 Forestry and logging  03 Fishing and aquaculture  \\\n",
       "0                        0                          32   \n",
       "1                        3                           4   \n",
       "2                        9                          33   \n",
       "3                        7                           7   \n",
       "4                       12                           2   \n",
       "\n",
       "   05 Mining of coal and lignite  \\\n",
       "0                              5   \n",
       "1                              5   \n",
       "2                             70   \n",
       "3                              9   \n",
       "4                              2   \n",
       "\n",
       "   06 Extraction of crude petroleum and natural gas  07 Mining of metal ores  \\\n",
       "0                                               401                        2   \n",
       "1                                               531                        3   \n",
       "2                                               657                       13   \n",
       "3                                               863                        5   \n",
       "4                                               107                        0   \n",
       "\n",
       "   ...  90 Creative, arts and entertainment activities  \\\n",
       "0  ...                                             139   \n",
       "1  ...                                             209   \n",
       "2  ...                                             246   \n",
       "3  ...                                             351   \n",
       "4  ...                                             201   \n",
       "\n",
       "   91 Libraries, archives, museums and other cultural activities  \\\n",
       "0                                                 61               \n",
       "1                                                 44               \n",
       "2                                                113               \n",
       "3                                                 94               \n",
       "4                                                 75               \n",
       "\n",
       "   92 Gambling and betting activities  \\\n",
       "0                                 113   \n",
       "1                                 138   \n",
       "2                                 134   \n",
       "3                                 211   \n",
       "4                                  61   \n",
       "\n",
       "   93 Sports activities and amusement and recreation activities  \\\n",
       "0                                                277              \n",
       "1                                                395              \n",
       "2                                                503              \n",
       "3                                                790              \n",
       "4                                                466              \n",
       "\n",
       "   94 Activities of membership organisations  \\\n",
       "0                                        145   \n",
       "1                                        238   \n",
       "2                                        174   \n",
       "3                                        297   \n",
       "4                                        190   \n",
       "\n",
       "   95 Repair of computers and personal and household goods  \\\n",
       "0                                                 22         \n",
       "1                                                 48         \n",
       "2                                                 51         \n",
       "3                                                 44         \n",
       "4                                                 56         \n",
       "\n",
       "   96 Other personal service activities  \\\n",
       "0                                   575   \n",
       "1                                   897   \n",
       "2                                  1045   \n",
       "3                                  1429   \n",
       "4                                   773   \n",
       "\n",
       "   97 Activities of households as employers of domestic personnel  \\\n",
       "0                                                  8                \n",
       "1                                                  9                \n",
       "2                                                 14                \n",
       "3                                                 11                \n",
       "4                                                 12                \n",
       "\n",
       "   98 Undifferentiated goods- and services-producing activities of private households for own use  \\\n",
       "0                                                  0                                                \n",
       "1                                                  0                                                \n",
       "2                                                  0                                                \n",
       "3                                                  0                                                \n",
       "4                                                  0                                                \n",
       "\n",
       "   99 Activities of extraterritorial organisations and bodies  \n",
       "0                                                  1           \n",
       "1                                                  1           \n",
       "2                                                  2           \n",
       "3                                                  2           \n",
       "4                                                  2           \n",
       "\n",
       "[5 rows x 91 columns]"
      ]
     },
     "execution_count": 9,
     "metadata": {},
     "output_type": "execute_result"
    }
   ],
   "source": [
    "ts060.head()"
   ]
  },
  {
   "cell_type": "markdown",
   "metadata": {},
   "source": [
    "Let's retrieve data from the TS058 dataset with the same process."
   ]
  },
  {
   "cell_type": "code",
   "execution_count": 10,
   "metadata": {},
   "outputs": [
    {
     "name": "stdout",
     "output_type": "stream",
     "text": [
      "requesting https://api.beta.ons.gov.uk/v1/datasets/TS058/editions/2021/versions/4/json?area-type=ltla,E06000001,E06000002,E06000003,E06000004,E06000005\n",
      "requesting https://api.beta.ons.gov.uk/v1/datasets/TS058/editions/2021/versions/4/json?area-type=ltla,E06000006,E06000007,E06000008,E06000009,E06000010\n",
      "requesting https://api.beta.ons.gov.uk/v1/datasets/TS058/editions/2021/versions/4/json?area-type=ltla,E06000011,E06000012,E06000013,E06000014,E06000015\n",
      "requesting https://api.beta.ons.gov.uk/v1/datasets/TS058/editions/2021/versions/4/json?area-type=ltla,E06000016,E06000017,E06000018,E06000019,E06000020\n",
      "requesting https://api.beta.ons.gov.uk/v1/datasets/TS058/editions/2021/versions/4/json?area-type=ltla,E06000021,E06000022,E06000023,E06000024,E06000025\n",
      "requesting https://api.beta.ons.gov.uk/v1/datasets/TS058/editions/2021/versions/4/json?area-type=ltla,E06000026,E06000027,E06000028,E06000029,E06000030\n",
      "A 500 error occured when requesting the url\n",
      "requesting https://api.beta.ons.gov.uk/v1/datasets/TS058/editions/2021/versions/4/json?area-type=ltla,E06000031,E06000032,E06000033,E06000034,E06000035\n",
      "requesting https://api.beta.ons.gov.uk/v1/datasets/TS058/editions/2021/versions/4/json?area-type=ltla,E06000036,E06000037,E06000038,E06000039,E06000040\n",
      "requesting https://api.beta.ons.gov.uk/v1/datasets/TS058/editions/2021/versions/4/json?area-type=ltla,E06000041,E06000042,E06000043,E06000044,E06000045\n",
      "requesting https://api.beta.ons.gov.uk/v1/datasets/TS058/editions/2021/versions/4/json?area-type=ltla,E06000046,E06000047,E06000048,E06000049,E06000050\n",
      "A 500 error occured when requesting the url\n",
      "requesting https://api.beta.ons.gov.uk/v1/datasets/TS058/editions/2021/versions/4/json?area-type=ltla,E06000051,E06000052,E06000053,E06000054,E06000055\n",
      "requesting https://api.beta.ons.gov.uk/v1/datasets/TS058/editions/2021/versions/4/json?area-type=ltla,E06000056,E07000004,E07000005,E07000006,E07000007\n",
      "A 500 error occured when requesting the url\n",
      "requesting https://api.beta.ons.gov.uk/v1/datasets/TS058/editions/2021/versions/4/json?area-type=ltla,E07000008,E07000009,E07000010,E07000011,E07000012\n",
      "requesting https://api.beta.ons.gov.uk/v1/datasets/TS058/editions/2021/versions/4/json?area-type=ltla,E07000026,E07000027,E07000028,E07000029,E07000030\n",
      "requesting https://api.beta.ons.gov.uk/v1/datasets/TS058/editions/2021/versions/4/json?area-type=ltla,E07000031,E07000032,E07000033,E07000034,E07000035\n",
      "requesting https://api.beta.ons.gov.uk/v1/datasets/TS058/editions/2021/versions/4/json?area-type=ltla,E07000036,E07000037,E07000038,E07000039,E07000040\n",
      "requesting https://api.beta.ons.gov.uk/v1/datasets/TS058/editions/2021/versions/4/json?area-type=ltla,E07000041,E07000042,E07000043,E07000044,E07000045\n",
      "requesting https://api.beta.ons.gov.uk/v1/datasets/TS058/editions/2021/versions/4/json?area-type=ltla,E07000046,E07000047,E07000048,E07000049,E07000050\n",
      "A 500 error occured when requesting the url\n",
      "requesting https://api.beta.ons.gov.uk/v1/datasets/TS058/editions/2021/versions/4/json?area-type=ltla,E07000051,E07000052,E07000053,E07000061,E07000062\n",
      "A 500 error occured when requesting the url\n",
      "requesting https://api.beta.ons.gov.uk/v1/datasets/TS058/editions/2021/versions/4/json?area-type=ltla,E07000063,E07000064,E07000065,E07000066,E07000067\n",
      "requesting https://api.beta.ons.gov.uk/v1/datasets/TS058/editions/2021/versions/4/json?area-type=ltla,E07000068,E07000069,E07000070,E07000071,E07000072\n",
      "requesting https://api.beta.ons.gov.uk/v1/datasets/TS058/editions/2021/versions/4/json?area-type=ltla,E07000073,E07000074,E07000075,E07000076,E07000077\n",
      "requesting https://api.beta.ons.gov.uk/v1/datasets/TS058/editions/2021/versions/4/json?area-type=ltla,E07000078,E07000079,E07000080,E07000081,E07000082\n",
      "requesting https://api.beta.ons.gov.uk/v1/datasets/TS058/editions/2021/versions/4/json?area-type=ltla,E07000083,E07000084,E07000085,E07000086,E07000087\n",
      "requesting https://api.beta.ons.gov.uk/v1/datasets/TS058/editions/2021/versions/4/json?area-type=ltla,E07000088,E07000089,E07000090,E07000091,E07000092\n",
      "requesting https://api.beta.ons.gov.uk/v1/datasets/TS058/editions/2021/versions/4/json?area-type=ltla,E07000093,E07000094,E07000095,E07000096,E07000097\n",
      "A 500 error occured when requesting the url\n",
      "requesting https://api.beta.ons.gov.uk/v1/datasets/TS058/editions/2021/versions/4/json?area-type=ltla,E07000098,E07000099,E07000100,E07000101,E07000102\n",
      "A 500 error occured when requesting the url\n",
      "requesting https://api.beta.ons.gov.uk/v1/datasets/TS058/editions/2021/versions/4/json?area-type=ltla,E07000103,E07000104,E07000105,E07000106,E07000107\n",
      "A 500 error occured when requesting the url\n",
      "requesting https://api.beta.ons.gov.uk/v1/datasets/TS058/editions/2021/versions/4/json?area-type=ltla,E07000108,E07000109,E07000110,E07000111,E07000112\n",
      "requesting https://api.beta.ons.gov.uk/v1/datasets/TS058/editions/2021/versions/4/json?area-type=ltla,E07000113,E07000114,E07000115,E07000116,E07000117\n",
      "requesting https://api.beta.ons.gov.uk/v1/datasets/TS058/editions/2021/versions/4/json?area-type=ltla,E07000118,E07000119,E07000120,E07000121,E07000122\n",
      "requesting https://api.beta.ons.gov.uk/v1/datasets/TS058/editions/2021/versions/4/json?area-type=ltla,E07000123,E07000124,E07000125,E07000126,E07000127\n",
      "requesting https://api.beta.ons.gov.uk/v1/datasets/TS058/editions/2021/versions/4/json?area-type=ltla,E07000128,E07000129,E07000130,E07000131,E07000132\n",
      "requesting https://api.beta.ons.gov.uk/v1/datasets/TS058/editions/2021/versions/4/json?area-type=ltla,E07000133,E07000134,E07000135,E07000136,E07000137\n",
      "requesting https://api.beta.ons.gov.uk/v1/datasets/TS058/editions/2021/versions/4/json?area-type=ltla,E07000138,E07000139,E07000140,E07000141,E07000142\n",
      "requesting https://api.beta.ons.gov.uk/v1/datasets/TS058/editions/2021/versions/4/json?area-type=ltla,E07000143,E07000144,E07000145,E07000146,E07000147\n",
      "requesting https://api.beta.ons.gov.uk/v1/datasets/TS058/editions/2021/versions/4/json?area-type=ltla,E07000148,E07000149,E07000150,E07000151,E07000152\n",
      "A 500 error occured when requesting the url\n",
      "requesting https://api.beta.ons.gov.uk/v1/datasets/TS058/editions/2021/versions/4/json?area-type=ltla,E07000153,E07000154,E07000155,E07000156,E07000163\n",
      "A 500 error occured when requesting the url\n",
      "requesting https://api.beta.ons.gov.uk/v1/datasets/TS058/editions/2021/versions/4/json?area-type=ltla,E07000164,E07000165,E07000166,E07000167,E07000168\n",
      "requesting https://api.beta.ons.gov.uk/v1/datasets/TS058/editions/2021/versions/4/json?area-type=ltla,E07000169,E07000170,E07000171,E07000172,E07000173\n",
      "requesting https://api.beta.ons.gov.uk/v1/datasets/TS058/editions/2021/versions/4/json?area-type=ltla,E07000174,E07000175,E07000176,E07000177,E07000178\n",
      "requesting https://api.beta.ons.gov.uk/v1/datasets/TS058/editions/2021/versions/4/json?area-type=ltla,E07000179,E07000180,E07000181,E07000187,E07000188\n",
      "requesting https://api.beta.ons.gov.uk/v1/datasets/TS058/editions/2021/versions/4/json?area-type=ltla,E07000189,E07000190,E07000191,E07000192,E07000193\n",
      "A 500 error occured when requesting the url\n",
      "requesting https://api.beta.ons.gov.uk/v1/datasets/TS058/editions/2021/versions/4/json?area-type=ltla,E07000194,E07000195,E07000196,E07000197,E07000198\n",
      "requesting https://api.beta.ons.gov.uk/v1/datasets/TS058/editions/2021/versions/4/json?area-type=ltla,E07000199,E07000200,E07000201,E07000202,E07000203\n",
      "A 500 error occured when requesting the url\n",
      "requesting https://api.beta.ons.gov.uk/v1/datasets/TS058/editions/2021/versions/4/json?area-type=ltla,E07000204,E07000205,E07000206,E07000207,E07000208\n",
      "A 500 error occured when requesting the url\n",
      "requesting https://api.beta.ons.gov.uk/v1/datasets/TS058/editions/2021/versions/4/json?area-type=ltla,E07000209,E07000210,E07000211,E07000212,E07000213\n",
      "requesting https://api.beta.ons.gov.uk/v1/datasets/TS058/editions/2021/versions/4/json?area-type=ltla,E07000214,E07000215,E07000216,E07000217,E07000218\n",
      "requesting https://api.beta.ons.gov.uk/v1/datasets/TS058/editions/2021/versions/4/json?area-type=ltla,E07000219,E07000220,E07000221,E07000222,E07000223\n",
      "requesting https://api.beta.ons.gov.uk/v1/datasets/TS058/editions/2021/versions/4/json?area-type=ltla,E07000224,E07000225,E07000226,E07000227,E07000228\n",
      "requesting https://api.beta.ons.gov.uk/v1/datasets/TS058/editions/2021/versions/4/json?area-type=ltla,E07000229,E07000234,E07000235,E07000236,E07000237\n",
      "requesting https://api.beta.ons.gov.uk/v1/datasets/TS058/editions/2021/versions/4/json?area-type=ltla,E07000238,E07000239,E08000001,E08000002,E08000003\n",
      "requesting https://api.beta.ons.gov.uk/v1/datasets/TS058/editions/2021/versions/4/json?area-type=ltla,E08000004,E08000005,E08000006,E08000007,E08000008\n",
      "requesting https://api.beta.ons.gov.uk/v1/datasets/TS058/editions/2021/versions/4/json?area-type=ltla,E08000009,E08000010,E08000011,E08000012,E08000013\n",
      "requesting https://api.beta.ons.gov.uk/v1/datasets/TS058/editions/2021/versions/4/json?area-type=ltla,E08000014,E08000015,E08000016,E08000017,E08000018\n",
      "requesting https://api.beta.ons.gov.uk/v1/datasets/TS058/editions/2021/versions/4/json?area-type=ltla,E08000019,E08000020,E08000021,E08000022,E08000023\n",
      "A 500 error occured when requesting the url\n",
      "requesting https://api.beta.ons.gov.uk/v1/datasets/TS058/editions/2021/versions/4/json?area-type=ltla,E08000024,E08000025,E08000026,E08000027,E08000028\n",
      "requesting https://api.beta.ons.gov.uk/v1/datasets/TS058/editions/2021/versions/4/json?area-type=ltla,E08000029,E08000030,E08000031,E08000032,E08000033\n",
      "requesting https://api.beta.ons.gov.uk/v1/datasets/TS058/editions/2021/versions/4/json?area-type=ltla,E08000034,E08000035,E08000036,E09000001,E09000002\n",
      "requesting https://api.beta.ons.gov.uk/v1/datasets/TS058/editions/2021/versions/4/json?area-type=ltla,E09000003,E09000004,E09000005,E09000006,E09000007\n",
      "requesting https://api.beta.ons.gov.uk/v1/datasets/TS058/editions/2021/versions/4/json?area-type=ltla,E09000008,E09000009,E09000010,E09000011,E09000012\n",
      "requesting https://api.beta.ons.gov.uk/v1/datasets/TS058/editions/2021/versions/4/json?area-type=ltla,E09000013,E09000014,E09000015,E09000016,E09000017\n",
      "requesting https://api.beta.ons.gov.uk/v1/datasets/TS058/editions/2021/versions/4/json?area-type=ltla,E09000018,E09000019,E09000020,E09000021,E09000022\n",
      "requesting https://api.beta.ons.gov.uk/v1/datasets/TS058/editions/2021/versions/4/json?area-type=ltla,E09000023,E09000024,E09000025,E09000026,E09000027\n",
      "requesting https://api.beta.ons.gov.uk/v1/datasets/TS058/editions/2021/versions/4/json?area-type=ltla,E09000028,E09000029,E09000030,E09000031,E09000032\n",
      "requesting https://api.beta.ons.gov.uk/v1/datasets/TS058/editions/2021/versions/4/json?area-type=ltla,E09000033,W06000001,W06000002,W06000003,W06000004\n",
      "requesting https://api.beta.ons.gov.uk/v1/datasets/TS058/editions/2021/versions/4/json?area-type=ltla,W06000005,W06000006,W06000008,W06000009,W06000010\n",
      "requesting https://api.beta.ons.gov.uk/v1/datasets/TS058/editions/2021/versions/4/json?area-type=ltla,W06000011,W06000012,W06000013,W06000014,W06000015\n",
      "requesting https://api.beta.ons.gov.uk/v1/datasets/TS058/editions/2021/versions/4/json?area-type=ltla,W06000016,W06000018,W06000019,W06000020\n",
      "requesting https://api.beta.ons.gov.uk/v1/datasets/TS058/editions/2021/versions/4/json?area-type=ltla,W06000021,W06000022,W06000023,W06000024\n"
     ]
    }
   ],
   "source": [
    "# initialize the for loop\n",
    "area_codes = list(ltla['lad11cd'])\n",
    "area_type = \"ltla\"\n",
    "chunksize = 5\n",
    "n = 0\n",
    "n_chunks = np.ceil(len(area_codes)/ chunksize)\n",
    "area_chunks = np.array_split(area_codes, n_chunks)\n",
    "\n",
    "dataset_id = \"TS058\"\n",
    "version = 4\n",
    "ts058 = pd.DataFrame()\n",
    "\n",
    "for areas in area_chunks:\n",
    "    # parse th chunk of area code\n",
    "    new_data = requests_census2021_api(area_code = areas,area_type=area_type, datasetId=dataset_id, version = version)\n",
    "    ts058 = pd.concat([ts058, new_data],ignore_index = True)"
   ]
  },
  {
   "cell_type": "code",
   "execution_count": 11,
   "metadata": {},
   "outputs": [
    {
     "data": {
      "text/html": [
       "<div>\n",
       "<style scoped>\n",
       "    .dataframe tbody tr th:only-of-type {\n",
       "        vertical-align: middle;\n",
       "    }\n",
       "\n",
       "    .dataframe tbody tr th {\n",
       "        vertical-align: top;\n",
       "    }\n",
       "\n",
       "    .dataframe thead th {\n",
       "        text-align: right;\n",
       "    }\n",
       "</style>\n",
       "<table border=\"1\" class=\"dataframe\">\n",
       "  <thead>\n",
       "    <tr style=\"text-align: right;\">\n",
       "      <th></th>\n",
       "      <th>href</th>\n",
       "      <th>id</th>\n",
       "      <th>label</th>\n",
       "      <th>Does not apply</th>\n",
       "      <th>Less than 2km</th>\n",
       "      <th>2km to less than 5km</th>\n",
       "      <th>5km to less than 10km</th>\n",
       "      <th>10km to less than 20km</th>\n",
       "      <th>20km to less than 30km</th>\n",
       "      <th>30km to less than 40km</th>\n",
       "      <th>40km to less than 60km</th>\n",
       "      <th>60km and over</th>\n",
       "      <th>Works mainly from home</th>\n",
       "      <th>Works mainly at an offshore installation, in no fixed place, or outside the UK</th>\n",
       "    </tr>\n",
       "  </thead>\n",
       "  <tbody>\n",
       "    <tr>\n",
       "      <th>0</th>\n",
       "      <td></td>\n",
       "      <td>E06000001</td>\n",
       "      <td>Hartlepool</td>\n",
       "      <td>54589</td>\n",
       "      <td>5891</td>\n",
       "      <td>7286</td>\n",
       "      <td>3159</td>\n",
       "      <td>5623</td>\n",
       "      <td>1779</td>\n",
       "      <td>575</td>\n",
       "      <td>363</td>\n",
       "      <td>711</td>\n",
       "      <td>6570</td>\n",
       "      <td>5792</td>\n",
       "    </tr>\n",
       "    <tr>\n",
       "      <th>1</th>\n",
       "      <td></td>\n",
       "      <td>E06000002</td>\n",
       "      <td>Middlesbrough</td>\n",
       "      <td>87490</td>\n",
       "      <td>7933</td>\n",
       "      <td>13055</td>\n",
       "      <td>9102</td>\n",
       "      <td>3755</td>\n",
       "      <td>1427</td>\n",
       "      <td>833</td>\n",
       "      <td>676</td>\n",
       "      <td>1069</td>\n",
       "      <td>9478</td>\n",
       "      <td>9106</td>\n",
       "    </tr>\n",
       "    <tr>\n",
       "      <th>2</th>\n",
       "      <td></td>\n",
       "      <td>E06000003</td>\n",
       "      <td>Redcar and Cleveland</td>\n",
       "      <td>80910</td>\n",
       "      <td>5697</td>\n",
       "      <td>6555</td>\n",
       "      <td>9153</td>\n",
       "      <td>9990</td>\n",
       "      <td>1906</td>\n",
       "      <td>1002</td>\n",
       "      <td>814</td>\n",
       "      <td>1251</td>\n",
       "      <td>10019</td>\n",
       "      <td>9234</td>\n",
       "    </tr>\n",
       "    <tr>\n",
       "      <th>3</th>\n",
       "      <td></td>\n",
       "      <td>E06000004</td>\n",
       "      <td>Stockton-on-Tees</td>\n",
       "      <td>110152</td>\n",
       "      <td>9414</td>\n",
       "      <td>14069</td>\n",
       "      <td>16003</td>\n",
       "      <td>9943</td>\n",
       "      <td>2085</td>\n",
       "      <td>1097</td>\n",
       "      <td>1208</td>\n",
       "      <td>1561</td>\n",
       "      <td>18809</td>\n",
       "      <td>12254</td>\n",
       "    </tr>\n",
       "    <tr>\n",
       "      <th>4</th>\n",
       "      <td></td>\n",
       "      <td>E06000005</td>\n",
       "      <td>Darlington</td>\n",
       "      <td>58503</td>\n",
       "      <td>8070</td>\n",
       "      <td>9043</td>\n",
       "      <td>3522</td>\n",
       "      <td>4531</td>\n",
       "      <td>3828</td>\n",
       "      <td>524</td>\n",
       "      <td>737</td>\n",
       "      <td>850</td>\n",
       "      <td>11962</td>\n",
       "      <td>6230</td>\n",
       "    </tr>\n",
       "  </tbody>\n",
       "</table>\n",
       "</div>"
      ],
      "text/plain": [
       "  href         id                 label  Does not apply  Less than 2km  \\\n",
       "0       E06000001            Hartlepool           54589           5891   \n",
       "1       E06000002         Middlesbrough           87490           7933   \n",
       "2       E06000003  Redcar and Cleveland           80910           5697   \n",
       "3       E06000004      Stockton-on-Tees          110152           9414   \n",
       "4       E06000005            Darlington           58503           8070   \n",
       "\n",
       "   2km to less than 5km  5km to less than 10km  10km to less than 20km  \\\n",
       "0                  7286                   3159                    5623   \n",
       "1                 13055                   9102                    3755   \n",
       "2                  6555                   9153                    9990   \n",
       "3                 14069                  16003                    9943   \n",
       "4                  9043                   3522                    4531   \n",
       "\n",
       "   20km to less than 30km  30km to less than 40km  40km to less than 60km  \\\n",
       "0                    1779                     575                     363   \n",
       "1                    1427                     833                     676   \n",
       "2                    1906                    1002                     814   \n",
       "3                    2085                    1097                    1208   \n",
       "4                    3828                     524                     737   \n",
       "\n",
       "   60km and over  Works mainly from home  \\\n",
       "0            711                    6570   \n",
       "1           1069                    9478   \n",
       "2           1251                   10019   \n",
       "3           1561                   18809   \n",
       "4            850                   11962   \n",
       "\n",
       "   Works mainly at an offshore installation, in no fixed place, or outside the UK  \n",
       "0                                               5792                               \n",
       "1                                               9106                               \n",
       "2                                               9234                               \n",
       "3                                              12254                               \n",
       "4                                               6230                               "
      ]
     },
     "execution_count": 11,
     "metadata": {},
     "output_type": "execute_result"
    }
   ],
   "source": [
    "ts058.head()"
   ]
  },
  {
   "cell_type": "markdown",
   "metadata": {},
   "source": [
    "## Data Manipulation\n",
    "The objective is to create two sets of continuous data that can be used as to create a scatter plot.\n",
    "With a scatter plot, we can leverage on four dimensions\n",
    "* TS060_pct: X varaible\n",
    "* TS058_pct: Y varaible\n",
    "* Total pop: Size\n",
    "* Color: Region\n",
    "\n",
    "For the travel time, let's compute the percentage of the local workforce population who has to commute more than 20 km for work."
   ]
  },
  {
   "cell_type": "code",
   "execution_count": 12,
   "metadata": {},
   "outputs": [],
   "source": [
    "ts058_new = ts058.copy()\n",
    "ts058_new['Work Force Population'] = ts058_new.select_dtypes(\"integer\").sum(axis = 1) - ts058_new['Does not apply'] - ts058_new['Works mainly at an offshore installation, in no fixed place, or outside the UK']\n",
    "ts058_new[\"20km or More\"] = ts058[[\"20km to less than 30km\",\"30km to less than 40km\",'40km to less than 60km', '60km and over']].sum(axis = 1)\n",
    "ts058_new['% 20km or More'] = ts058_new[\"20km or More\"] / ts058_new['Work Force Population'] "
   ]
  },
  {
   "cell_type": "markdown",
   "metadata": {},
   "source": [
    "To aggregate the popultion by employment sector, we will use the four tier system:\n",
    "* Primary Industry - Agriculture, Forestry and Fishing: 01 - 03\n",
    "* Production and Manufacturing: 05-33\n",
    "* Utility (Gase, water etc.): 35 - 39\n",
    "* Construction: 41-43\n",
    "* Service: 45-99\n",
    "\n",
    "**Note** dimension 04, 40, 44 and potentially 100 or 00 is missing from the list. These potentially are the aggregate for the level of industry. However, there is no documentation on how to retrieve those."
   ]
  },
  {
   "cell_type": "code",
   "execution_count": 13,
   "metadata": {},
   "outputs": [],
   "source": [
    "ts060_new = ts060.copy().drop(columns = ['Does not apply'])\n",
    "ts060_new = ts060_new.select_dtypes(\"integer\")"
   ]
  },
  {
   "cell_type": "code",
   "execution_count": 14,
   "metadata": {},
   "outputs": [],
   "source": [
    "# convert the column to the 2 digit index\n",
    "cols = ts060_new.columns\n",
    "cols = [col[0:2] for col in cols]\n",
    "ts060_new.columns = cols\n",
    "\n",
    "# create the industry column index \n",
    "prim = [str(ind).zfill(2) for ind in np.arange(1,4,)]\n",
    "prod = [str(ind).zfill(2) for ind in np.arange(5,34)]\n",
    "util = [str(ind).zfill(2) for ind in np.arange(35,40)]\n",
    "cons = [\"41\"]\n",
    "serv = [str(ind).zfill(2) for ind in np.arange(45,100) if ((ind!= 54) & (ind!= 57) & (ind!= 67) & (ind!= 76)& (ind!= 83) &  (ind!= 89))]\n",
    "\n",
    "# get total working population\n",
    "ts060_new[\"Work Force Population\"] = ts060_new.sum(axis = 1)\n",
    "# get industry aggregate\n",
    "ts060_new[\"Prim\"] = ts060_new[prim].sum(axis = 1) / ts060_new[\"Work Force Population\"]\n",
    "ts060_new[\"Prod\"] = ts060_new[prod].sum(axis = 1) /ts060_new[\"Work Force Population\"]\n",
    "ts060_new[\"Util\"] = ts060_new[util].sum(axis = 1) /ts060_new[\"Work Force Population\"]\n",
    "ts060_new[\"Cons\"] = ts060_new[cons].sum(axis = 1) /ts060_new[\"Work Force Population\"]\n",
    "ts060_new[\"Serv\"] = ts060_new[serv].sum(axis = 1) /ts060_new[\"Work Force Population\"]\n",
    "\n",
    "# add back the id col\n",
    "ts060_new = ts060[['id']].merge(ts060_new, left_index= True, right_index=True)"
   ]
  },
  {
   "cell_type": "markdown",
   "metadata": {},
   "source": [
    "## Merging the Data\n",
    "We only really want the aggregate here. Before merging, define the right and left table as a subset of the original table."
   ]
  },
  {
   "cell_type": "code",
   "execution_count": 15,
   "metadata": {},
   "outputs": [],
   "source": [
    "# subset the dataframe\n",
    "left_ts058 = ts058_new[[\"id\",\"Work Force Population\",\"% 20km or More\"]]\n",
    "right_ts060 = ts060_new[[\"id\", \"Work Force Population\",\"Prim\",\"Prod\",\"Util\",\"Cons\",\"Serv\"]]\n",
    "\n",
    "# merge the dataframe\n",
    "df = left_ts058.merge(right_ts060, on = 'id', suffixes = (\"_l\",\"_r\"))\n",
    "\n",
    "# lookup the region name\n",
    "df = df.merge(ltla_EW[[\"lad11cd\",\"lad11nm\",\"rgn16nm\"]], left_on = 'id', right_on= \"lad11cd\", how = 'left')"
   ]
  },
  {
   "cell_type": "code",
   "execution_count": 16,
   "metadata": {},
   "outputs": [
    {
     "data": {
      "text/html": [
       "<div>\n",
       "<style scoped>\n",
       "    .dataframe tbody tr th:only-of-type {\n",
       "        vertical-align: middle;\n",
       "    }\n",
       "\n",
       "    .dataframe tbody tr th {\n",
       "        vertical-align: top;\n",
       "    }\n",
       "\n",
       "    .dataframe thead th {\n",
       "        text-align: right;\n",
       "    }\n",
       "</style>\n",
       "<table border=\"1\" class=\"dataframe\">\n",
       "  <thead>\n",
       "    <tr style=\"text-align: right;\">\n",
       "      <th></th>\n",
       "      <th>id</th>\n",
       "      <th>Work Force Population_l</th>\n",
       "      <th>% 20km or More</th>\n",
       "      <th>Work Force Population_r</th>\n",
       "      <th>Prim</th>\n",
       "      <th>Prod</th>\n",
       "      <th>Util</th>\n",
       "      <th>Cons</th>\n",
       "      <th>Serv</th>\n",
       "      <th>lad11cd</th>\n",
       "      <th>lad11nm</th>\n",
       "      <th>rgn16nm</th>\n",
       "    </tr>\n",
       "  </thead>\n",
       "  <tbody>\n",
       "    <tr>\n",
       "      <th>0</th>\n",
       "      <td>E06000001</td>\n",
       "      <td>31957</td>\n",
       "      <td>0.107269</td>\n",
       "      <td>37749</td>\n",
       "      <td>0.003947</td>\n",
       "      <td>0.113963</td>\n",
       "      <td>0.027233</td>\n",
       "      <td>0.100903</td>\n",
       "      <td>0.753954</td>\n",
       "      <td>E06000001</td>\n",
       "      <td>Hartlepool</td>\n",
       "      <td>North East</td>\n",
       "    </tr>\n",
       "    <tr>\n",
       "      <th>1</th>\n",
       "      <td>E06000002</td>\n",
       "      <td>47328</td>\n",
       "      <td>0.084622</td>\n",
       "      <td>56431</td>\n",
       "      <td>0.001453</td>\n",
       "      <td>0.081391</td>\n",
       "      <td>0.014815</td>\n",
       "      <td>0.085006</td>\n",
       "      <td>0.817334</td>\n",
       "      <td>E06000002</td>\n",
       "      <td>Middlesbrough</td>\n",
       "      <td>Yorkshire and The Humber</td>\n",
       "    </tr>\n",
       "    <tr>\n",
       "      <th>2</th>\n",
       "      <td>E06000002</td>\n",
       "      <td>47328</td>\n",
       "      <td>0.084622</td>\n",
       "      <td>56431</td>\n",
       "      <td>0.001453</td>\n",
       "      <td>0.081391</td>\n",
       "      <td>0.014815</td>\n",
       "      <td>0.085006</td>\n",
       "      <td>0.817334</td>\n",
       "      <td>E06000002</td>\n",
       "      <td>Middlesbrough</td>\n",
       "      <td>North East</td>\n",
       "    </tr>\n",
       "    <tr>\n",
       "      <th>3</th>\n",
       "      <td>E06000003</td>\n",
       "      <td>46387</td>\n",
       "      <td>0.107207</td>\n",
       "      <td>55620</td>\n",
       "      <td>0.005088</td>\n",
       "      <td>0.101798</td>\n",
       "      <td>0.018051</td>\n",
       "      <td>0.096854</td>\n",
       "      <td>0.778209</td>\n",
       "      <td>E06000003</td>\n",
       "      <td>Redcar and Cleveland</td>\n",
       "      <td>Yorkshire and The Humber</td>\n",
       "    </tr>\n",
       "    <tr>\n",
       "      <th>4</th>\n",
       "      <td>E06000003</td>\n",
       "      <td>46387</td>\n",
       "      <td>0.107207</td>\n",
       "      <td>55620</td>\n",
       "      <td>0.005088</td>\n",
       "      <td>0.101798</td>\n",
       "      <td>0.018051</td>\n",
       "      <td>0.096854</td>\n",
       "      <td>0.778209</td>\n",
       "      <td>E06000003</td>\n",
       "      <td>Redcar and Cleveland</td>\n",
       "      <td>North East</td>\n",
       "    </tr>\n",
       "  </tbody>\n",
       "</table>\n",
       "</div>"
      ],
      "text/plain": [
       "          id  Work Force Population_l  % 20km or More  \\\n",
       "0  E06000001                    31957        0.107269   \n",
       "1  E06000002                    47328        0.084622   \n",
       "2  E06000002                    47328        0.084622   \n",
       "3  E06000003                    46387        0.107207   \n",
       "4  E06000003                    46387        0.107207   \n",
       "\n",
       "   Work Force Population_r      Prim      Prod      Util      Cons      Serv  \\\n",
       "0                    37749  0.003947  0.113963  0.027233  0.100903  0.753954   \n",
       "1                    56431  0.001453  0.081391  0.014815  0.085006  0.817334   \n",
       "2                    56431  0.001453  0.081391  0.014815  0.085006  0.817334   \n",
       "3                    55620  0.005088  0.101798  0.018051  0.096854  0.778209   \n",
       "4                    55620  0.005088  0.101798  0.018051  0.096854  0.778209   \n",
       "\n",
       "     lad11cd               lad11nm                   rgn16nm  \n",
       "0  E06000001            Hartlepool                North East  \n",
       "1  E06000002         Middlesbrough  Yorkshire and The Humber  \n",
       "2  E06000002         Middlesbrough                North East  \n",
       "3  E06000003  Redcar and Cleveland  Yorkshire and The Humber  \n",
       "4  E06000003  Redcar and Cleveland                North East  "
      ]
     },
     "execution_count": 16,
     "metadata": {},
     "output_type": "execute_result"
    }
   ],
   "source": [
    "df.head()"
   ]
  },
  {
   "cell_type": "markdown",
   "metadata": {},
   "source": [
    "Note that there are some big differences in the two estimate of the work force population. Since the commute distance dataframe maybe more relevant to the geographical location that serves as a layer of disaggregation for this data set, we will use the work force population generated form the TS058 dataset."
   ]
  },
  {
   "cell_type": "code",
   "execution_count": 17,
   "metadata": {},
   "outputs": [
    {
     "data": {
      "text/plain": [
       "<matplotlib.collections.PathCollection at 0x7f9280b08610>"
      ]
     },
     "execution_count": 17,
     "metadata": {},
     "output_type": "execute_result"
    },
    {
     "data": {
      "image/png": "[encoded data removed]",
      "text/plain": [
       "<Figure size 432x288 with 1 Axes>"
      ]
     },
     "metadata": {
      "needs_background": "light"
     },
     "output_type": "display_data"
    }
   ],
   "source": [
    "# inspect plot with matplotlib\n",
    "plt.scatter(x = df['% 20km or More'], y = df[\"Serv\"], \n",
    "            s =df['Work Force Population_l']/10000,\n",
    "        )"
   ]
  },
  {
   "cell_type": "code",
   "execution_count": 18,
   "metadata": {},
   "outputs": [
    {
     "data": {
      "application/vnd.plotly.v1+json": {
       "config": {
        "plotlyServerURL": "https://plot.ly"
       },
       "data": [
        {
         "customdata": [
          57783,
          65526,
          101698,
          136609,
          16212,
          111046,
          87016,
          126742,
          78528,
          39184,
          79189,
          51676,
          32399,
          40563,
          28312,
          47178,
          38340,
          39452,
          47173,
          43643,
          73962,
          42559,
          48065,
          21827,
          44860,
          22677,
          28271,
          45906,
          40006,
          48554,
          38262,
          58459,
          35631,
          57080,
          49700,
          47028,
          45434,
          47785,
          43439,
          48677,
          50741,
          74220,
          43289,
          38259,
          27036,
          55194,
          51847,
          57872,
          82145,
          122682,
          89602,
          93259,
          115140,
          98050,
          163177
         ],
         "hovertemplate": "<b>%{text}</b><br>Population: %{customdata:.2s}<extra></extra>",
         "marker": {
          "opacity": 0.5,
          "size": [
           5.7783,
           6.5526,
           10.1698,
           13.6609,
           5,
           11.1046,
           8.7016,
           12.6742,
           7.8528,
           5,
           7.9189,
           5.1676,
           5,
           5,
           5,
           5,
           5,
           5,
           5,
           5,
           7.3962,
           5,
           5,
           5,
           5,
           5,
           5,
           5,
           5,
           5,
           5,
           5.8459,
           5,
           5.708,
           5,
           5,
           5,
           5,
           5,
           5,
           5.0741,
           7.422,
           5,
           5,
           5,
           5.5194,
           5.1847,
           5.7872,
           8.2145,
           12.2682,
           8.9602,
           9.3259,
           11.514,
           9.805,
           16.3177
          ]
         },
         "mode": "markers",
         "name": "East Midlands",
         "text": [
          "North East Lincolnshire",
          "North Lincolnshire",
          "Derby",
          "Leicester",
          "Rutland",
          "Nottingham",
          "Peterborough",
          "Milton Keynes",
          "Bedford",
          "Fenland",
          "Huntingdonshire",
          "Amber Valley",
          "Bolsover",
          "Chesterfield",
          "Derbyshire Dales",
          "Erewash",
          "High Peak",
          "North East Derbyshire",
          "South Derbyshire",
          "Blaby",
          "Charnwood",
          "Harborough",
          "Hinckley and Bosworth",
          "Melton",
          "North West Leicestershire",
          "Oadby and Wigston",
          "Boston",
          "East Lindsey",
          "Lincoln",
          "North Kesteven",
          "South Holland",
          "South Kesteven",
          "West Lindsey",
          "King's Lynn and West Norfolk",
          "Ashfield",
          "Bassetlaw",
          "Broxtowe",
          "Gedling",
          "Mansfield",
          "Newark and Sherwood",
          "Rushcliffe",
          "Cherwell",
          "Lichfield",
          "Staffordshire Moorlands",
          "North Warwickshire",
          "Nuneaton and Bedworth",
          "Rugby",
          "Stratford-on-Avon",
          "Oldham",
          "Stockport",
          "Tameside",
          "Barnsley",
          "Doncaster",
          "Rotherham",
          "Kirklees"
         ],
         "type": "scatter",
         "x": [
          0.08985341709499334,
          0.14789549186582426,
          0.0831186454010895,
          0.09558667437723722,
          0.16543301258327164,
          0.07586045422617654,
          0.12890732738806657,
          0.0885341875621341,
          0.13206754278728605,
          0.2157513270722744,
          0.1653638762959502,
          0.08773898908584256,
          0.1365782894533782,
          0.08335182309000813,
          0.15286804181972308,
          0.06102420619780406,
          0.12107459572248305,
          0.10595153604380006,
          0.12829372734403155,
          0.08672639369429233,
          0.08374570725507693,
          0.144669752578773,
          0.10629356080307917,
          0.1836715993952444,
          0.14025858225590726,
          0.08096309035586718,
          0.19574829330409255,
          0.22378338343571647,
          0.15262710593410989,
          0.18651398442970712,
          0.1816946317495165,
          0.19350313895208607,
          0.20886306867615279,
          0.1926594253679047,
          0.09090543259557345,
          0.178170451645828,
          0.05940485099264868,
          0.06983362980014649,
          0.1024655263703124,
          0.16985434599502847,
          0.09248930844878894,
          0.14958232282403663,
          0.13661669246228833,
          0.11688752973156642,
          0.1345243379198106,
          0.11503061927021054,
          0.11350704958821146,
          0.14361003594138788,
          0.0644835352121249,
          0.04068241469816273,
          0.04721992812660432,
          0.09762060498182482,
          0.12537780093798853,
          0.07624681285058643,
          0.07086170232324408
         ],
         "y": [
          0.7481082337220956,
          0.706456564808376,
          0.786761668731929,
          0.7860406877678525,
          0.8043651849880223,
          0.8475124744884102,
          0.8137051966445147,
          0.8535540925068348,
          0.8202557556015319,
          0.7092398802827365,
          0.7819170468594435,
          0.7224770642201835,
          0.7582296424633801,
          0.7987461078852142,
          0.750895463985793,
          0.7585924564691326,
          0.7707894382929126,
          0.7665972207306858,
          0.7422640249332146,
          0.7681511575918978,
          0.7866770439027841,
          0.7913975849273223,
          0.7515702449761108,
          0.7327078589934836,
          0.7409774219005639,
          0.8150584795321637,
          0.708359354090463,
          0.7671656830286454,
          0.7963565526394657,
          0.7828555358304186,
          0.7039435872496573,
          0.7720893399228614,
          0.7455917602107411,
          0.7345815455294067,
          0.7385099757024058,
          0.748803087397375,
          0.8042762207454492,
          0.806378132118451,
          0.7662403395043703,
          0.7670191903627959,
          0.8331139542638516,
          0.7964882962823485,
          0.7785659091359395,
          0.7388813642116482,
          0.7571253109942367,
          0.7847884645856441,
          0.8011358747095775,
          0.7806932785796243,
          0.8190723486584186,
          0.8434969816610878,
          0.7944330345734864,
          0.7555066079295154,
          0.7815666731950761,
          0.762189738888323,
          0.7804461044768267
         ]
        },
        {
         "customdata": [
          87016,
          80371,
          70284,
          70095,
          126742,
          78528,
          65169,
          38529,
          39184,
          79189,
          73591,
          73177,
          62723,
          32567,
          32448,
          77016,
          77743,
          54343,
          37557,
          25308,
          33548,
          46464,
          38773,
          38262,
          58459,
          54538,
          52322,
          33721,
          57080,
          33510,
          158307,
          118269,
          103411,
          101736,
          119728,
          117156,
          115456
         ],
         "hovertemplate": "<b>%{text}</b><br>Population: %{customdata:.2s}<extra></extra>",
         "marker": {
          "opacity": 0.5,
          "size": [
           8.7016,
           8.0371,
           7.0284,
           7.0095,
           12.6742,
           7.8528,
           6.5169,
           5,
           5,
           7.9189,
           7.3591,
           7.3177,
           6.2723,
           5,
           5,
           7.7016,
           7.7743,
           5.4343,
           5,
           5,
           5,
           5,
           5,
           5,
           5.8459,
           5.4538,
           5.2322,
           5,
           5.708,
           5,
           15.8307,
           11.8269,
           10.3411,
           10.1736,
           11.9728,
           11.7156,
           11.5456
          ]
         },
         "mode": "markers",
         "name": "East of England",
         "text": [
          "Peterborough",
          "Luton",
          "Southend-on-Sea",
          "Thurrock",
          "Milton Keynes",
          "Bedford",
          "Cambridge",
          "East Cambridgeshire",
          "Fenland",
          "Huntingdonshire",
          "South Cambridgeshire",
          "Basildon",
          "Braintree",
          "Brentwood",
          "Castle Point",
          "Chelmsford",
          "Colchester",
          "Epping Forest",
          "Harlow",
          "Maldon",
          "Rochford",
          "Tendring",
          "Uttlesford",
          "South Holland",
          "South Kesteven",
          "Breckland",
          "Broadland",
          "Great Yarmouth",
          "King's Lynn and West Norfolk",
          "North Norfolk",
          "Barnet",
          "Enfield",
          "Harrow",
          "Havering",
          "Hillingdon",
          "Redbridge",
          "Waltham Forest"
         ],
         "type": "scatter",
         "x": [
          0.12890732738806657,
          0.15417252491570343,
          0.11531785328097434,
          0.16032527284399742,
          0.0885341875621341,
          0.13206754278728605,
          0.06407954702389172,
          0.1828233278828934,
          0.2157513270722744,
          0.1653638762959502,
          0.08787759372749385,
          0.13856812933025403,
          0.19206670599301692,
          0.14097092148493875,
          0.1494699211045365,
          0.13108964371039783,
          0.14226361215800779,
          0.10628783836004638,
          0.14045317783635541,
          0.17267267267267267,
          0.12367354238702755,
          0.16761363636363635,
          0.17205271709694892,
          0.1816946317495165,
          0.19350313895208607,
          0.23721075213612527,
          0.09022973127938534,
          0.19225408499154828,
          0.1926594253679047,
          0.20307370934049537,
          0.030763011111321674,
          0.04897310368735679,
          0.06167622399938111,
          0.1276146103640796,
          0.08037384738741146,
          0.0655792276964048,
          0.038109756097560975
         ],
         "y": [
          0.8137051966445147,
          0.8198800551098144,
          0.8433341340379534,
          0.80838016778953,
          0.8535540925068348,
          0.8202557556015319,
          0.9020863136127361,
          0.7757787325456499,
          0.7092398802827365,
          0.7819170468594435,
          0.826967958379929,
          0.7967371886340909,
          0.7757108585362017,
          0.8272559366754617,
          0.7767454337064403,
          0.8302397008746745,
          0.8347333760771998,
          0.8139153165749718,
          0.7930712017746074,
          0.7477290174002047,
          0.796950319724545,
          0.7971516815374057,
          0.7967772967772968,
          0.7039435872496573,
          0.7720893399228614,
          0.732114564290067,
          0.7938333732726256,
          0.7758842834569102,
          0.7345815455294067,
          0.7757933650199241,
          0.8746528878122667,
          0.8622063116919227,
          0.8313300224722695,
          0.816770708956719,
          0.8446294649421947,
          0.8581333935859234,
          0.8582297959648922
         ]
        },
        {
         "customdata": [
          70095,
          61281,
          32567,
          54343,
          47690,
          36222,
          64919,
          43739,
          36059,
          5045,
          73365,
          158307,
          97983,
          131231,
          140789,
          93084,
          160367,
          147360,
          118269,
          122876,
          119891,
          88622,
          113345,
          103411,
          101736,
          119728,
          116783,
          104639,
          62938,
          74210,
          162496,
          135858,
          95653,
          132369,
          117156,
          88970,
          149581,
          87508,
          139592,
          115456,
          174154,
          92112
         ],
         "hovertemplate": "<b>%{text}</b><br>Population: %{customdata:.2s}<extra></extra>",
         "marker": {
          "opacity": 0.5,
          "size": [
           7.0095,
           6.1281,
           5,
           5.4343,
           5,
           5,
           6.4919,
           5,
           5,
           5,
           7.3365,
           15.8307,
           9.7983,
           13.1231,
           14.0789,
           9.3084,
           16.0367,
           14.736,
           11.8269,
           12.2876,
           11.9891,
           8.8622,
           11.3345,
           10.3411,
           10.1736,
           11.9728,
           11.6783,
           10.4639,
           6.2938,
           7.421,
           16.2496,
           13.5858,
           9.5653,
           13.2369,
           11.7156,
           8.897,
           14.9581,
           8.7508,
           13.9592,
           11.5456,
           17.4154,
           9.2112
          ]
         },
         "mode": "markers",
         "name": "London",
         "text": [
          "Thurrock",
          "Slough",
          "Brentwood",
          "Epping Forest",
          "Sevenoaks",
          "Mole Valley",
          "Reigate and Banstead",
          "Spelthorne",
          "Tandridge",
          "City of London",
          "Barking and Dagenham",
          "Barnet",
          "Bexley",
          "Brent",
          "Bromley",
          "Camden",
          "Croydon",
          "Ealing",
          "Enfield",
          "Greenwich",
          "Hackney",
          "Hammersmith and Fulham",
          "Haringey",
          "Harrow",
          "Havering",
          "Hillingdon",
          "Hounslow",
          "Islington",
          "Kensington and Chelsea",
          "Kingston upon Thames",
          "Lambeth",
          "Lewisham",
          "Merton",
          "Newham",
          "Redbridge",
          "Richmond upon Thames",
          "Southwark",
          "Sutton",
          "Tower Hamlets",
          "Waltham Forest",
          "Wandsworth",
          "Westminster"
         ],
         "type": "scatter",
         "x": [
          0.16032527284399742,
          0.09415642695125732,
          0.14097092148493875,
          0.10628783836004638,
          0.13124344726357726,
          0.08425818563304069,
          0.09045117762134353,
          0.06586798966597315,
          0.10216589478354918,
          0.011694747274529236,
          0.10030668574933552,
          0.030763011111321674,
          0.0707061429023402,
          0.0359975920323704,
          0.04862595799387736,
          0.01712431782046324,
          0.04749730306110359,
          0.03550488599348534,
          0.04897310368735679,
          0.04074839675770696,
          0.018817092192074468,
          0.01700480693281578,
          0.030623318187833606,
          0.06167622399938111,
          0.1276146103640796,
          0.08037384738741146,
          0.047720986787460506,
          0.017077762593296953,
          0.015682099844291208,
          0.036774019673898393,
          0.020622046081134306,
          0.02515862150186224,
          0.028645207155029117,
          0.05180971375473109,
          0.0655792276964048,
          0.02500842980780038,
          0.023211504134883442,
          0.03733372948758971,
          0.023525703478709383,
          0.038109756097560975,
          0.01795537283094273,
          0.017641566788257772
         ],
         "y": [
          0.80838016778953,
          0.8482476017313668,
          0.8272559366754617,
          0.8139153165749718,
          0.8307735962827653,
          0.8392971019627294,
          0.8471347753743761,
          0.8431836703015251,
          0.8299116790378652,
          0.9570254110612855,
          0.8239094119388467,
          0.8746528878122667,
          0.832833240095611,
          0.8380186335403726,
          0.8760100169004355,
          0.93422425986441,
          0.8793508502404748,
          0.8565976507152978,
          0.8622063116919227,
          0.8865584138466597,
          0.9249646340555432,
          0.9190404339049406,
          0.8905532611526584,
          0.8313300224722695,
          0.816770708956719,
          0.8446294649421947,
          0.8739688326284771,
          0.9294076715664956,
          0.9265349614099758,
          0.8897617208390278,
          0.9229515370309594,
          0.9117163517731225,
          0.8803247970018738,
          0.8629299690410054,
          0.8581333935859234,
          0.8986829293291652,
          0.9283318358790057,
          0.8560764521885974,
          0.9402403001499463,
          0.8582297959648922,
          0.9188725116965359,
          0.9281129905742901
         ]
        },
        {
         "customdata": [
          31957,
          47328,
          46387,
          74189,
          43067,
          45191,
          22461,
          37321,
          20922,
          39112,
          100859
         ],
         "hovertemplate": "<b>%{text}</b><br>Population: %{customdata:.2s}<extra></extra>",
         "marker": {
          "opacity": 0.5,
          "size": [
           5,
           5,
           5,
           7.4189,
           5,
           5,
           5,
           5,
           5,
           5,
           10.0859
          ]
         },
         "mode": "markers",
         "name": "North East",
         "text": [
          "Hartlepool",
          "Middlesbrough",
          "Redcar and Cleveland",
          "Stockton-on-Tees",
          "Darlington",
          "Carlisle",
          "Eden",
          "Hambleton",
          "Richmondshire",
          "Scarborough",
          "Sunderland"
         ],
         "type": "scatter",
         "x": [
          0.10726914291078637,
          0.08462221095334685,
          0.10720676051479941,
          0.0802140479046759,
          0.13790140943181553,
          0.10378172644995685,
          0.19691910422510128,
          0.19439457677982905,
          0.16661887008890164,
          0.1653456739619554,
          0.05341119781080518
         ],
         "y": [
          0.753953747119129,
          0.8173344438340628,
          0.7782092772384035,
          0.8048977986511967,
          0.8189674409169287,
          0.7654024855513164,
          0.7215027802165642,
          0.7647275659486235,
          0.7982491691659236,
          0.7722478788529696,
          0.7803556033562947
         ]
        },
        {
         "customdata": [
          50936,
          90524,
          54891,
          49488,
          129129,
          38141,
          27710,
          45191,
          27430,
          22461,
          42342,
          38340,
          34186,
          49223,
          30930,
          30085,
          53203,
          33313,
          57844,
          26622,
          28116,
          47325,
          45898,
          39986,
          20922,
          48882,
          38259,
          105324,
          76356,
          204576,
          82145,
          79536,
          111629,
          122682,
          89602,
          99876,
          129075,
          58244,
          177381,
          70454,
          106014,
          120671,
          189141,
          80282,
          163177
         ],
         "hovertemplate": "<b>%{text}</b><br>Population: %{customdata:.2s}<extra></extra>",
         "marker": {
          "opacity": 0.5,
          "size": [
           5.0936,
           9.0524,
           5.4891,
           5,
           12.9129,
           5,
           5,
           5,
           5,
           5,
           5,
           5,
           5,
           5,
           5,
           5,
           5.3203,
           5,
           5.7844,
           5,
           5,
           5,
           5,
           5,
           5,
           5,
           5,
           10.5324,
           7.6356,
           20.4576,
           8.2145,
           7.9536,
           11.1629,
           12.2682,
           8.9602,
           9.9876,
           12.9075,
           5.8244,
           17.7381,
           7.0454,
           10.6014,
           12.0671,
           18.9141,
           8.0282,
           16.3177
          ]
         },
         "mode": "markers",
         "name": "North West",
         "text": [
          "Halton",
          "Warrington",
          "Blackburn with Darwen",
          "Blackpool",
          "Shropshire",
          "Allerdale",
          "Barrow-in-Furness",
          "Carlisle",
          "Copeland",
          "Eden",
          "South Lakeland",
          "High Peak",
          "Burnley",
          "Chorley",
          "Fylde",
          "Hyndburn",
          "Lancaster",
          "Pendle",
          "Preston",
          "Ribble Valley",
          "Rossendale",
          "South Ribble",
          "West Lancashire",
          "Wyre",
          "Richmondshire",
          "Newcastle-under-Lyme",
          "Staffordshire Moorlands",
          "Bolton",
          "Bury",
          "Manchester",
          "Oldham",
          "Rochdale",
          "Salford",
          "Stockport",
          "Tameside",
          "Trafford",
          "Wigan",
          "Knowsley",
          "Liverpool",
          "St. Helens",
          "Sefton",
          "Wirral",
          "Bradford",
          "Calderdale",
          "Kirklees"
         ],
         "type": "scatter",
         "x": [
          0.08801240772734412,
          0.10138747735407184,
          0.08116084604033448,
          0.07211849337213062,
          0.20500429802755385,
          0.2238535958679636,
          0.06066402020931072,
          0.10378172644995685,
          0.101093693036821,
          0.19691910422510128,
          0.14049879552217656,
          0.12107459572248305,
          0.08427426431872696,
          0.10072527070678342,
          0.08693824765599742,
          0.08878178494266245,
          0.12987989399094035,
          0.10434364962627203,
          0.08825461586335662,
          0.12929156336864248,
          0.12078531796841656,
          0.09217115689381933,
          0.11532092901651488,
          0.09608362927024458,
          0.16661887008890164,
          0.08581891084652837,
          0.11688752973156642,
          0.07975390224450268,
          0.05495311435905495,
          0.05054845143125293,
          0.0644835352121249,
          0.07146449406558036,
          0.053928638615413554,
          0.04068241469816273,
          0.04721992812660432,
          0.04869037606632224,
          0.09912066627929499,
          0.05279513769658677,
          0.05549072335819507,
          0.0813580492236069,
          0.09932650404663534,
          0.07024057147119026,
          0.0568147572445953,
          0.07193393288657482,
          0.07086170232324408
         ],
         "y": [
          0.7886390734116846,
          0.8121620312045741,
          0.7949056811566841,
          0.8402769588436463,
          0.7575974281590343,
          0.6945700334569129,
          0.7,
          0.7654024855513164,
          0.5950542980505037,
          0.7215027802165642,
          0.7803219179448312,
          0.7707894382929126,
          0.7650423358393486,
          0.793997414485867,
          0.809917123978049,
          0.7658899494665918,
          0.8149578539149386,
          0.7388319620412902,
          0.8186715889309082,
          0.7609847612151532,
          0.7829527606620756,
          0.7884242845133228,
          0.794527967130451,
          0.7937622810318157,
          0.7982491691659236,
          0.7946935751331898,
          0.7388813642116482,
          0.8082574000111608,
          0.8348799095789771,
          0.8965342097400657,
          0.8190723486584186,
          0.813586415701552,
          0.8526523671073564,
          0.8434969816610878,
          0.7944330345734864,
          0.8675038993169473,
          0.7758941853696397,
          0.8103872555368475,
          0.8688921400415089,
          0.800537387136598,
          0.8424381044099354,
          0.8281482968230302,
          0.8224260183778308,
          0.794487101230443,
          0.7804461044768267
         ]
        },
        {
         "customdata": [
          106861,
          57043,
          71485,
          78029,
          61281,
          67426,
          79865,
          126742,
          121075,
          81019,
          97507,
          217012,
          78528,
          37151,
          30684,
          61251,
          37735,
          84908,
          52143,
          58258,
          47471,
          31985,
          44339,
          45593,
          65752,
          45233,
          41686,
          40206,
          71129,
          47690,
          39434,
          56460,
          48458,
          54497,
          48445,
          74220,
          66750,
          66769,
          62269,
          50502,
          61060,
          36222,
          64919,
          36405,
          43739,
          39705,
          36059,
          52994,
          45876,
          57872,
          24290,
          60481,
          47363,
          49487,
          61992,
          66619,
          45363,
          97983,
          140789,
          160367,
          119728,
          116783,
          74210,
          88970,
          87508
         ],
         "hovertemplate": "<b>%{text}</b><br>Population: %{customdata:.2s}<extra></extra>",
         "marker": {
          "opacity": 0.5,
          "size": [
           10.6861,
           5.7043,
           7.1485,
           7.8029,
           6.1281,
           6.7426,
           7.9865,
           12.6742,
           12.1075,
           8.1019,
           9.7507,
           21.7012,
           7.8528,
           5,
           5,
           6.1251,
           5,
           8.4908,
           5.2143,
           5.8258,
           5,
           5,
           5,
           5,
           6.5752,
           5,
           5,
           5,
           7.1129,
           5,
           5,
           5.646,
           5,
           5.4497,
           5,
           7.422,
           6.675,
           6.6769,
           6.2269,
           5.0502,
           6.106,
           5,
           6.4919,
           5,
           5,
           5,
           5,
           5.2994,
           5,
           5.7872,
           5,
           6.0481,
           5,
           5,
           6.1992,
           6.6619,
           5,
           9.7983,
           14.0789,
           16.0367,
           11.9728,
           11.6783,
           7.421,
           8.897,
           8.7508
          ]
         },
         "mode": "markers",
         "name": "South East",
         "text": [
          "Medway",
          "Bracknell Forest",
          "West Berkshire",
          "Reading",
          "Slough",
          "Windsor and Maidenhead",
          "Wokingham",
          "Milton Keynes",
          "Brighton and Hove",
          "Portsmouth",
          "Southampton",
          "Wiltshire",
          "Bedford",
          "Lewes",
          "Rother",
          "Wealden",
          "Cotswold",
          "Basingstoke and Deane",
          "East Hampshire",
          "Eastleigh",
          "Fareham",
          "Gosport",
          "Hart",
          "Havant",
          "New Forest",
          "Rushmoor",
          "Dover",
          "Gravesham",
          "Maidstone",
          "Sevenoaks",
          "Shepway",
          "Swale",
          "Thanet",
          "Tonbridge and Malling",
          "Tunbridge Wells",
          "Cherwell",
          "Oxford",
          "South Oxfordshire",
          "Vale of White Horse",
          "West Oxfordshire",
          "Guildford",
          "Mole Valley",
          "Reigate and Banstead",
          "Runnymede",
          "Spelthorne",
          "Surrey Heath",
          "Tandridge",
          "Waverley",
          "Woking",
          "Stratford-on-Avon",
          "Adur",
          "Arun",
          "Chichester",
          "Crawley",
          "Horsham",
          "Mid Sussex",
          "Worthing",
          "Bexley",
          "Bromley",
          "Croydon",
          "Hillingdon",
          "Hounslow",
          "Kingston upon Thames",
          "Richmond upon Thames",
          "Sutton"
         ],
         "type": "scatter",
         "x": [
          0.15456527638708228,
          0.09026523850428624,
          0.10227320416870672,
          0.08772379499929514,
          0.09415642695125732,
          0.07832290214457331,
          0.07656670631690979,
          0.0885341875621341,
          0.06453850918851951,
          0.09166985521914613,
          0.06994369635000564,
          0.14783975079719094,
          0.13206754278728605,
          0.09488304487093215,
          0.12273497588319646,
          0.14608741081778256,
          0.16642374453425202,
          0.1158665850096575,
          0.15831463475442534,
          0.06788767207937108,
          0.0648817172589581,
          0.07522276066906362,
          0.09637114053090959,
          0.08128440769416358,
          0.12274911789755445,
          0.11102513651537595,
          0.15403252890658733,
          0.1530617320797891,
          0.13694836142782832,
          0.13124344726357726,
          0.15217832327433178,
          0.1551009564293305,
          0.13265095546658962,
          0.13841128869479055,
          0.11177624109815254,
          0.14958232282403663,
          0.05664419475655431,
          0.11262711737482964,
          0.10570267709454143,
          0.12110411468852719,
          0.08991156239764167,
          0.08425818563304069,
          0.09045117762134353,
          0.07567641807444032,
          0.06586798966597315,
          0.1061579146203249,
          0.10216589478354918,
          0.09740725365135676,
          0.07862498910105502,
          0.14361003594138788,
          0.07566899958830794,
          0.10816620095567203,
          0.1309038701095792,
          0.10071331864934226,
          0.13137178990837528,
          0.10361908764766808,
          0.09106540572713445,
          0.0707061429023402,
          0.04862595799387736,
          0.04749730306110359,
          0.08037384738741146,
          0.047720986787460506,
          0.036774019673898393,
          0.02500842980780038,
          0.03733372948758971
         ],
         "y": [
          0.790367097007722,
          0.8370761977919359,
          0.82550482346366,
          0.8629156585832443,
          0.8482476017313668,
          0.8432482732408026,
          0.8451987125039117,
          0.8535540925068348,
          0.8877936362069956,
          0.8165427528302466,
          0.8300839895457122,
          0.8092690562523529,
          0.8202557556015319,
          0.8341720961581667,
          0.812274273060396,
          0.8042877458477555,
          0.7960794990471005,
          0.8233547136345825,
          0.8143882328165751,
          0.8158973547561169,
          0.8117023188926838,
          0.8126120508223555,
          0.840831615665134,
          0.7645336975997445,
          0.8025663829246601,
          0.8506573115298289,
          0.8235964102664808,
          0.7861607412022429,
          0.794523718594128,
          0.8307735962827653,
          0.8154994667614647,
          0.7670375722543352,
          0.8175858340091917,
          0.8170063486642969,
          0.858400271928726,
          0.7964882962823485,
          0.8938389788905253,
          0.8213851444111764,
          0.8262655057083587,
          0.8061122329503996,
          0.8619498703048195,
          0.8392971019627294,
          0.8471347753743761,
          0.8440958975083604,
          0.8431836703015251,
          0.8455483529567404,
          0.8299116790378652,
          0.8586768556794414,
          0.855552816701113,
          0.7806932785796243,
          0.8040234702430846,
          0.7925399644760213,
          0.8197189595826976,
          0.8505458311403881,
          0.8255327403219996,
          0.8459458753461156,
          0.8274355287482961,
          0.832833240095611,
          0.8760100169004355,
          0.8793508502404748,
          0.8446294649421947,
          0.8739688326284771,
          0.8897617208390278,
          0.8986829293291652,
          0.8560764521885974
         ]
        },
        {
         "customdata": [
          74301,
          78257,
          209702,
          88310,
          126652,
          71485,
          208618,
          903,
          217012,
          55919,
          51927,
          33885,
          37679,
          33431,
          51958,
          51910,
          37735,
          32968,
          56127,
          51222,
          40461,
          65752,
          62269,
          50502,
          46681,
          49523,
          57872,
          30574,
          54321
         ],
         "hovertemplate": "<b>%{text}</b><br>Population: %{customdata:.2s}<extra></extra>",
         "marker": {
          "opacity": 0.5,
          "size": [
           7.4301,
           7.8257,
           20.9702,
           8.831,
           12.6652,
           7.1485,
           20.8618,
           5,
           21.7012,
           5.5919,
           5.1927,
           5,
           5,
           5,
           5.1958,
           5.191,
           5,
           5,
           5.6127,
           5.1222,
           5,
           6.5752,
           6.2269,
           5.0502,
           5,
           5,
           5.7872,
           5,
           5.4321
          ]
         },
         "mode": "markers",
         "name": "South West",
         "text": [
          "Herefordshire, County of",
          "Bath and North East Somerset",
          "Bristol, City of",
          "North Somerset",
          "South Gloucestershire",
          "West Berkshire",
          "Cornwall",
          "Isles of Scilly",
          "Wiltshire",
          "East Devon",
          "Exeter",
          "Mid Devon",
          "North Devon",
          "South Hams",
          "Teignbridge",
          "Cheltenham",
          "Cotswold",
          "Forest of Dean",
          "Gloucester",
          "Stroud",
          "Tewkesbury",
          "New Forest",
          "Vale of White Horse",
          "West Oxfordshire",
          "Mendip",
          "Sedgemoor",
          "Stratford-on-Avon",
          "Malvern Hills",
          "Wychavon"
         ],
         "type": "scatter",
         "x": [
          0.14605456184977322,
          0.05902347393843362,
          0.036394502675224844,
          0.12157173593024573,
          0.05176388845024161,
          0.10227320416870672,
          0.16222473612056487,
          0.25359911406423036,
          0.14783975079719094,
          0.12337488152506304,
          0.07366110116124559,
          0.1631400324627416,
          0.09413731786937021,
          0.12739672758816667,
          0.11382270295238461,
          0.07699865151223272,
          0.16642374453425202,
          0.17923440912399902,
          0.0684697204553958,
          0.10848854008043418,
          0.0877388102123032,
          0.12274911789755445,
          0.10570267709454143,
          0.12110411468852719,
          0.13337332105139135,
          0.13018193566625608,
          0.14361003594138788,
          0.13092823968077452,
          0.15982769094825205
         ],
         "y": [
          0.7283562866471591,
          0.8405647037865883,
          0.8629611461202722,
          0.8127957470839094,
          0.808454425363276,
          0.82550482346366,
          0.7838055756584122,
          0.7805755395683454,
          0.8092690562523529,
          0.8081736028893851,
          0.8580928292658414,
          0.7360031779924026,
          0.7507361895272888,
          0.7959093149334647,
          0.802977148374638,
          0.8407992156597586,
          0.7960794990471005,
          0.743047218887555,
          0.7952848303819074,
          0.7694875089698446,
          0.7927995701235895,
          0.8025663829246601,
          0.8262655057083587,
          0.8061122329503996,
          0.7729216066681037,
          0.738422520923155,
          0.7806932785796243,
          0.7797642326386949,
          0.7621636058001979
         ]
        },
        {
         "customdata": [
          24549,
          43397,
          41166,
          34960,
          64742,
          54048,
          54048,
          25310,
          43826,
          69610,
          87659,
          51059,
          55166,
          52379,
          142216,
          87194,
          66504,
          24770,
          35010,
          37118,
          37118,
          64232,
          51579,
          21511
         ],
         "hovertemplate": "<b>%{text}</b><br>Population: %{customdata:.2s}<extra></extra>",
         "marker": {
          "opacity": 0.5,
          "size": [
           5,
           5,
           5,
           5,
           6.4742,
           5.4048,
           5.4048,
           5,
           5,
           6.961,
           8.7659,
           5.1059,
           5.5166,
           5.2379,
           14.2216,
           8.7194,
           6.6504,
           5,
           5,
           5,
           5,
           6.4232,
           5.1579,
           5
          ]
         },
         "mode": "markers",
         "name": "Wales",
         "text": [
          "Isle of Anglesey",
          "Gwynedd",
          "Conwy",
          "Denbighshire",
          "Flintshire",
          "Wrexham",
          "Wrexham",
          "Ceredigion",
          "Pembrokeshire",
          "Carmarthenshire",
          "Swansea",
          "Neath Port Talbot",
          "Bridgend",
          "The Vale of Glamorgan",
          "Cardiff",
          "Rhondda Cynon Taf",
          "Caerphilly",
          "Blaenau Gwent",
          "Torfaen",
          "Monmouthshire",
          "Monmouthshire",
          "Newport",
          "Powys",
          "Merthyr Tydfil"
         ],
         "type": "scatter",
         "x": [
          0.20285958694855188,
          0.19515173859944235,
          0.1595248506048681,
          0.19090389016018305,
          0.12733619597788143,
          0.11643354055654233,
          0.11643354055654233,
          0.18561833267483208,
          0.14379592023000046,
          0.18014653067088063,
          0.07241697943166132,
          0.12303413697878925,
          0.15665446108110068,
          0.0883178373012085,
          0.06721465939134837,
          0.13983760350482832,
          0.09237038373631662,
          0.16201049656842956,
          0.11225364181662383,
          0.19287138315642008,
          0.19287138315642008,
          0.12074978204010461,
          0.22036099963163303,
          0.16614755241504348
         ],
         "y": [
          0.7811033868703127,
          0.7882069098629608,
          0.8260985571496008,
          0.7877304217973512,
          0.731755557662869,
          0.7291144156243426,
          0.7291144156243426,
          0.7765350149352804,
          0.7622323289747963,
          0.7734311129549863,
          0.8483556456662393,
          0.7717205845088267,
          0.7819855584383107,
          0.8506309253571905,
          0.8799785586955708,
          0.7659728804379364,
          0.7470848775196601,
          0.7134770983088516,
          0.7690831713856978,
          0.7947969454239742,
          0.7947969454239742,
          0.8275042584757404,
          0.7054011145671333,
          0.752837916910474
         ]
        },
        {
         "customdata": [
          74301,
          74240,
          95791,
          129129,
          28312,
          38340,
          47173,
          37735,
          32968,
          40461,
          48065,
          44860,
          74220,
          50502,
          43289,
          48882,
          42805,
          57389,
          38259,
          27036,
          55194,
          51847,
          57872,
          66047,
          40892,
          30574,
          36514,
          44816,
          54321,
          38231,
          379276,
          131684,
          121957,
          119402,
          86502,
          99391,
          95127
         ],
         "hovertemplate": "<b>%{text}</b><br>Population: %{customdata:.2s}<extra></extra>",
         "marker": {
          "opacity": 0.5,
          "size": [
           7.4301,
           7.424,
           9.5791,
           12.9129,
           5,
           5,
           5,
           5,
           5,
           5,
           5,
           5,
           7.422,
           5.0502,
           5,
           5,
           5,
           5.7389,
           5,
           5,
           5.5194,
           5.1847,
           5.7872,
           6.6047,
           5,
           5,
           5,
           5,
           5.4321,
           5,
           37.9276,
           13.1684,
           12.1957,
           11.9402,
           8.6502,
           9.9391,
           9.5127
          ]
         },
         "mode": "markers",
         "name": "West Midlands",
         "text": [
          "Herefordshire, County of",
          "Telford and Wrekin",
          "Stoke-on-Trent",
          "Shropshire",
          "Derbyshire Dales",
          "High Peak",
          "South Derbyshire",
          "Cotswold",
          "Forest of Dean",
          "Tewkesbury",
          "Hinckley and Bosworth",
          "North West Leicestershire",
          "Cherwell",
          "West Oxfordshire",
          "Lichfield",
          "Newcastle-under-Lyme",
          "South Staffordshire",
          "Stafford",
          "Staffordshire Moorlands",
          "North Warwickshire",
          "Nuneaton and Bedworth",
          "Rugby",
          "Stratford-on-Avon",
          "Warwick",
          "Bromsgrove",
          "Malvern Hills",
          "Redditch",
          "Worcester",
          "Wychavon",
          "Wyre Forest",
          "Birmingham",
          "Coventry",
          "Dudley",
          "Sandwell",
          "Solihull",
          "Walsall",
          "Wolverhampton"
         ],
         "type": "scatter",
         "x": [
          0.14605456184977322,
          0.12572737068965517,
          0.08090530425614097,
          0.20500429802755385,
          0.15286804181972308,
          0.12107459572248305,
          0.12829372734403155,
          0.16642374453425202,
          0.17923440912399902,
          0.0877388102123032,
          0.10629356080307917,
          0.14025858225590726,
          0.14958232282403663,
          0.12110411468852719,
          0.13661669246228833,
          0.08581891084652837,
          0.12764863917766617,
          0.14823398212200944,
          0.11688752973156642,
          0.1345243379198106,
          0.11503061927021054,
          0.11350704958821146,
          0.14361003594138788,
          0.08038215210380487,
          0.09664482050278783,
          0.13092823968077452,
          0.11195705756696062,
          0.12392895394501964,
          0.15982769094825205,
          0.15160471868379063,
          0.07057129900125503,
          0.09911606573311868,
          0.0564461244537009,
          0.06533391400479054,
          0.0721370604147881,
          0.07016731897254279,
          0.10967443522869427
         ],
         "y": [
          0.7283562866471591,
          0.7529593412249099,
          0.8015952674915395,
          0.7575974281590343,
          0.750895463985793,
          0.7707894382929126,
          0.7422640249332146,
          0.7960794990471005,
          0.743047218887555,
          0.7927995701235895,
          0.7515702449761108,
          0.7409774219005639,
          0.7964882962823485,
          0.8061122329503996,
          0.7785659091359395,
          0.7946935751331898,
          0.7558531726464033,
          0.8012195678289564,
          0.7388813642116482,
          0.7571253109942367,
          0.7847884645856441,
          0.8011358747095775,
          0.7806932785796243,
          0.7919673415529257,
          0.7936729471970225,
          0.7797642326386949,
          0.7279904418310453,
          0.8122506681126302,
          0.7621636058001979,
          0.7650964205376837,
          0.8440927902860875,
          0.8113335731127362,
          0.7640080470656555,
          0.782220048345136,
          0.7940659968961856,
          0.774252330535285,
          0.7860127042883712
         ]
        },
        {
         "customdata": [
          47328,
          46387,
          74189,
          43067,
          101602,
          133535,
          57783,
          65526,
          84932,
          22461,
          42342,
          32399,
          28312,
          38340,
          39452,
          34186,
          53203,
          33313,
          26622,
          28116,
          45906,
          35631,
          37321,
          69857,
          20922,
          21994,
          39112,
          39956,
          47028,
          82145,
          79536,
          93259,
          115140,
          98050,
          189141,
          80282,
          163177,
          326873,
          140910
         ],
         "hovertemplate": "<b>%{text}</b><br>Population: %{customdata:.2s}<extra></extra>",
         "marker": {
          "opacity": 0.5,
          "size": [
           5,
           5,
           7.4189,
           5,
           10.1602,
           13.3535,
           5.7783,
           6.5526,
           8.4932,
           5,
           5,
           5,
           5,
           5,
           5,
           5,
           5.3203,
           5,
           5,
           5,
           5,
           5,
           5,
           6.9857,
           5,
           5,
           5,
           5,
           5,
           8.2145,
           7.9536,
           9.3259,
           11.514,
           9.805,
           18.9141,
           8.0282,
           16.3177,
           32.6873,
           14.091
          ]
         },
         "mode": "markers",
         "name": "Yorkshire and The Humber",
         "text": [
          "Middlesbrough",
          "Redcar and Cleveland",
          "Stockton-on-Tees",
          "Darlington",
          "Kingston upon Hull, City of",
          "East Riding of Yorkshire",
          "North East Lincolnshire",
          "North Lincolnshire",
          "York",
          "Eden",
          "South Lakeland",
          "Bolsover",
          "Derbyshire Dales",
          "High Peak",
          "North East Derbyshire",
          "Burnley",
          "Lancaster",
          "Pendle",
          "Ribble Valley",
          "Rossendale",
          "East Lindsey",
          "West Lindsey",
          "Hambleton",
          "Harrogate",
          "Richmondshire",
          "Ryedale",
          "Scarborough",
          "Selby",
          "Bassetlaw",
          "Oldham",
          "Rochdale",
          "Barnsley",
          "Doncaster",
          "Rotherham",
          "Bradford",
          "Calderdale",
          "Kirklees",
          "Leeds",
          "Wakefield"
         ],
         "type": "scatter",
         "x": [
          0.08462221095334685,
          0.10720676051479941,
          0.0802140479046759,
          0.13790140943181553,
          0.07561859018523258,
          0.18237915153330586,
          0.08985341709499334,
          0.14789549186582426,
          0.08991899401874441,
          0.19691910422510128,
          0.14049879552217656,
          0.1365782894533782,
          0.15286804181972308,
          0.12107459572248305,
          0.10595153604380006,
          0.08427426431872696,
          0.12987989399094035,
          0.10434364962627203,
          0.12929156336864248,
          0.12078531796841656,
          0.22378338343571647,
          0.20886306867615279,
          0.19439457677982905,
          0.11300227607827419,
          0.16661887008890164,
          0.18982449759025188,
          0.1653456739619554,
          0.2012213434778256,
          0.178170451645828,
          0.0644835352121249,
          0.07146449406558036,
          0.09762060498182482,
          0.12537780093798853,
          0.07624681285058643,
          0.0568147572445953,
          0.07193393288657482,
          0.07086170232324408,
          0.05848142856705815,
          0.08570718898587751
         ],
         "y": [
          0.8173344438340628,
          0.7782092772384035,
          0.8048977986511967,
          0.8189674409169287,
          0.7349005824121713,
          0.7556910621180871,
          0.7481082337220956,
          0.706456564808376,
          0.8619836600627819,
          0.7215027802165642,
          0.7803219179448312,
          0.7582296424633801,
          0.750895463985793,
          0.7707894382929126,
          0.7665972207306858,
          0.7650423358393486,
          0.8149578539149386,
          0.7388319620412902,
          0.7609847612151532,
          0.7829527606620756,
          0.7671656830286454,
          0.7455917602107411,
          0.7647275659486235,
          0.8207647804425034,
          0.7982491691659236,
          0.7260120950656754,
          0.7722478788529696,
          0.7600589663544919,
          0.748803087397375,
          0.8190723486584186,
          0.813586415701552,
          0.7555066079295154,
          0.7815666731950761,
          0.762189738888323,
          0.8224260183778308,
          0.794487101230443,
          0.7804461044768267,
          0.8439493340604933,
          0.7861988957658878
         ]
        }
       ],
       "layout": {
        "legend": {
         "itemsizing": "constant"
        },
        "plot_bgcolor": "rgba(245, 250, 250, 100)",
        "template": {
         "data": {
          "bar": [
           {
            "error_x": {
             "color": "#2a3f5f"
            },
            "error_y": {
             "color": "#2a3f5f"
            },
            "marker": {
             "line": {
              "color": "#E5ECF6",
              "width": 0.5
             },
             "pattern": {
              "fillmode": "overlay",
              "size": 10,
              "solidity": 0.2
             }
            },
            "type": "bar"
           }
          ],
          "barpolar": [
           {
            "marker": {
             "line": {
              "color": "#E5ECF6",
              "width": 0.5
             },
             "pattern": {
              "fillmode": "overlay",
              "size": 10,
              "solidity": 0.2
             }
            },
            "type": "barpolar"
           }
          ],
          "carpet": [
           {
            "aaxis": {
             "endlinecolor": "#2a3f5f",
             "gridcolor": "white",
             "linecolor": "white",
             "minorgridcolor": "white",
             "startlinecolor": "#2a3f5f"
            },
            "baxis": {
             "endlinecolor": "#2a3f5f",
             "gridcolor": "white",
             "linecolor": "white",
             "minorgridcolor": "white",
             "startlinecolor": "#2a3f5f"
            },
            "type": "carpet"
           }
          ],
          "choropleth": [
           {
            "colorbar": {
             "outlinewidth": 0,
             "ticks": ""
            },
            "type": "choropleth"
           }
          ],
          "contour": [
           {
            "colorbar": {
             "outlinewidth": 0,
             "ticks": ""
            },
            "colorscale": [
             [
              0,
              "#0d0887"
             ],
             [
              0.1111111111111111,
              "#46039f"
             ],
             [
              0.2222222222222222,
              "#7201a8"
             ],
             [
              0.3333333333333333,
              "#9c179e"
             ],
             [
              0.4444444444444444,
              "#bd3786"
             ],
             [
              0.5555555555555556,
              "#d8576b"
             ],
             [
              0.6666666666666666,
              "#ed7953"
             ],
             [
              0.7777777777777778,
              "#fb9f3a"
             ],
             [
              0.8888888888888888,
              "#fdca26"
             ],
             [
              1,
              "#f0f921"
             ]
            ],
            "type": "contour"
           }
          ],
          "contourcarpet": [
           {
            "colorbar": {
             "outlinewidth": 0,
             "ticks": ""
            },
            "type": "contourcarpet"
           }
          ],
          "heatmap": [
           {
            "colorbar": {
             "outlinewidth": 0,
             "ticks": ""
            },
            "colorscale": [
             [
              0,
              "#0d0887"
             ],
             [
              0.1111111111111111,
              "#46039f"
             ],
             [
              0.2222222222222222,
              "#7201a8"
             ],
             [
              0.3333333333333333,
              "#9c179e"
             ],
             [
              0.4444444444444444,
              "#bd3786"
             ],
             [
              0.5555555555555556,
              "#d8576b"
             ],
             [
              0.6666666666666666,
              "#ed7953"
             ],
             [
              0.7777777777777778,
              "#fb9f3a"
             ],
             [
              0.8888888888888888,
              "#fdca26"
             ],
             [
              1,
              "#f0f921"
             ]
            ],
            "type": "heatmap"
           }
          ],
          "heatmapgl": [
           {
            "colorbar": {
             "outlinewidth": 0,
             "ticks": ""
            },
            "colorscale": [
             [
              0,
              "#0d0887"
             ],
             [
              0.1111111111111111,
              "#46039f"
             ],
             [
              0.2222222222222222,
              "#7201a8"
             ],
             [
              0.3333333333333333,
              "#9c179e"
             ],
             [
              0.4444444444444444,
              "#bd3786"
             ],
             [
              0.5555555555555556,
              "#d8576b"
             ],
             [
              0.6666666666666666,
              "#ed7953"
             ],
             [
              0.7777777777777778,
              "#fb9f3a"
             ],
             [
              0.8888888888888888,
              "#fdca26"
             ],
             [
              1,
              "#f0f921"
             ]
            ],
            "type": "heatmapgl"
           }
          ],
          "histogram": [
           {
            "marker": {
             "pattern": {
              "fillmode": "overlay",
              "size": 10,
              "solidity": 0.2
             }
            },
            "type": "histogram"
           }
          ],
          "histogram2d": [
           {
            "colorbar": {
             "outlinewidth": 0,
             "ticks": ""
            },
            "colorscale": [
             [
              0,
              "#0d0887"
             ],
             [
              0.1111111111111111,
              "#46039f"
             ],
             [
              0.2222222222222222,
              "#7201a8"
             ],
             [
              0.3333333333333333,
              "#9c179e"
             ],
             [
              0.4444444444444444,
              "#bd3786"
             ],
             [
              0.5555555555555556,
              "#d8576b"
             ],
             [
              0.6666666666666666,
              "#ed7953"
             ],
             [
              0.7777777777777778,
              "#fb9f3a"
             ],
             [
              0.8888888888888888,
              "#fdca26"
             ],
             [
              1,
              "#f0f921"
             ]
            ],
            "type": "histogram2d"
           }
          ],
          "histogram2dcontour": [
           {
            "colorbar": {
             "outlinewidth": 0,
             "ticks": ""
            },
            "colorscale": [
             [
              0,
              "#0d0887"
             ],
             [
              0.1111111111111111,
              "#46039f"
             ],
             [
              0.2222222222222222,
              "#7201a8"
             ],
             [
              0.3333333333333333,
              "#9c179e"
             ],
             [
              0.4444444444444444,
              "#bd3786"
             ],
             [
              0.5555555555555556,
              "#d8576b"
             ],
             [
              0.6666666666666666,
              "#ed7953"
             ],
             [
              0.7777777777777778,
              "#fb9f3a"
             ],
             [
              0.8888888888888888,
              "#fdca26"
             ],
             [
              1,
              "#f0f921"
             ]
            ],
            "type": "histogram2dcontour"
           }
          ],
          "mesh3d": [
           {
            "colorbar": {
             "outlinewidth": 0,
             "ticks": ""
            },
            "type": "mesh3d"
           }
          ],
          "parcoords": [
           {
            "line": {
             "colorbar": {
              "outlinewidth": 0,
              "ticks": ""
             }
            },
            "type": "parcoords"
           }
          ],
          "pie": [
           {
            "automargin": true,
            "type": "pie"
           }
          ],
          "scatter": [
           {
            "fillpattern": {
             "fillmode": "overlay",
             "size": 10,
             "solidity": 0.2
            },
            "type": "scatter"
           }
          ],
          "scatter3d": [
           {
            "line": {
             "colorbar": {
              "outlinewidth": 0,
              "ticks": ""
             }
            },
            "marker": {
             "colorbar": {
              "outlinewidth": 0,
              "ticks": ""
             }
            },
            "type": "scatter3d"
           }
          ],
          "scattercarpet": [
           {
            "marker": {
             "colorbar": {
              "outlinewidth": 0,
              "ticks": ""
             }
            },
            "type": "scattercarpet"
           }
          ],
          "scattergeo": [
           {
            "marker": {
             "colorbar": {
              "outlinewidth": 0,
              "ticks": ""
             }
            },
            "type": "scattergeo"
           }
          ],
          "scattergl": [
           {
            "marker": {
             "colorbar": {
              "outlinewidth": 0,
              "ticks": ""
             }
            },
            "type": "scattergl"
           }
          ],
          "scattermapbox": [
           {
            "marker": {
             "colorbar": {
              "outlinewidth": 0,
              "ticks": ""
             }
            },
            "type": "scattermapbox"
           }
          ],
          "scatterpolar": [
           {
            "marker": {
             "colorbar": {
              "outlinewidth": 0,
              "ticks": ""
             }
            },
            "type": "scatterpolar"
           }
          ],
          "scatterpolargl": [
           {
            "marker": {
             "colorbar": {
              "outlinewidth": 0,
              "ticks": ""
             }
            },
            "type": "scatterpolargl"
           }
          ],
          "scatterternary": [
           {
            "marker": {
             "colorbar": {
              "outlinewidth": 0,
              "ticks": ""
             }
            },
            "type": "scatterternary"
           }
          ],
          "surface": [
           {
            "colorbar": {
             "outlinewidth": 0,
             "ticks": ""
            },
            "colorscale": [
             [
              0,
              "#0d0887"
             ],
             [
              0.1111111111111111,
              "#46039f"
             ],
             [
              0.2222222222222222,
              "#7201a8"
             ],
             [
              0.3333333333333333,
              "#9c179e"
             ],
             [
              0.4444444444444444,
              "#bd3786"
             ],
             [
              0.5555555555555556,
              "#d8576b"
             ],
             [
              0.6666666666666666,
              "#ed7953"
             ],
             [
              0.7777777777777778,
              "#fb9f3a"
             ],
             [
              0.8888888888888888,
              "#fdca26"
             ],
             [
              1,
              "#f0f921"
             ]
            ],
            "type": "surface"
           }
          ],
          "table": [
           {
            "cells": {
             "fill": {
              "color": "#EBF0F8"
             },
             "line": {
              "color": "white"
             }
            },
            "header": {
             "fill": {
              "color": "#C8D4E3"
             },
             "line": {
              "color": "white"
             }
            },
            "type": "table"
           }
          ]
         },
         "layout": {
          "annotationdefaults": {
           "arrowcolor": "#2a3f5f",
           "arrowhead": 0,
           "arrowwidth": 1
          },
          "autotypenumbers": "strict",
          "coloraxis": {
           "colorbar": {
            "outlinewidth": 0,
            "ticks": ""
           }
          },
          "colorscale": {
           "diverging": [
            [
             0,
             "#8e0152"
            ],
            [
             0.1,
             "#c51b7d"
            ],
            [
             0.2,
             "#de77ae"
            ],
            [
             0.3,
             "#f1b6da"
            ],
            [
             0.4,
             "#fde0ef"
            ],
            [
             0.5,
             "#f7f7f7"
            ],
            [
             0.6,
             "#e6f5d0"
            ],
            [
             0.7,
             "#b8e186"
            ],
            [
             0.8,
             "#7fbc41"
            ],
            [
             0.9,
             "#4d9221"
            ],
            [
             1,
             "#276419"
            ]
           ],
           "sequential": [
            [
             0,
             "#0d0887"
            ],
            [
             0.1111111111111111,
             "#46039f"
            ],
            [
             0.2222222222222222,
             "#7201a8"
            ],
            [
             0.3333333333333333,
             "#9c179e"
            ],
            [
             0.4444444444444444,
             "#bd3786"
            ],
            [
             0.5555555555555556,
             "#d8576b"
            ],
            [
             0.6666666666666666,
             "#ed7953"
            ],
            [
             0.7777777777777778,
             "#fb9f3a"
            ],
            [
             0.8888888888888888,
             "#fdca26"
            ],
            [
             1,
             "#f0f921"
            ]
           ],
           "sequentialminus": [
            [
             0,
             "#0d0887"
            ],
            [
             0.1111111111111111,
             "#46039f"
            ],
            [
             0.2222222222222222,
             "#7201a8"
            ],
            [
             0.3333333333333333,
             "#9c179e"
            ],
            [
             0.4444444444444444,
             "#bd3786"
            ],
            [
             0.5555555555555556,
             "#d8576b"
            ],
            [
             0.6666666666666666,
             "#ed7953"
            ],
            [
             0.7777777777777778,
             "#fb9f3a"
            ],
            [
             0.8888888888888888,
             "#fdca26"
            ],
            [
             1,
             "#f0f921"
            ]
           ]
          },
          "colorway": [
           "#636efa",
           "#EF553B",
           "#00cc96",
           "#ab63fa",
           "#FFA15A",
           "#19d3f3",
           "#FF6692",
           "#B6E880",
           "#FF97FF",
           "#FECB52"
          ],
          "font": {
           "color": "#2a3f5f"
          },
          "geo": {
           "bgcolor": "white",
           "lakecolor": "white",
           "landcolor": "#E5ECF6",
           "showlakes": true,
           "showland": true,
           "subunitcolor": "white"
          },
          "hoverlabel": {
           "align": "left"
          },
          "hovermode": "closest",
          "mapbox": {
           "style": "light"
          },
          "paper_bgcolor": "white",
          "plot_bgcolor": "#E5ECF6",
          "polar": {
           "angularaxis": {
            "gridcolor": "white",
            "linecolor": "white",
            "ticks": ""
           },
           "bgcolor": "#E5ECF6",
           "radialaxis": {
            "gridcolor": "white",
            "linecolor": "white",
            "ticks": ""
           }
          },
          "scene": {
           "xaxis": {
            "backgroundcolor": "#E5ECF6",
            "gridcolor": "white",
            "gridwidth": 2,
            "linecolor": "white",
            "showbackground": true,
            "ticks": "",
            "zerolinecolor": "white"
           },
           "yaxis": {
            "backgroundcolor": "#E5ECF6",
            "gridcolor": "white",
            "gridwidth": 2,
            "linecolor": "white",
            "showbackground": true,
            "ticks": "",
            "zerolinecolor": "white"
           },
           "zaxis": {
            "backgroundcolor": "#E5ECF6",
            "gridcolor": "white",
            "gridwidth": 2,
            "linecolor": "white",
            "showbackground": true,
            "ticks": "",
            "zerolinecolor": "white"
           }
          },
          "shapedefaults": {
           "line": {
            "color": "#2a3f5f"
           }
          },
          "ternary": {
           "aaxis": {
            "gridcolor": "white",
            "linecolor": "white",
            "ticks": ""
           },
           "baxis": {
            "gridcolor": "white",
            "linecolor": "white",
            "ticks": ""
           },
           "bgcolor": "#E5ECF6",
           "caxis": {
            "gridcolor": "white",
            "linecolor": "white",
            "ticks": ""
           }
          },
          "title": {
           "x": 0.05
          },
          "xaxis": {
           "automargin": true,
           "gridcolor": "white",
           "linecolor": "white",
           "ticks": "",
           "title": {
            "standoff": 15
           },
           "zerolinecolor": "white",
           "zerolinewidth": 2
          },
          "yaxis": {
           "automargin": true,
           "gridcolor": "white",
           "linecolor": "white",
           "ticks": "",
           "title": {
            "standoff": 15
           },
           "zerolinecolor": "white",
           "zerolinewidth": 2
          }
         }
        },
        "title": {
         "text": "Employment and Distance Travelled to Work"
        },
        "updatemenus": [
         {
          "active": 0,
          "buttons": [
           {
            "args": [
             {
              "visible": [
               true,
               true,
               true,
               true,
               true,
               true,
               true,
               true,
               true,
               true
              ]
             }
            ],
            "label": "All",
            "method": "update"
           },
           {
            "args": [
             {
              "visible": [
               true,
               false,
               false,
               false,
               false,
               false,
               false,
               false,
               false,
               false
              ]
             }
            ],
            "label": "East Midlands",
            "method": "update"
           },
           {
            "args": [
             {
              "visible": [
               false,
               true,
               false,
               false,
               false,
               false,
               false,
               false,
               false,
               false
              ]
             }
            ],
            "label": "East of England",
            "method": "update"
           },
           {
            "args": [
             {
              "visible": [
               false,
               false,
               true,
               false,
               false,
               false,
               false,
               false,
               false,
               false
              ]
             }
            ],
            "label": "London",
            "method": "update"
           },
           {
            "args": [
             {
              "visible": [
               false,
               false,
               false,
               true,
               false,
               false,
               false,
               false,
               false,
               false
              ]
             }
            ],
            "label": "North East",
            "method": "update"
           },
           {
            "args": [
             {
              "visible": [
               false,
               false,
               false,
               false,
               true,
               false,
               false,
               false,
               false,
               false
              ]
             }
            ],
            "label": "North West",
            "method": "update"
           },
           {
            "args": [
             {
              "visible": [
               false,
               false,
               false,
               false,
               false,
               true,
               false,
               false,
               false,
               false
              ]
             }
            ],
            "label": "South East",
            "method": "update"
           },
           {
            "args": [
             {
              "visible": [
               false,
               false,
               false,
               false,
               false,
               false,
               true,
               false,
               false,
               false
              ]
             }
            ],
            "label": "South West",
            "method": "update"
           },
           {
            "args": [
             {
              "visible": [
               false,
               false,
               false,
               false,
               false,
               false,
               false,
               true,
               false,
               false
              ]
             }
            ],
            "label": "Wales",
            "method": "update"
           },
           {
            "args": [
             {
              "visible": [
               false,
               false,
               false,
               false,
               false,
               false,
               false,
               false,
               true,
               false
              ]
             }
            ],
            "label": "West Midlands",
            "method": "update"
           },
           {
            "args": [
             {
              "visible": [
               false,
               false,
               false,
               false,
               false,
               false,
               false,
               false,
               false,
               true
              ]
             }
            ],
            "label": "Yorkshire and The Humber",
            "method": "update"
           }
          ],
          "showactive": true,
          "type": "dropdown",
          "x": 1,
          "y": 1
         }
        ],
        "xaxis": {
         "tickformat": "2%",
         "title": {
          "text": "Population with Long Commute"
         }
        },
        "yaxis": {
         "tickformat": "2%",
         "title": {
          "text": "Population Employed to Service Sector"
         }
        }
       }
      }
     },
     "metadata": {},
     "output_type": "display_data"
    }
   ],
   "source": [
    "# get the list of region\n",
    "rgn16nm = list(ltla_EW[\"rgn16nm\"].sort_values().unique())\n",
    "\n",
    "# instantiate figure\n",
    "fig = go.Figure()\n",
    "# instantiate drop-down button\n",
    "keys = [\"label\",\"method\",\"args\"]\n",
    "vals = [\"All\",\"update\",\n",
    "            [{\"visible\":[True for _ in range(len(rgn16nm))]}]\n",
    "        ]\n",
    "\n",
    "dropdown_button =[dict(zip(keys,vals))]\n",
    "n = 0\n",
    "# for loop to add trace an label\n",
    "for group in rgn16nm:\n",
    "    # get the regional subset\n",
    "    df_subset = df[df['rgn16nm'] ==  group]\n",
    "\n",
    "    # transform the size\n",
    "    size = [max(size, 5) for size in df_subset['Work Force Population_l'] /10000]\n",
    "    # size = np.arctan(df_subset['Work Force Population_l']/df['Work Force Population_l'].max()) * 60\n",
    "    # size = np.log(df_subset[\"Work Force Population_l\"]) * 0.8\n",
    "\n",
    "\n",
    "\n",
    "    # add trace\n",
    "    scatter_trace = go.Scatter(x=df_subset['% 20km or More'], y=df_subset['Serv'], name=group,\n",
    "                                text = df_subset['lad11nm'],\n",
    "                                mode = \"markers\",\n",
    "                                marker = dict(size=size,opacity=0.5),\n",
    "                                # define hover text\n",
    "                                hovertemplate=\n",
    "                                    \"<b>%{text}</b><br>\" +\n",
    "                                    \"Population: %{customdata:.2s}\" +\n",
    "                                    \"<extra></extra>\",\n",
    "                                customdata = df_subset['Work Force Population_l']\n",
    "                            )\n",
    "    fig.add_trace(scatter_trace )\n",
    "    # add drop_down button\n",
    "    visible = [False for _ in range(len(rgn16nm))]\n",
    "    visible[n] = True\n",
    "    vals = [group,\"update\", [{\"visible\":visible}]]\n",
    "    button = dict(zip(keys,vals))\n",
    "    dropdown_button.append(button)\n",
    "    n +=1\n",
    "\n",
    "# Customize the legend appearance\n",
    "fig.update_layout(\n",
    "    legend=dict(\n",
    "        itemsizing='constant'  # Set the size of legend markers to be constant\n",
    "    ),\n",
    "    plot_bgcolor='rgba(245, 250, 250, 100)'\n",
    ")\n",
    "\n",
    "# add drop_down button\n",
    "fig.update_layout({\n",
    "'updatemenus':[{\n",
    "'type': \"dropdown\",\n",
    "'x': 1,\n",
    "'y': 1,\n",
    "'showactive': True,\n",
    "'active': 0,\n",
    "'buttons': dropdown_button}]\n",
    "})\n",
    "\n",
    "# add axis title\n",
    "fig.update_layout(\n",
    "    title = \"Employment and Distance Travelled to Work\",\n",
    "    xaxis={\n",
    "        'title':'Population with Long Commute',\n",
    "        'tickformat':\"2%\"\n",
    "        },\n",
    "    yaxis={'title':'Population Employed to Service Sector',\n",
    "           'tickformat':\"2%\"})\n",
    "\n",
    "fig.show()"
   ]
  },
  {
   "cell_type": "code",
   "execution_count": 19,
   "metadata": {},
   "outputs": [],
   "source": [
    "pio.write_html(fig, file=f'./output/ts058_ts060_v1.html', auto_open=True)"
   ]
  },
  {
   "cell_type": "code",
   "execution_count": 20,
   "metadata": {},
   "outputs": [
    {
     "data": {
      "text/plain": [
       "['_BasePlotlyType__validators',\n",
       " '__class__',\n",
       " '__contains__',\n",
       " '__delattr__',\n",
       " '__dict__',\n",
       " '__dir__',\n",
       " '__doc__',\n",
       " '__eq__',\n",
       " '__format__',\n",
       " '__ge__',\n",
       " '__getattribute__',\n",
       " '__getitem__',\n",
       " '__gt__',\n",
       " '__hash__',\n",
       " '__init__',\n",
       " '__init_subclass__',\n",
       " '__iter__',\n",
       " '__le__',\n",
       " '__lt__',\n",
       " '__module__',\n",
       " '__ne__',\n",
       " '__new__',\n",
       " '__reduce__',\n",
       " '__reduce_ex__',\n",
       " '__repr__',\n",
       " '__setattr__',\n",
       " '__setitem__',\n",
       " '__sizeof__',\n",
       " '__str__',\n",
       " '__subclasshook__',\n",
       " '__weakref__',\n",
       " '_build_repr_for_class',\n",
       " '_change_callbacks',\n",
       " '_compound_array_props',\n",
       " '_compound_props',\n",
       " '_dispatch_change_callbacks',\n",
       " '_get_child_prop_defaults',\n",
       " '_get_child_props',\n",
       " '_get_prop_validator',\n",
       " '_get_validator',\n",
       " '_in_batch_mode',\n",
       " '_init_child_props',\n",
       " '_init_props',\n",
       " '_mapped_properties',\n",
       " '_orphan_props',\n",
       " '_parent',\n",
       " '_parent_path_str',\n",
       " '_path_str',\n",
       " '_plotly_name',\n",
       " '_process_kwargs',\n",
       " '_prop_defaults',\n",
       " '_prop_descriptions',\n",
       " '_prop_set_child',\n",
       " '_props',\n",
       " '_raise_on_invalid_property_error',\n",
       " '_relayout_child',\n",
       " '_restyle_child',\n",
       " '_send_prop_set',\n",
       " '_set_array_prop',\n",
       " '_set_compound_prop',\n",
       " '_set_prop',\n",
       " '_skip_invalid',\n",
       " '_valid_props',\n",
       " '_validate',\n",
       " '_validators',\n",
       " '_vals_equal',\n",
       " 'autocolorscale',\n",
       " 'cauto',\n",
       " 'cmax',\n",
       " 'cmid',\n",
       " 'cmin',\n",
       " 'color',\n",
       " 'coloraxis',\n",
       " 'colorbar',\n",
       " 'colorscale',\n",
       " 'colorsrc',\n",
       " 'figure',\n",
       " 'gradient',\n",
       " 'line',\n",
       " 'maxdisplayed',\n",
       " 'on_change',\n",
       " 'opacity',\n",
       " 'opacitysrc',\n",
       " 'parent',\n",
       " 'plotly_name',\n",
       " 'pop',\n",
       " 'reversescale',\n",
       " 'showscale',\n",
       " 'size',\n",
       " 'sizemin',\n",
       " 'sizemode',\n",
       " 'sizeref',\n",
       " 'sizesrc',\n",
       " 'symbol',\n",
       " 'symbolsrc',\n",
       " 'to_plotly_json',\n",
       " 'update']"
      ]
     },
     "execution_count": 20,
     "metadata": {},
     "output_type": "execute_result"
    }
   ],
   "source": [
    "dir(fig.data[0].marker)"
   ]
  },
  {
   "cell_type": "code",
   "execution_count": 29,
   "metadata": {},
   "outputs": [
    {
     "data": {
      "application/vnd.plotly.v1+json": {
       "config": {
        "plotlyServerURL": "https://plot.ly"
       },
       "data": [
        {
         "customdata": [
          57783,
          65526,
          101698,
          136609,
          16212,
          111046,
          87016,
          126742,
          78528,
          39184,
          79189,
          51676,
          32399,
          40563,
          28312,
          47178,
          38340,
          39452,
          47173,
          43643,
          73962,
          42559,
          48065,
          21827,
          44860,
          22677,
          28271,
          45906,
          40006,
          48554,
          38262,
          58459,
          35631,
          57080,
          49700,
          47028,
          45434,
          47785,
          43439,
          48677,
          50741,
          74220,
          43289,
          38259,
          27036,
          55194,
          51847,
          57872,
          82145,
          122682,
          89602,
          93259,
          115140,
          98050,
          163177
         ],
         "hovertemplate": "<b>%{text}</b><br>Population: %{customdata:.2s}<extra></extra>",
         "marker": {
          "opacity": 0.5,
          "size": [
           5.7783,
           6.5526,
           10.1698,
           13.6609,
           5,
           11.1046,
           8.7016,
           12.6742,
           7.8528,
           5,
           7.9189,
           5.1676,
           5,
           5,
           5,
           5,
           5,
           5,
           5,
           5,
           7.3962,
           5,
           5,
           5,
           5,
           5,
           5,
           5,
           5,
           5,
           5,
           5.8459,
           5,
           5.708,
           5,
           5,
           5,
           5,
           5,
           5,
           5.0741,
           7.422,
           5,
           5,
           5,
           5.5194,
           5.1847,
           5.7872,
           8.2145,
           12.2682,
           8.9602,
           9.3259,
           11.514,
           9.805,
           16.3177
          ]
         },
         "mode": "markers",
         "name": "East Midlands",
         "text": [
          "North East Lincolnshire",
          "North Lincolnshire",
          "Derby",
          "Leicester",
          "Rutland",
          "Nottingham",
          "Peterborough",
          "Milton Keynes",
          "Bedford",
          "Fenland",
          "Huntingdonshire",
          "Amber Valley",
          "Bolsover",
          "Chesterfield",
          "Derbyshire Dales",
          "Erewash",
          "High Peak",
          "North East Derbyshire",
          "South Derbyshire",
          "Blaby",
          "Charnwood",
          "Harborough",
          "Hinckley and Bosworth",
          "Melton",
          "North West Leicestershire",
          "Oadby and Wigston",
          "Boston",
          "East Lindsey",
          "Lincoln",
          "North Kesteven",
          "South Holland",
          "South Kesteven",
          "West Lindsey",
          "King's Lynn and West Norfolk",
          "Ashfield",
          "Bassetlaw",
          "Broxtowe",
          "Gedling",
          "Mansfield",
          "Newark and Sherwood",
          "Rushcliffe",
          "Cherwell",
          "Lichfield",
          "Staffordshire Moorlands",
          "North Warwickshire",
          "Nuneaton and Bedworth",
          "Rugby",
          "Stratford-on-Avon",
          "Oldham",
          "Stockport",
          "Tameside",
          "Barnsley",
          "Doncaster",
          "Rotherham",
          "Kirklees"
         ],
         "type": "scatter",
         "x": [
          0.08985341709499334,
          0.14789549186582426,
          0.0831186454010895,
          0.09558667437723722,
          0.16543301258327164,
          0.07586045422617654,
          0.12890732738806657,
          0.0885341875621341,
          0.13206754278728605,
          0.2157513270722744,
          0.1653638762959502,
          0.08773898908584256,
          0.1365782894533782,
          0.08335182309000813,
          0.15286804181972308,
          0.06102420619780406,
          0.12107459572248305,
          0.10595153604380006,
          0.12829372734403155,
          0.08672639369429233,
          0.08374570725507693,
          0.144669752578773,
          0.10629356080307917,
          0.1836715993952444,
          0.14025858225590726,
          0.08096309035586718,
          0.19574829330409255,
          0.22378338343571647,
          0.15262710593410989,
          0.18651398442970712,
          0.1816946317495165,
          0.19350313895208607,
          0.20886306867615279,
          0.1926594253679047,
          0.09090543259557345,
          0.178170451645828,
          0.05940485099264868,
          0.06983362980014649,
          0.1024655263703124,
          0.16985434599502847,
          0.09248930844878894,
          0.14958232282403663,
          0.13661669246228833,
          0.11688752973156642,
          0.1345243379198106,
          0.11503061927021054,
          0.11350704958821146,
          0.14361003594138788,
          0.0644835352121249,
          0.04068241469816273,
          0.04721992812660432,
          0.09762060498182482,
          0.12537780093798853,
          0.07624681285058643,
          0.07086170232324408
         ],
         "y": [
          0.7481082337220956,
          0.706456564808376,
          0.786761668731929,
          0.7860406877678525,
          0.8043651849880223,
          0.8475124744884102,
          0.8137051966445147,
          0.8535540925068348,
          0.8202557556015319,
          0.7092398802827365,
          0.7819170468594435,
          0.7224770642201835,
          0.7582296424633801,
          0.7987461078852142,
          0.750895463985793,
          0.7585924564691326,
          0.7707894382929126,
          0.7665972207306858,
          0.7422640249332146,
          0.7681511575918978,
          0.7866770439027841,
          0.7913975849273223,
          0.7515702449761108,
          0.7327078589934836,
          0.7409774219005639,
          0.8150584795321637,
          0.708359354090463,
          0.7671656830286454,
          0.7963565526394657,
          0.7828555358304186,
          0.7039435872496573,
          0.7720893399228614,
          0.7455917602107411,
          0.7345815455294067,
          0.7385099757024058,
          0.748803087397375,
          0.8042762207454492,
          0.806378132118451,
          0.7662403395043703,
          0.7670191903627959,
          0.8331139542638516,
          0.7964882962823485,
          0.7785659091359395,
          0.7388813642116482,
          0.7571253109942367,
          0.7847884645856441,
          0.8011358747095775,
          0.7806932785796243,
          0.8190723486584186,
          0.8434969816610878,
          0.7944330345734864,
          0.7555066079295154,
          0.7815666731950761,
          0.762189738888323,
          0.7804461044768267
         ]
        },
        {
         "customdata": [
          87016,
          80371,
          70284,
          70095,
          126742,
          78528,
          65169,
          38529,
          39184,
          79189,
          73591,
          73177,
          62723,
          32567,
          32448,
          77016,
          77743,
          54343,
          37557,
          25308,
          33548,
          46464,
          38773,
          38262,
          58459,
          54538,
          52322,
          33721,
          57080,
          33510,
          158307,
          118269,
          103411,
          101736,
          119728,
          117156,
          115456
         ],
         "hovertemplate": "<b>%{text}</b><br>Population: %{customdata:.2s}<extra></extra>",
         "marker": {
          "opacity": 0.5,
          "size": [
           8.7016,
           8.0371,
           7.0284,
           7.0095,
           12.6742,
           7.8528,
           6.5169,
           5,
           5,
           7.9189,
           7.3591,
           7.3177,
           6.2723,
           5,
           5,
           7.7016,
           7.7743,
           5.4343,
           5,
           5,
           5,
           5,
           5,
           5,
           5.8459,
           5.4538,
           5.2322,
           5,
           5.708,
           5,
           15.8307,
           11.8269,
           10.3411,
           10.1736,
           11.9728,
           11.7156,
           11.5456
          ]
         },
         "mode": "markers",
         "name": "East of England",
         "text": [
          "Peterborough",
          "Luton",
          "Southend-on-Sea",
          "Thurrock",
          "Milton Keynes",
          "Bedford",
          "Cambridge",
          "East Cambridgeshire",
          "Fenland",
          "Huntingdonshire",
          "South Cambridgeshire",
          "Basildon",
          "Braintree",
          "Brentwood",
          "Castle Point",
          "Chelmsford",
          "Colchester",
          "Epping Forest",
          "Harlow",
          "Maldon",
          "Rochford",
          "Tendring",
          "Uttlesford",
          "South Holland",
          "South Kesteven",
          "Breckland",
          "Broadland",
          "Great Yarmouth",
          "King's Lynn and West Norfolk",
          "North Norfolk",
          "Barnet",
          "Enfield",
          "Harrow",
          "Havering",
          "Hillingdon",
          "Redbridge",
          "Waltham Forest"
         ],
         "type": "scatter",
         "x": [
          0.12890732738806657,
          0.15417252491570343,
          0.11531785328097434,
          0.16032527284399742,
          0.0885341875621341,
          0.13206754278728605,
          0.06407954702389172,
          0.1828233278828934,
          0.2157513270722744,
          0.1653638762959502,
          0.08787759372749385,
          0.13856812933025403,
          0.19206670599301692,
          0.14097092148493875,
          0.1494699211045365,
          0.13108964371039783,
          0.14226361215800779,
          0.10628783836004638,
          0.14045317783635541,
          0.17267267267267267,
          0.12367354238702755,
          0.16761363636363635,
          0.17205271709694892,
          0.1816946317495165,
          0.19350313895208607,
          0.23721075213612527,
          0.09022973127938534,
          0.19225408499154828,
          0.1926594253679047,
          0.20307370934049537,
          0.030763011111321674,
          0.04897310368735679,
          0.06167622399938111,
          0.1276146103640796,
          0.08037384738741146,
          0.0655792276964048,
          0.038109756097560975
         ],
         "y": [
          0.8137051966445147,
          0.8198800551098144,
          0.8433341340379534,
          0.80838016778953,
          0.8535540925068348,
          0.8202557556015319,
          0.9020863136127361,
          0.7757787325456499,
          0.7092398802827365,
          0.7819170468594435,
          0.826967958379929,
          0.7967371886340909,
          0.7757108585362017,
          0.8272559366754617,
          0.7767454337064403,
          0.8302397008746745,
          0.8347333760771998,
          0.8139153165749718,
          0.7930712017746074,
          0.7477290174002047,
          0.796950319724545,
          0.7971516815374057,
          0.7967772967772968,
          0.7039435872496573,
          0.7720893399228614,
          0.732114564290067,
          0.7938333732726256,
          0.7758842834569102,
          0.7345815455294067,
          0.7757933650199241,
          0.8746528878122667,
          0.8622063116919227,
          0.8313300224722695,
          0.816770708956719,
          0.8446294649421947,
          0.8581333935859234,
          0.8582297959648922
         ]
        },
        {
         "customdata": [
          70095,
          61281,
          32567,
          54343,
          47690,
          36222,
          64919,
          43739,
          36059,
          5045,
          73365,
          158307,
          97983,
          131231,
          140789,
          93084,
          160367,
          147360,
          118269,
          122876,
          119891,
          88622,
          113345,
          103411,
          101736,
          119728,
          116783,
          104639,
          62938,
          74210,
          162496,
          135858,
          95653,
          132369,
          117156,
          88970,
          149581,
          87508,
          139592,
          115456,
          174154,
          92112
         ],
         "hovertemplate": "<b>%{text}</b><br>Population: %{customdata:.2s}<extra></extra>",
         "marker": {
          "opacity": 0.5,
          "size": [
           7.0095,
           6.1281,
           5,
           5.4343,
           5,
           5,
           6.4919,
           5,
           5,
           5,
           7.3365,
           15.8307,
           9.7983,
           13.1231,
           14.0789,
           9.3084,
           16.0367,
           14.736,
           11.8269,
           12.2876,
           11.9891,
           8.8622,
           11.3345,
           10.3411,
           10.1736,
           11.9728,
           11.6783,
           10.4639,
           6.2938,
           7.421,
           16.2496,
           13.5858,
           9.5653,
           13.2369,
           11.7156,
           8.897,
           14.9581,
           8.7508,
           13.9592,
           11.5456,
           17.4154,
           9.2112
          ]
         },
         "mode": "markers",
         "name": "London",
         "text": [
          "Thurrock",
          "Slough",
          "Brentwood",
          "Epping Forest",
          "Sevenoaks",
          "Mole Valley",
          "Reigate and Banstead",
          "Spelthorne",
          "Tandridge",
          "City of London",
          "Barking and Dagenham",
          "Barnet",
          "Bexley",
          "Brent",
          "Bromley",
          "Camden",
          "Croydon",
          "Ealing",
          "Enfield",
          "Greenwich",
          "Hackney",
          "Hammersmith and Fulham",
          "Haringey",
          "Harrow",
          "Havering",
          "Hillingdon",
          "Hounslow",
          "Islington",
          "Kensington and Chelsea",
          "Kingston upon Thames",
          "Lambeth",
          "Lewisham",
          "Merton",
          "Newham",
          "Redbridge",
          "Richmond upon Thames",
          "Southwark",
          "Sutton",
          "Tower Hamlets",
          "Waltham Forest",
          "Wandsworth",
          "Westminster"
         ],
         "type": "scatter",
         "x": [
          0.16032527284399742,
          0.09415642695125732,
          0.14097092148493875,
          0.10628783836004638,
          0.13124344726357726,
          0.08425818563304069,
          0.09045117762134353,
          0.06586798966597315,
          0.10216589478354918,
          0.011694747274529236,
          0.10030668574933552,
          0.030763011111321674,
          0.0707061429023402,
          0.0359975920323704,
          0.04862595799387736,
          0.01712431782046324,
          0.04749730306110359,
          0.03550488599348534,
          0.04897310368735679,
          0.04074839675770696,
          0.018817092192074468,
          0.01700480693281578,
          0.030623318187833606,
          0.06167622399938111,
          0.1276146103640796,
          0.08037384738741146,
          0.047720986787460506,
          0.017077762593296953,
          0.015682099844291208,
          0.036774019673898393,
          0.020622046081134306,
          0.02515862150186224,
          0.028645207155029117,
          0.05180971375473109,
          0.0655792276964048,
          0.02500842980780038,
          0.023211504134883442,
          0.03733372948758971,
          0.023525703478709383,
          0.038109756097560975,
          0.01795537283094273,
          0.017641566788257772
         ],
         "y": [
          0.80838016778953,
          0.8482476017313668,
          0.8272559366754617,
          0.8139153165749718,
          0.8307735962827653,
          0.8392971019627294,
          0.8471347753743761,
          0.8431836703015251,
          0.8299116790378652,
          0.9570254110612855,
          0.8239094119388467,
          0.8746528878122667,
          0.832833240095611,
          0.8380186335403726,
          0.8760100169004355,
          0.93422425986441,
          0.8793508502404748,
          0.8565976507152978,
          0.8622063116919227,
          0.8865584138466597,
          0.9249646340555432,
          0.9190404339049406,
          0.8905532611526584,
          0.8313300224722695,
          0.816770708956719,
          0.8446294649421947,
          0.8739688326284771,
          0.9294076715664956,
          0.9265349614099758,
          0.8897617208390278,
          0.9229515370309594,
          0.9117163517731225,
          0.8803247970018738,
          0.8629299690410054,
          0.8581333935859234,
          0.8986829293291652,
          0.9283318358790057,
          0.8560764521885974,
          0.9402403001499463,
          0.8582297959648922,
          0.9188725116965359,
          0.9281129905742901
         ]
        },
        {
         "customdata": [
          31957,
          47328,
          46387,
          74189,
          43067,
          45191,
          22461,
          37321,
          20922,
          39112,
          100859
         ],
         "hovertemplate": "<b>%{text}</b><br>Population: %{customdata:.2s}<extra></extra>",
         "marker": {
          "opacity": 0.5,
          "size": [
           5,
           5,
           5,
           7.4189,
           5,
           5,
           5,
           5,
           5,
           5,
           10.0859
          ]
         },
         "mode": "markers",
         "name": "North East",
         "text": [
          "Hartlepool",
          "Middlesbrough",
          "Redcar and Cleveland",
          "Stockton-on-Tees",
          "Darlington",
          "Carlisle",
          "Eden",
          "Hambleton",
          "Richmondshire",
          "Scarborough",
          "Sunderland"
         ],
         "type": "scatter",
         "x": [
          0.10726914291078637,
          0.08462221095334685,
          0.10720676051479941,
          0.0802140479046759,
          0.13790140943181553,
          0.10378172644995685,
          0.19691910422510128,
          0.19439457677982905,
          0.16661887008890164,
          0.1653456739619554,
          0.05341119781080518
         ],
         "y": [
          0.753953747119129,
          0.8173344438340628,
          0.7782092772384035,
          0.8048977986511967,
          0.8189674409169287,
          0.7654024855513164,
          0.7215027802165642,
          0.7647275659486235,
          0.7982491691659236,
          0.7722478788529696,
          0.7803556033562947
         ]
        },
        {
         "customdata": [
          50936,
          90524,
          54891,
          49488,
          129129,
          38141,
          27710,
          45191,
          27430,
          22461,
          42342,
          38340,
          34186,
          49223,
          30930,
          30085,
          53203,
          33313,
          57844,
          26622,
          28116,
          47325,
          45898,
          39986,
          20922,
          48882,
          38259,
          105324,
          76356,
          204576,
          82145,
          79536,
          111629,
          122682,
          89602,
          99876,
          129075,
          58244,
          177381,
          70454,
          106014,
          120671,
          189141,
          80282,
          163177
         ],
         "hovertemplate": "<b>%{text}</b><br>Population: %{customdata:.2s}<extra></extra>",
         "marker": {
          "opacity": 0.5,
          "size": [
           5.0936,
           9.0524,
           5.4891,
           5,
           12.9129,
           5,
           5,
           5,
           5,
           5,
           5,
           5,
           5,
           5,
           5,
           5,
           5.3203,
           5,
           5.7844,
           5,
           5,
           5,
           5,
           5,
           5,
           5,
           5,
           10.5324,
           7.6356,
           20.4576,
           8.2145,
           7.9536,
           11.1629,
           12.2682,
           8.9602,
           9.9876,
           12.9075,
           5.8244,
           17.7381,
           7.0454,
           10.6014,
           12.0671,
           18.9141,
           8.0282,
           16.3177
          ]
         },
         "mode": "markers",
         "name": "North West",
         "text": [
          "Halton",
          "Warrington",
          "Blackburn with Darwen",
          "Blackpool",
          "Shropshire",
          "Allerdale",
          "Barrow-in-Furness",
          "Carlisle",
          "Copeland",
          "Eden",
          "South Lakeland",
          "High Peak",
          "Burnley",
          "Chorley",
          "Fylde",
          "Hyndburn",
          "Lancaster",
          "Pendle",
          "Preston",
          "Ribble Valley",
          "Rossendale",
          "South Ribble",
          "West Lancashire",
          "Wyre",
          "Richmondshire",
          "Newcastle-under-Lyme",
          "Staffordshire Moorlands",
          "Bolton",
          "Bury",
          "Manchester",
          "Oldham",
          "Rochdale",
          "Salford",
          "Stockport",
          "Tameside",
          "Trafford",
          "Wigan",
          "Knowsley",
          "Liverpool",
          "St. Helens",
          "Sefton",
          "Wirral",
          "Bradford",
          "Calderdale",
          "Kirklees"
         ],
         "type": "scatter",
         "x": [
          0.08801240772734412,
          0.10138747735407184,
          0.08116084604033448,
          0.07211849337213062,
          0.20500429802755385,
          0.2238535958679636,
          0.06066402020931072,
          0.10378172644995685,
          0.101093693036821,
          0.19691910422510128,
          0.14049879552217656,
          0.12107459572248305,
          0.08427426431872696,
          0.10072527070678342,
          0.08693824765599742,
          0.08878178494266245,
          0.12987989399094035,
          0.10434364962627203,
          0.08825461586335662,
          0.12929156336864248,
          0.12078531796841656,
          0.09217115689381933,
          0.11532092901651488,
          0.09608362927024458,
          0.16661887008890164,
          0.08581891084652837,
          0.11688752973156642,
          0.07975390224450268,
          0.05495311435905495,
          0.05054845143125293,
          0.0644835352121249,
          0.07146449406558036,
          0.053928638615413554,
          0.04068241469816273,
          0.04721992812660432,
          0.04869037606632224,
          0.09912066627929499,
          0.05279513769658677,
          0.05549072335819507,
          0.0813580492236069,
          0.09932650404663534,
          0.07024057147119026,
          0.0568147572445953,
          0.07193393288657482,
          0.07086170232324408
         ],
         "y": [
          0.7886390734116846,
          0.8121620312045741,
          0.7949056811566841,
          0.8402769588436463,
          0.7575974281590343,
          0.6945700334569129,
          0.7,
          0.7654024855513164,
          0.5950542980505037,
          0.7215027802165642,
          0.7803219179448312,
          0.7707894382929126,
          0.7650423358393486,
          0.793997414485867,
          0.809917123978049,
          0.7658899494665918,
          0.8149578539149386,
          0.7388319620412902,
          0.8186715889309082,
          0.7609847612151532,
          0.7829527606620756,
          0.7884242845133228,
          0.794527967130451,
          0.7937622810318157,
          0.7982491691659236,
          0.7946935751331898,
          0.7388813642116482,
          0.8082574000111608,
          0.8348799095789771,
          0.8965342097400657,
          0.8190723486584186,
          0.813586415701552,
          0.8526523671073564,
          0.8434969816610878,
          0.7944330345734864,
          0.8675038993169473,
          0.7758941853696397,
          0.8103872555368475,
          0.8688921400415089,
          0.800537387136598,
          0.8424381044099354,
          0.8281482968230302,
          0.8224260183778308,
          0.794487101230443,
          0.7804461044768267
         ]
        },
        {
         "customdata": [
          106861,
          57043,
          71485,
          78029,
          61281,
          67426,
          79865,
          126742,
          121075,
          81019,
          97507,
          217012,
          78528,
          37151,
          30684,
          61251,
          37735,
          84908,
          52143,
          58258,
          47471,
          31985,
          44339,
          45593,
          65752,
          45233,
          41686,
          40206,
          71129,
          47690,
          39434,
          56460,
          48458,
          54497,
          48445,
          74220,
          66750,
          66769,
          62269,
          50502,
          61060,
          36222,
          64919,
          36405,
          43739,
          39705,
          36059,
          52994,
          45876,
          57872,
          24290,
          60481,
          47363,
          49487,
          61992,
          66619,
          45363,
          97983,
          140789,
          160367,
          119728,
          116783,
          74210,
          88970,
          87508
         ],
         "hovertemplate": "<b>%{text}</b><br>Population: %{customdata:.2s}<extra></extra>",
         "marker": {
          "opacity": 0.5,
          "size": [
           10.6861,
           5.7043,
           7.1485,
           7.8029,
           6.1281,
           6.7426,
           7.9865,
           12.6742,
           12.1075,
           8.1019,
           9.7507,
           21.7012,
           7.8528,
           5,
           5,
           6.1251,
           5,
           8.4908,
           5.2143,
           5.8258,
           5,
           5,
           5,
           5,
           6.5752,
           5,
           5,
           5,
           7.1129,
           5,
           5,
           5.646,
           5,
           5.4497,
           5,
           7.422,
           6.675,
           6.6769,
           6.2269,
           5.0502,
           6.106,
           5,
           6.4919,
           5,
           5,
           5,
           5,
           5.2994,
           5,
           5.7872,
           5,
           6.0481,
           5,
           5,
           6.1992,
           6.6619,
           5,
           9.7983,
           14.0789,
           16.0367,
           11.9728,
           11.6783,
           7.421,
           8.897,
           8.7508
          ]
         },
         "mode": "markers",
         "name": "South East",
         "text": [
          "Medway",
          "Bracknell Forest",
          "West Berkshire",
          "Reading",
          "Slough",
          "Windsor and Maidenhead",
          "Wokingham",
          "Milton Keynes",
          "Brighton and Hove",
          "Portsmouth",
          "Southampton",
          "Wiltshire",
          "Bedford",
          "Lewes",
          "Rother",
          "Wealden",
          "Cotswold",
          "Basingstoke and Deane",
          "East Hampshire",
          "Eastleigh",
          "Fareham",
          "Gosport",
          "Hart",
          "Havant",
          "New Forest",
          "Rushmoor",
          "Dover",
          "Gravesham",
          "Maidstone",
          "Sevenoaks",
          "Shepway",
          "Swale",
          "Thanet",
          "Tonbridge and Malling",
          "Tunbridge Wells",
          "Cherwell",
          "Oxford",
          "South Oxfordshire",
          "Vale of White Horse",
          "West Oxfordshire",
          "Guildford",
          "Mole Valley",
          "Reigate and Banstead",
          "Runnymede",
          "Spelthorne",
          "Surrey Heath",
          "Tandridge",
          "Waverley",
          "Woking",
          "Stratford-on-Avon",
          "Adur",
          "Arun",
          "Chichester",
          "Crawley",
          "Horsham",
          "Mid Sussex",
          "Worthing",
          "Bexley",
          "Bromley",
          "Croydon",
          "Hillingdon",
          "Hounslow",
          "Kingston upon Thames",
          "Richmond upon Thames",
          "Sutton"
         ],
         "type": "scatter",
         "x": [
          0.15456527638708228,
          0.09026523850428624,
          0.10227320416870672,
          0.08772379499929514,
          0.09415642695125732,
          0.07832290214457331,
          0.07656670631690979,
          0.0885341875621341,
          0.06453850918851951,
          0.09166985521914613,
          0.06994369635000564,
          0.14783975079719094,
          0.13206754278728605,
          0.09488304487093215,
          0.12273497588319646,
          0.14608741081778256,
          0.16642374453425202,
          0.1158665850096575,
          0.15831463475442534,
          0.06788767207937108,
          0.0648817172589581,
          0.07522276066906362,
          0.09637114053090959,
          0.08128440769416358,
          0.12274911789755445,
          0.11102513651537595,
          0.15403252890658733,
          0.1530617320797891,
          0.13694836142782832,
          0.13124344726357726,
          0.15217832327433178,
          0.1551009564293305,
          0.13265095546658962,
          0.13841128869479055,
          0.11177624109815254,
          0.14958232282403663,
          0.05664419475655431,
          0.11262711737482964,
          0.10570267709454143,
          0.12110411468852719,
          0.08991156239764167,
          0.08425818563304069,
          0.09045117762134353,
          0.07567641807444032,
          0.06586798966597315,
          0.1061579146203249,
          0.10216589478354918,
          0.09740725365135676,
          0.07862498910105502,
          0.14361003594138788,
          0.07566899958830794,
          0.10816620095567203,
          0.1309038701095792,
          0.10071331864934226,
          0.13137178990837528,
          0.10361908764766808,
          0.09106540572713445,
          0.0707061429023402,
          0.04862595799387736,
          0.04749730306110359,
          0.08037384738741146,
          0.047720986787460506,
          0.036774019673898393,
          0.02500842980780038,
          0.03733372948758971
         ],
         "y": [
          0.790367097007722,
          0.8370761977919359,
          0.82550482346366,
          0.8629156585832443,
          0.8482476017313668,
          0.8432482732408026,
          0.8451987125039117,
          0.8535540925068348,
          0.8877936362069956,
          0.8165427528302466,
          0.8300839895457122,
          0.8092690562523529,
          0.8202557556015319,
          0.8341720961581667,
          0.812274273060396,
          0.8042877458477555,
          0.7960794990471005,
          0.8233547136345825,
          0.8143882328165751,
          0.8158973547561169,
          0.8117023188926838,
          0.8126120508223555,
          0.840831615665134,
          0.7645336975997445,
          0.8025663829246601,
          0.8506573115298289,
          0.8235964102664808,
          0.7861607412022429,
          0.794523718594128,
          0.8307735962827653,
          0.8154994667614647,
          0.7670375722543352,
          0.8175858340091917,
          0.8170063486642969,
          0.858400271928726,
          0.7964882962823485,
          0.8938389788905253,
          0.8213851444111764,
          0.8262655057083587,
          0.8061122329503996,
          0.8619498703048195,
          0.8392971019627294,
          0.8471347753743761,
          0.8440958975083604,
          0.8431836703015251,
          0.8455483529567404,
          0.8299116790378652,
          0.8586768556794414,
          0.855552816701113,
          0.7806932785796243,
          0.8040234702430846,
          0.7925399644760213,
          0.8197189595826976,
          0.8505458311403881,
          0.8255327403219996,
          0.8459458753461156,
          0.8274355287482961,
          0.832833240095611,
          0.8760100169004355,
          0.8793508502404748,
          0.8446294649421947,
          0.8739688326284771,
          0.8897617208390278,
          0.8986829293291652,
          0.8560764521885974
         ]
        },
        {
         "customdata": [
          74301,
          78257,
          209702,
          88310,
          126652,
          71485,
          208618,
          903,
          217012,
          55919,
          51927,
          33885,
          37679,
          33431,
          51958,
          51910,
          37735,
          32968,
          56127,
          51222,
          40461,
          65752,
          62269,
          50502,
          46681,
          49523,
          57872,
          30574,
          54321
         ],
         "hovertemplate": "<b>%{text}</b><br>Population: %{customdata:.2s}<extra></extra>",
         "marker": {
          "opacity": 0.5,
          "size": [
           7.4301,
           7.8257,
           20.9702,
           8.831,
           12.6652,
           7.1485,
           20.8618,
           5,
           21.7012,
           5.5919,
           5.1927,
           5,
           5,
           5,
           5.1958,
           5.191,
           5,
           5,
           5.6127,
           5.1222,
           5,
           6.5752,
           6.2269,
           5.0502,
           5,
           5,
           5.7872,
           5,
           5.4321
          ]
         },
         "mode": "markers",
         "name": "South West",
         "text": [
          "Herefordshire, County of",
          "Bath and North East Somerset",
          "Bristol, City of",
          "North Somerset",
          "South Gloucestershire",
          "West Berkshire",
          "Cornwall",
          "Isles of Scilly",
          "Wiltshire",
          "East Devon",
          "Exeter",
          "Mid Devon",
          "North Devon",
          "South Hams",
          "Teignbridge",
          "Cheltenham",
          "Cotswold",
          "Forest of Dean",
          "Gloucester",
          "Stroud",
          "Tewkesbury",
          "New Forest",
          "Vale of White Horse",
          "West Oxfordshire",
          "Mendip",
          "Sedgemoor",
          "Stratford-on-Avon",
          "Malvern Hills",
          "Wychavon"
         ],
         "type": "scatter",
         "x": [
          0.14605456184977322,
          0.05902347393843362,
          0.036394502675224844,
          0.12157173593024573,
          0.05176388845024161,
          0.10227320416870672,
          0.16222473612056487,
          0.25359911406423036,
          0.14783975079719094,
          0.12337488152506304,
          0.07366110116124559,
          0.1631400324627416,
          0.09413731786937021,
          0.12739672758816667,
          0.11382270295238461,
          0.07699865151223272,
          0.16642374453425202,
          0.17923440912399902,
          0.0684697204553958,
          0.10848854008043418,
          0.0877388102123032,
          0.12274911789755445,
          0.10570267709454143,
          0.12110411468852719,
          0.13337332105139135,
          0.13018193566625608,
          0.14361003594138788,
          0.13092823968077452,
          0.15982769094825205
         ],
         "y": [
          0.7283562866471591,
          0.8405647037865883,
          0.8629611461202722,
          0.8127957470839094,
          0.808454425363276,
          0.82550482346366,
          0.7838055756584122,
          0.7805755395683454,
          0.8092690562523529,
          0.8081736028893851,
          0.8580928292658414,
          0.7360031779924026,
          0.7507361895272888,
          0.7959093149334647,
          0.802977148374638,
          0.8407992156597586,
          0.7960794990471005,
          0.743047218887555,
          0.7952848303819074,
          0.7694875089698446,
          0.7927995701235895,
          0.8025663829246601,
          0.8262655057083587,
          0.8061122329503996,
          0.7729216066681037,
          0.738422520923155,
          0.7806932785796243,
          0.7797642326386949,
          0.7621636058001979
         ]
        },
        {
         "customdata": [
          24549,
          43397,
          41166,
          34960,
          64742,
          54048,
          54048,
          25310,
          43826,
          69610,
          87659,
          51059,
          55166,
          52379,
          142216,
          87194,
          66504,
          24770,
          35010,
          37118,
          37118,
          64232,
          51579,
          21511
         ],
         "hovertemplate": "<b>%{text}</b><br>Population: %{customdata:.2s}<extra></extra>",
         "marker": {
          "opacity": 0.5,
          "size": [
           5,
           5,
           5,
           5,
           6.4742,
           5.4048,
           5.4048,
           5,
           5,
           6.961,
           8.7659,
           5.1059,
           5.5166,
           5.2379,
           14.2216,
           8.7194,
           6.6504,
           5,
           5,
           5,
           5,
           6.4232,
           5.1579,
           5
          ]
         },
         "mode": "markers",
         "name": "Wales",
         "text": [
          "Isle of Anglesey",
          "Gwynedd",
          "Conwy",
          "Denbighshire",
          "Flintshire",
          "Wrexham",
          "Wrexham",
          "Ceredigion",
          "Pembrokeshire",
          "Carmarthenshire",
          "Swansea",
          "Neath Port Talbot",
          "Bridgend",
          "The Vale of Glamorgan",
          "Cardiff",
          "Rhondda Cynon Taf",
          "Caerphilly",
          "Blaenau Gwent",
          "Torfaen",
          "Monmouthshire",
          "Monmouthshire",
          "Newport",
          "Powys",
          "Merthyr Tydfil"
         ],
         "type": "scatter",
         "x": [
          0.20285958694855188,
          0.19515173859944235,
          0.1595248506048681,
          0.19090389016018305,
          0.12733619597788143,
          0.11643354055654233,
          0.11643354055654233,
          0.18561833267483208,
          0.14379592023000046,
          0.18014653067088063,
          0.07241697943166132,
          0.12303413697878925,
          0.15665446108110068,
          0.0883178373012085,
          0.06721465939134837,
          0.13983760350482832,
          0.09237038373631662,
          0.16201049656842956,
          0.11225364181662383,
          0.19287138315642008,
          0.19287138315642008,
          0.12074978204010461,
          0.22036099963163303,
          0.16614755241504348
         ],
         "y": [
          0.7811033868703127,
          0.7882069098629608,
          0.8260985571496008,
          0.7877304217973512,
          0.731755557662869,
          0.7291144156243426,
          0.7291144156243426,
          0.7765350149352804,
          0.7622323289747963,
          0.7734311129549863,
          0.8483556456662393,
          0.7717205845088267,
          0.7819855584383107,
          0.8506309253571905,
          0.8799785586955708,
          0.7659728804379364,
          0.7470848775196601,
          0.7134770983088516,
          0.7690831713856978,
          0.7947969454239742,
          0.7947969454239742,
          0.8275042584757404,
          0.7054011145671333,
          0.752837916910474
         ]
        },
        {
         "customdata": [
          74301,
          74240,
          95791,
          129129,
          28312,
          38340,
          47173,
          37735,
          32968,
          40461,
          48065,
          44860,
          74220,
          50502,
          43289,
          48882,
          42805,
          57389,
          38259,
          27036,
          55194,
          51847,
          57872,
          66047,
          40892,
          30574,
          36514,
          44816,
          54321,
          38231,
          379276,
          131684,
          121957,
          119402,
          86502,
          99391,
          95127
         ],
         "hovertemplate": "<b>%{text}</b><br>Population: %{customdata:.2s}<extra></extra>",
         "marker": {
          "opacity": 0.5,
          "size": [
           7.4301,
           7.424,
           9.5791,
           12.9129,
           5,
           5,
           5,
           5,
           5,
           5,
           5,
           5,
           7.422,
           5.0502,
           5,
           5,
           5,
           5.7389,
           5,
           5,
           5.5194,
           5.1847,
           5.7872,
           6.6047,
           5,
           5,
           5,
           5,
           5.4321,
           5,
           37.9276,
           13.1684,
           12.1957,
           11.9402,
           8.6502,
           9.9391,
           9.5127
          ]
         },
         "mode": "markers",
         "name": "West Midlands",
         "text": [
          "Herefordshire, County of",
          "Telford and Wrekin",
          "Stoke-on-Trent",
          "Shropshire",
          "Derbyshire Dales",
          "High Peak",
          "South Derbyshire",
          "Cotswold",
          "Forest of Dean",
          "Tewkesbury",
          "Hinckley and Bosworth",
          "North West Leicestershire",
          "Cherwell",
          "West Oxfordshire",
          "Lichfield",
          "Newcastle-under-Lyme",
          "South Staffordshire",
          "Stafford",
          "Staffordshire Moorlands",
          "North Warwickshire",
          "Nuneaton and Bedworth",
          "Rugby",
          "Stratford-on-Avon",
          "Warwick",
          "Bromsgrove",
          "Malvern Hills",
          "Redditch",
          "Worcester",
          "Wychavon",
          "Wyre Forest",
          "Birmingham",
          "Coventry",
          "Dudley",
          "Sandwell",
          "Solihull",
          "Walsall",
          "Wolverhampton"
         ],
         "type": "scatter",
         "x": [
          0.14605456184977322,
          0.12572737068965517,
          0.08090530425614097,
          0.20500429802755385,
          0.15286804181972308,
          0.12107459572248305,
          0.12829372734403155,
          0.16642374453425202,
          0.17923440912399902,
          0.0877388102123032,
          0.10629356080307917,
          0.14025858225590726,
          0.14958232282403663,
          0.12110411468852719,
          0.13661669246228833,
          0.08581891084652837,
          0.12764863917766617,
          0.14823398212200944,
          0.11688752973156642,
          0.1345243379198106,
          0.11503061927021054,
          0.11350704958821146,
          0.14361003594138788,
          0.08038215210380487,
          0.09664482050278783,
          0.13092823968077452,
          0.11195705756696062,
          0.12392895394501964,
          0.15982769094825205,
          0.15160471868379063,
          0.07057129900125503,
          0.09911606573311868,
          0.0564461244537009,
          0.06533391400479054,
          0.0721370604147881,
          0.07016731897254279,
          0.10967443522869427
         ],
         "y": [
          0.7283562866471591,
          0.7529593412249099,
          0.8015952674915395,
          0.7575974281590343,
          0.750895463985793,
          0.7707894382929126,
          0.7422640249332146,
          0.7960794990471005,
          0.743047218887555,
          0.7927995701235895,
          0.7515702449761108,
          0.7409774219005639,
          0.7964882962823485,
          0.8061122329503996,
          0.7785659091359395,
          0.7946935751331898,
          0.7558531726464033,
          0.8012195678289564,
          0.7388813642116482,
          0.7571253109942367,
          0.7847884645856441,
          0.8011358747095775,
          0.7806932785796243,
          0.7919673415529257,
          0.7936729471970225,
          0.7797642326386949,
          0.7279904418310453,
          0.8122506681126302,
          0.7621636058001979,
          0.7650964205376837,
          0.8440927902860875,
          0.8113335731127362,
          0.7640080470656555,
          0.782220048345136,
          0.7940659968961856,
          0.774252330535285,
          0.7860127042883712
         ]
        },
        {
         "customdata": [
          47328,
          46387,
          74189,
          43067,
          101602,
          133535,
          57783,
          65526,
          84932,
          22461,
          42342,
          32399,
          28312,
          38340,
          39452,
          34186,
          53203,
          33313,
          26622,
          28116,
          45906,
          35631,
          37321,
          69857,
          20922,
          21994,
          39112,
          39956,
          47028,
          82145,
          79536,
          93259,
          115140,
          98050,
          189141,
          80282,
          163177,
          326873,
          140910
         ],
         "hovertemplate": "<b>%{text}</b><br>Population: %{customdata:.2s}<extra></extra>",
         "marker": {
          "opacity": 0.5,
          "size": [
           5,
           5,
           7.4189,
           5,
           10.1602,
           13.3535,
           5.7783,
           6.5526,
           8.4932,
           5,
           5,
           5,
           5,
           5,
           5,
           5,
           5.3203,
           5,
           5,
           5,
           5,
           5,
           5,
           6.9857,
           5,
           5,
           5,
           5,
           5,
           8.2145,
           7.9536,
           9.3259,
           11.514,
           9.805,
           18.9141,
           8.0282,
           16.3177,
           32.6873,
           14.091
          ]
         },
         "mode": "markers",
         "name": "Yorkshire and The Humber",
         "text": [
          "Middlesbrough",
          "Redcar and Cleveland",
          "Stockton-on-Tees",
          "Darlington",
          "Kingston upon Hull, City of",
          "East Riding of Yorkshire",
          "North East Lincolnshire",
          "North Lincolnshire",
          "York",
          "Eden",
          "South Lakeland",
          "Bolsover",
          "Derbyshire Dales",
          "High Peak",
          "North East Derbyshire",
          "Burnley",
          "Lancaster",
          "Pendle",
          "Ribble Valley",
          "Rossendale",
          "East Lindsey",
          "West Lindsey",
          "Hambleton",
          "Harrogate",
          "Richmondshire",
          "Ryedale",
          "Scarborough",
          "Selby",
          "Bassetlaw",
          "Oldham",
          "Rochdale",
          "Barnsley",
          "Doncaster",
          "Rotherham",
          "Bradford",
          "Calderdale",
          "Kirklees",
          "Leeds",
          "Wakefield"
         ],
         "type": "scatter",
         "x": [
          0.08462221095334685,
          0.10720676051479941,
          0.0802140479046759,
          0.13790140943181553,
          0.07561859018523258,
          0.18237915153330586,
          0.08985341709499334,
          0.14789549186582426,
          0.08991899401874441,
          0.19691910422510128,
          0.14049879552217656,
          0.1365782894533782,
          0.15286804181972308,
          0.12107459572248305,
          0.10595153604380006,
          0.08427426431872696,
          0.12987989399094035,
          0.10434364962627203,
          0.12929156336864248,
          0.12078531796841656,
          0.22378338343571647,
          0.20886306867615279,
          0.19439457677982905,
          0.11300227607827419,
          0.16661887008890164,
          0.18982449759025188,
          0.1653456739619554,
          0.2012213434778256,
          0.178170451645828,
          0.0644835352121249,
          0.07146449406558036,
          0.09762060498182482,
          0.12537780093798853,
          0.07624681285058643,
          0.0568147572445953,
          0.07193393288657482,
          0.07086170232324408,
          0.05848142856705815,
          0.08570718898587751
         ],
         "y": [
          0.8173344438340628,
          0.7782092772384035,
          0.8048977986511967,
          0.8189674409169287,
          0.7349005824121713,
          0.7556910621180871,
          0.7481082337220956,
          0.706456564808376,
          0.8619836600627819,
          0.7215027802165642,
          0.7803219179448312,
          0.7582296424633801,
          0.750895463985793,
          0.7707894382929126,
          0.7665972207306858,
          0.7650423358393486,
          0.8149578539149386,
          0.7388319620412902,
          0.7609847612151532,
          0.7829527606620756,
          0.7671656830286454,
          0.7455917602107411,
          0.7647275659486235,
          0.8207647804425034,
          0.7982491691659236,
          0.7260120950656754,
          0.7722478788529696,
          0.7600589663544919,
          0.748803087397375,
          0.8190723486584186,
          0.813586415701552,
          0.7555066079295154,
          0.7815666731950761,
          0.762189738888323,
          0.8224260183778308,
          0.794487101230443,
          0.7804461044768267,
          0.8439493340604933,
          0.7861988957658878
         ]
        }
       ],
       "layout": {
        "legend": {
         "itemsizing": "constant"
        },
        "plot_bgcolor": "rgba(245, 250, 250, 100)",
        "template": {
         "data": {
          "bar": [
           {
            "error_x": {
             "color": "#2a3f5f"
            },
            "error_y": {
             "color": "#2a3f5f"
            },
            "marker": {
             "line": {
              "color": "#E5ECF6",
              "width": 0.5
             },
             "pattern": {
              "fillmode": "overlay",
              "size": 10,
              "solidity": 0.2
             }
            },
            "type": "bar"
           }
          ],
          "barpolar": [
           {
            "marker": {
             "line": {
              "color": "#E5ECF6",
              "width": 0.5
             },
             "pattern": {
              "fillmode": "overlay",
              "size": 10,
              "solidity": 0.2
             }
            },
            "type": "barpolar"
           }
          ],
          "carpet": [
           {
            "aaxis": {
             "endlinecolor": "#2a3f5f",
             "gridcolor": "white",
             "linecolor": "white",
             "minorgridcolor": "white",
             "startlinecolor": "#2a3f5f"
            },
            "baxis": {
             "endlinecolor": "#2a3f5f",
             "gridcolor": "white",
             "linecolor": "white",
             "minorgridcolor": "white",
             "startlinecolor": "#2a3f5f"
            },
            "type": "carpet"
           }
          ],
          "choropleth": [
           {
            "colorbar": {
             "outlinewidth": 0,
             "ticks": ""
            },
            "type": "choropleth"
           }
          ],
          "contour": [
           {
            "colorbar": {
             "outlinewidth": 0,
             "ticks": ""
            },
            "colorscale": [
             [
              0,
              "#0d0887"
             ],
             [
              0.1111111111111111,
              "#46039f"
             ],
             [
              0.2222222222222222,
              "#7201a8"
             ],
             [
              0.3333333333333333,
              "#9c179e"
             ],
             [
              0.4444444444444444,
              "#bd3786"
             ],
             [
              0.5555555555555556,
              "#d8576b"
             ],
             [
              0.6666666666666666,
              "#ed7953"
             ],
             [
              0.7777777777777778,
              "#fb9f3a"
             ],
             [
              0.8888888888888888,
              "#fdca26"
             ],
             [
              1,
              "#f0f921"
             ]
            ],
            "type": "contour"
           }
          ],
          "contourcarpet": [
           {
            "colorbar": {
             "outlinewidth": 0,
             "ticks": ""
            },
            "type": "contourcarpet"
           }
          ],
          "heatmap": [
           {
            "colorbar": {
             "outlinewidth": 0,
             "ticks": ""
            },
            "colorscale": [
             [
              0,
              "#0d0887"
             ],
             [
              0.1111111111111111,
              "#46039f"
             ],
             [
              0.2222222222222222,
              "#7201a8"
             ],
             [
              0.3333333333333333,
              "#9c179e"
             ],
             [
              0.4444444444444444,
              "#bd3786"
             ],
             [
              0.5555555555555556,
              "#d8576b"
             ],
             [
              0.6666666666666666,
              "#ed7953"
             ],
             [
              0.7777777777777778,
              "#fb9f3a"
             ],
             [
              0.8888888888888888,
              "#fdca26"
             ],
             [
              1,
              "#f0f921"
             ]
            ],
            "type": "heatmap"
           }
          ],
          "heatmapgl": [
           {
            "colorbar": {
             "outlinewidth": 0,
             "ticks": ""
            },
            "colorscale": [
             [
              0,
              "#0d0887"
             ],
             [
              0.1111111111111111,
              "#46039f"
             ],
             [
              0.2222222222222222,
              "#7201a8"
             ],
             [
              0.3333333333333333,
              "#9c179e"
             ],
             [
              0.4444444444444444,
              "#bd3786"
             ],
             [
              0.5555555555555556,
              "#d8576b"
             ],
             [
              0.6666666666666666,
              "#ed7953"
             ],
             [
              0.7777777777777778,
              "#fb9f3a"
             ],
             [
              0.8888888888888888,
              "#fdca26"
             ],
             [
              1,
              "#f0f921"
             ]
            ],
            "type": "heatmapgl"
           }
          ],
          "histogram": [
           {
            "marker": {
             "pattern": {
              "fillmode": "overlay",
              "size": 10,
              "solidity": 0.2
             }
            },
            "type": "histogram"
           }
          ],
          "histogram2d": [
           {
            "colorbar": {
             "outlinewidth": 0,
             "ticks": ""
            },
            "colorscale": [
             [
              0,
              "#0d0887"
             ],
             [
              0.1111111111111111,
              "#46039f"
             ],
             [
              0.2222222222222222,
              "#7201a8"
             ],
             [
              0.3333333333333333,
              "#9c179e"
             ],
             [
              0.4444444444444444,
              "#bd3786"
             ],
             [
              0.5555555555555556,
              "#d8576b"
             ],
             [
              0.6666666666666666,
              "#ed7953"
             ],
             [
              0.7777777777777778,
              "#fb9f3a"
             ],
             [
              0.8888888888888888,
              "#fdca26"
             ],
             [
              1,
              "#f0f921"
             ]
            ],
            "type": "histogram2d"
           }
          ],
          "histogram2dcontour": [
           {
            "colorbar": {
             "outlinewidth": 0,
             "ticks": ""
            },
            "colorscale": [
             [
              0,
              "#0d0887"
             ],
             [
              0.1111111111111111,
              "#46039f"
             ],
             [
              0.2222222222222222,
              "#7201a8"
             ],
             [
              0.3333333333333333,
              "#9c179e"
             ],
             [
              0.4444444444444444,
              "#bd3786"
             ],
             [
              0.5555555555555556,
              "#d8576b"
             ],
             [
              0.6666666666666666,
              "#ed7953"
             ],
             [
              0.7777777777777778,
              "#fb9f3a"
             ],
             [
              0.8888888888888888,
              "#fdca26"
             ],
             [
              1,
              "#f0f921"
             ]
            ],
            "type": "histogram2dcontour"
           }
          ],
          "mesh3d": [
           {
            "colorbar": {
             "outlinewidth": 0,
             "ticks": ""
            },
            "type": "mesh3d"
           }
          ],
          "parcoords": [
           {
            "line": {
             "colorbar": {
              "outlinewidth": 0,
              "ticks": ""
             }
            },
            "type": "parcoords"
           }
          ],
          "pie": [
           {
            "automargin": true,
            "type": "pie"
           }
          ],
          "scatter": [
           {
            "fillpattern": {
             "fillmode": "overlay",
             "size": 10,
             "solidity": 0.2
            },
            "type": "scatter"
           }
          ],
          "scatter3d": [
           {
            "line": {
             "colorbar": {
              "outlinewidth": 0,
              "ticks": ""
             }
            },
            "marker": {
             "colorbar": {
              "outlinewidth": 0,
              "ticks": ""
             }
            },
            "type": "scatter3d"
           }
          ],
          "scattercarpet": [
           {
            "marker": {
             "colorbar": {
              "outlinewidth": 0,
              "ticks": ""
             }
            },
            "type": "scattercarpet"
           }
          ],
          "scattergeo": [
           {
            "marker": {
             "colorbar": {
              "outlinewidth": 0,
              "ticks": ""
             }
            },
            "type": "scattergeo"
           }
          ],
          "scattergl": [
           {
            "marker": {
             "colorbar": {
              "outlinewidth": 0,
              "ticks": ""
             }
            },
            "type": "scattergl"
           }
          ],
          "scattermapbox": [
           {
            "marker": {
             "colorbar": {
              "outlinewidth": 0,
              "ticks": ""
             }
            },
            "type": "scattermapbox"
           }
          ],
          "scatterpolar": [
           {
            "marker": {
             "colorbar": {
              "outlinewidth": 0,
              "ticks": ""
             }
            },
            "type": "scatterpolar"
           }
          ],
          "scatterpolargl": [
           {
            "marker": {
             "colorbar": {
              "outlinewidth": 0,
              "ticks": ""
             }
            },
            "type": "scatterpolargl"
           }
          ],
          "scatterternary": [
           {
            "marker": {
             "colorbar": {
              "outlinewidth": 0,
              "ticks": ""
             }
            },
            "type": "scatterternary"
           }
          ],
          "surface": [
           {
            "colorbar": {
             "outlinewidth": 0,
             "ticks": ""
            },
            "colorscale": [
             [
              0,
              "#0d0887"
             ],
             [
              0.1111111111111111,
              "#46039f"
             ],
             [
              0.2222222222222222,
              "#7201a8"
             ],
             [
              0.3333333333333333,
              "#9c179e"
             ],
             [
              0.4444444444444444,
              "#bd3786"
             ],
             [
              0.5555555555555556,
              "#d8576b"
             ],
             [
              0.6666666666666666,
              "#ed7953"
             ],
             [
              0.7777777777777778,
              "#fb9f3a"
             ],
             [
              0.8888888888888888,
              "#fdca26"
             ],
             [
              1,
              "#f0f921"
             ]
            ],
            "type": "surface"
           }
          ],
          "table": [
           {
            "cells": {
             "fill": {
              "color": "#EBF0F8"
             },
             "line": {
              "color": "white"
             }
            },
            "header": {
             "fill": {
              "color": "#C8D4E3"
             },
             "line": {
              "color": "white"
             }
            },
            "type": "table"
           }
          ]
         },
         "layout": {
          "annotationdefaults": {
           "arrowcolor": "#2a3f5f",
           "arrowhead": 0,
           "arrowwidth": 1
          },
          "autotypenumbers": "strict",
          "coloraxis": {
           "colorbar": {
            "outlinewidth": 0,
            "ticks": ""
           }
          },
          "colorscale": {
           "diverging": [
            [
             0,
             "#8e0152"
            ],
            [
             0.1,
             "#c51b7d"
            ],
            [
             0.2,
             "#de77ae"
            ],
            [
             0.3,
             "#f1b6da"
            ],
            [
             0.4,
             "#fde0ef"
            ],
            [
             0.5,
             "#f7f7f7"
            ],
            [
             0.6,
             "#e6f5d0"
            ],
            [
             0.7,
             "#b8e186"
            ],
            [
             0.8,
             "#7fbc41"
            ],
            [
             0.9,
             "#4d9221"
            ],
            [
             1,
             "#276419"
            ]
           ],
           "sequential": [
            [
             0,
             "#0d0887"
            ],
            [
             0.1111111111111111,
             "#46039f"
            ],
            [
             0.2222222222222222,
             "#7201a8"
            ],
            [
             0.3333333333333333,
             "#9c179e"
            ],
            [
             0.4444444444444444,
             "#bd3786"
            ],
            [
             0.5555555555555556,
             "#d8576b"
            ],
            [
             0.6666666666666666,
             "#ed7953"
            ],
            [
             0.7777777777777778,
             "#fb9f3a"
            ],
            [
             0.8888888888888888,
             "#fdca26"
            ],
            [
             1,
             "#f0f921"
            ]
           ],
           "sequentialminus": [
            [
             0,
             "#0d0887"
            ],
            [
             0.1111111111111111,
             "#46039f"
            ],
            [
             0.2222222222222222,
             "#7201a8"
            ],
            [
             0.3333333333333333,
             "#9c179e"
            ],
            [
             0.4444444444444444,
             "#bd3786"
            ],
            [
             0.5555555555555556,
             "#d8576b"
            ],
            [
             0.6666666666666666,
             "#ed7953"
            ],
            [
             0.7777777777777778,
             "#fb9f3a"
            ],
            [
             0.8888888888888888,
             "#fdca26"
            ],
            [
             1,
             "#f0f921"
            ]
           ]
          },
          "colorway": [
           "#636efa",
           "#EF553B",
           "#00cc96",
           "#ab63fa",
           "#FFA15A",
           "#19d3f3",
           "#FF6692",
           "#B6E880",
           "#FF97FF",
           "#FECB52"
          ],
          "font": {
           "color": "#2a3f5f"
          },
          "geo": {
           "bgcolor": "white",
           "lakecolor": "white",
           "landcolor": "#E5ECF6",
           "showlakes": true,
           "showland": true,
           "subunitcolor": "white"
          },
          "hoverlabel": {
           "align": "left"
          },
          "hovermode": "closest",
          "mapbox": {
           "style": "light"
          },
          "paper_bgcolor": "white",
          "plot_bgcolor": "#E5ECF6",
          "polar": {
           "angularaxis": {
            "gridcolor": "white",
            "linecolor": "white",
            "ticks": ""
           },
           "bgcolor": "#E5ECF6",
           "radialaxis": {
            "gridcolor": "white",
            "linecolor": "white",
            "ticks": ""
           }
          },
          "scene": {
           "xaxis": {
            "backgroundcolor": "#E5ECF6",
            "gridcolor": "white",
            "gridwidth": 2,
            "linecolor": "white",
            "showbackground": true,
            "ticks": "",
            "zerolinecolor": "white"
           },
           "yaxis": {
            "backgroundcolor": "#E5ECF6",
            "gridcolor": "white",
            "gridwidth": 2,
            "linecolor": "white",
            "showbackground": true,
            "ticks": "",
            "zerolinecolor": "white"
           },
           "zaxis": {
            "backgroundcolor": "#E5ECF6",
            "gridcolor": "white",
            "gridwidth": 2,
            "linecolor": "white",
            "showbackground": true,
            "ticks": "",
            "zerolinecolor": "white"
           }
          },
          "shapedefaults": {
           "line": {
            "color": "#2a3f5f"
           }
          },
          "ternary": {
           "aaxis": {
            "gridcolor": "white",
            "linecolor": "white",
            "ticks": ""
           },
           "baxis": {
            "gridcolor": "white",
            "linecolor": "white",
            "ticks": ""
           },
           "bgcolor": "#E5ECF6",
           "caxis": {
            "gridcolor": "white",
            "linecolor": "white",
            "ticks": ""
           }
          },
          "title": {
           "x": 0.05
          },
          "xaxis": {
           "automargin": true,
           "gridcolor": "white",
           "linecolor": "white",
           "ticks": "",
           "title": {
            "standoff": 15
           },
           "zerolinecolor": "white",
           "zerolinewidth": 2
          },
          "yaxis": {
           "automargin": true,
           "gridcolor": "white",
           "linecolor": "white",
           "ticks": "",
           "title": {
            "standoff": 15
           },
           "zerolinecolor": "white",
           "zerolinewidth": 2
          }
         }
        },
        "title": {
         "text": "Employment and Distance Travelled to Work"
        },
        "updatemenus": [
         {
          "active": 0,
          "buttons": [
           {
            "args": [
             {
              "marker.color": [
               "#636EFA",
               "#EF553B",
               "#00CC96",
               "#AB63FA",
               "#FFA15A",
               "#19D3F3",
               "#FF6692",
               "#B6E880",
               "#FF97FF",
               "#FECB52"
              ]
             }
            ],
            "label": "All",
            "method": "update"
           },
           {
            "args": [
             {
              "marker.color": [
               "rgba(241, 156, 121, 240)",
               "rgba(150, 150, 150, 10)",
               "rgba(150, 150, 150, 10)",
               "rgba(150, 150, 150, 10)",
               "rgba(150, 150, 150, 10)",
               "rgba(150, 150, 150, 10)",
               "rgba(150, 150, 150, 10)",
               "rgba(150, 150, 150, 10)",
               "rgba(150, 150, 150, 10)",
               "rgba(150, 150, 150, 10)"
              ]
             }
            ],
            "label": "East Midlands",
            "method": "update"
           },
           {
            "args": [
             {
              "marker.color": [
               "rgba(150, 150, 150, 10)",
               "rgba(241, 156, 121, 240)",
               "rgba(150, 150, 150, 10)",
               "rgba(150, 150, 150, 10)",
               "rgba(150, 150, 150, 10)",
               "rgba(150, 150, 150, 10)",
               "rgba(150, 150, 150, 10)",
               "rgba(150, 150, 150, 10)",
               "rgba(150, 150, 150, 10)",
               "rgba(150, 150, 150, 10)"
              ]
             }
            ],
            "label": "East of England",
            "method": "update"
           },
           {
            "args": [
             {
              "marker.color": [
               "rgba(150, 150, 150, 10)",
               "rgba(150, 150, 150, 10)",
               "rgba(241, 156, 121, 240)",
               "rgba(150, 150, 150, 10)",
               "rgba(150, 150, 150, 10)",
               "rgba(150, 150, 150, 10)",
               "rgba(150, 150, 150, 10)",
               "rgba(150, 150, 150, 10)",
               "rgba(150, 150, 150, 10)",
               "rgba(150, 150, 150, 10)"
              ]
             }
            ],
            "label": "London",
            "method": "update"
           },
           {
            "args": [
             {
              "marker.color": [
               "rgba(150, 150, 150, 10)",
               "rgba(150, 150, 150, 10)",
               "rgba(150, 150, 150, 10)",
               "rgba(241, 156, 121, 240)",
               "rgba(150, 150, 150, 10)",
               "rgba(150, 150, 150, 10)",
               "rgba(150, 150, 150, 10)",
               "rgba(150, 150, 150, 10)",
               "rgba(150, 150, 150, 10)",
               "rgba(150, 150, 150, 10)"
              ]
             }
            ],
            "label": "North East",
            "method": "update"
           },
           {
            "args": [
             {
              "marker.color": [
               "rgba(150, 150, 150, 10)",
               "rgba(150, 150, 150, 10)",
               "rgba(150, 150, 150, 10)",
               "rgba(150, 150, 150, 10)",
               "rgba(241, 156, 121, 240)",
               "rgba(150, 150, 150, 10)",
               "rgba(150, 150, 150, 10)",
               "rgba(150, 150, 150, 10)",
               "rgba(150, 150, 150, 10)",
               "rgba(150, 150, 150, 10)"
              ]
             }
            ],
            "label": "North West",
            "method": "update"
           },
           {
            "args": [
             {
              "marker.color": [
               "rgba(150, 150, 150, 10)",
               "rgba(150, 150, 150, 10)",
               "rgba(150, 150, 150, 10)",
               "rgba(150, 150, 150, 10)",
               "rgba(150, 150, 150, 10)",
               "rgba(241, 156, 121, 240)",
               "rgba(150, 150, 150, 10)",
               "rgba(150, 150, 150, 10)",
               "rgba(150, 150, 150, 10)",
               "rgba(150, 150, 150, 10)"
              ]
             }
            ],
            "label": "South East",
            "method": "update"
           },
           {
            "args": [
             {
              "marker.color": [
               "rgba(150, 150, 150, 10)",
               "rgba(150, 150, 150, 10)",
               "rgba(150, 150, 150, 10)",
               "rgba(150, 150, 150, 10)",
               "rgba(150, 150, 150, 10)",
               "rgba(150, 150, 150, 10)",
               "rgba(241, 156, 121, 240)",
               "rgba(150, 150, 150, 10)",
               "rgba(150, 150, 150, 10)",
               "rgba(150, 150, 150, 10)"
              ]
             }
            ],
            "label": "South West",
            "method": "update"
           },
           {
            "args": [
             {
              "marker.color": [
               "rgba(150, 150, 150, 10)",
               "rgba(150, 150, 150, 10)",
               "rgba(150, 150, 150, 10)",
               "rgba(150, 150, 150, 10)",
               "rgba(150, 150, 150, 10)",
               "rgba(150, 150, 150, 10)",
               "rgba(150, 150, 150, 10)",
               "rgba(241, 156, 121, 240)",
               "rgba(150, 150, 150, 10)",
               "rgba(150, 150, 150, 10)"
              ]
             }
            ],
            "label": "Wales",
            "method": "update"
           },
           {
            "args": [
             {
              "marker.color": [
               "rgba(150, 150, 150, 10)",
               "rgba(150, 150, 150, 10)",
               "rgba(150, 150, 150, 10)",
               "rgba(150, 150, 150, 10)",
               "rgba(150, 150, 150, 10)",
               "rgba(150, 150, 150, 10)",
               "rgba(150, 150, 150, 10)",
               "rgba(150, 150, 150, 10)",
               "rgba(241, 156, 121, 240)",
               "rgba(150, 150, 150, 10)"
              ]
             }
            ],
            "label": "West Midlands",
            "method": "update"
           },
           {
            "args": [
             {
              "marker.color": [
               "rgba(150, 150, 150, 10)",
               "rgba(150, 150, 150, 10)",
               "rgba(150, 150, 150, 10)",
               "rgba(150, 150, 150, 10)",
               "rgba(150, 150, 150, 10)",
               "rgba(150, 150, 150, 10)",
               "rgba(150, 150, 150, 10)",
               "rgba(150, 150, 150, 10)",
               "rgba(150, 150, 150, 10)",
               "rgba(241, 156, 121, 240)"
              ]
             }
            ],
            "label": "Yorkshire and The Humber",
            "method": "update"
           }
          ],
          "showactive": true,
          "type": "dropdown",
          "x": 1,
          "y": 1
         }
        ],
        "xaxis": {
         "tickformat": "2%",
         "title": {
          "text": "Population with Long Commute"
         }
        },
        "yaxis": {
         "tickformat": "2%",
         "title": {
          "text": "Employed to Service Sector"
         }
        }
       }
      }
     },
     "metadata": {},
     "output_type": "display_data"
    }
   ],
   "source": [
    "# get the list of region\n",
    "rgn16nm = list(ltla_EW[\"rgn16nm\"].sort_values().unique())\n",
    "\n",
    "# instantiate figure\n",
    "fig = go.Figure()\n",
    "# instantiate drop-down button\n",
    "keys = [\"label\",\"method\",\"args\"]\n",
    "vals = [\"All\",\"update\",\n",
    "            [{\"marker.color\":px.colors.qualitative.Plotly}]\n",
    "        ]\n",
    "\n",
    "dropdown_button =[dict(zip(keys,vals))]\n",
    "n = 0\n",
    "# for loop to add trace an label\n",
    "for group in rgn16nm:\n",
    "    # get the regional subset\n",
    "    df_subset = df[df['rgn16nm'] ==  group]\n",
    "\n",
    "    # transform the size\n",
    "    size = [max(size, 5) for size in df_subset['Work Force Population_l'] /10000]\n",
    "    # size = np.arctan(df_subset['Work Force Population_l']/df['Work Force Population_l'].max()) * 60\n",
    "    # size = np.log(df_subset[\"Work Force Population_l\"]) * 0.8\n",
    "\n",
    "\n",
    "\n",
    "    # add trace\n",
    "    scatter_trace = go.Scatter(x=df_subset['% 20km or More'], y=df_subset['Serv'], name=group,\n",
    "                                text = df_subset['lad11nm'],\n",
    "                                mode = \"markers\",\n",
    "                                marker = dict(size=size,opacity=0.5),\n",
    "                                # define hover text\n",
    "                                hovertemplate=\n",
    "                                    \"<b>%{text}</b><br>\" +\n",
    "                                    \"Population: %{customdata:.2s}\" +\n",
    "                                    \"<extra></extra>\",\n",
    "                                customdata = df_subset['Work Force Population_l']\n",
    "                            )\n",
    "    fig.add_trace(scatter_trace )\n",
    "    # add drop_down button\n",
    "    color = ['rgba(150, 150, 150, 10)' for _ in range(len(rgn16nm))]\n",
    "    color[n] = 'rgba(241, 156, 121, 240)'\n",
    "    vals = [group,\"update\", [{\"marker.color\":color}]]\n",
    "    button = dict(zip(keys,vals))\n",
    "    dropdown_button.append(button)\n",
    "    n +=1\n",
    "\n",
    "# Customize the legend appearance\n",
    "fig.update_layout(\n",
    "    legend=dict(\n",
    "        itemsizing='constant'  # Set the size of legend markers to be constant\n",
    "    ),\n",
    "    plot_bgcolor='rgba(245, 250, 250, 100)',\n",
    "   \n",
    ")\n",
    "\n",
    "# add drop_down button\n",
    "fig.update_layout({\n",
    "'updatemenus':[{\n",
    "'type': \"dropdown\",\n",
    "'x': 1,\n",
    "'y': 1,\n",
    "'showactive': True,\n",
    "'active': 0,\n",
    "'buttons': dropdown_button}]\n",
    "})\n",
    "\n",
    "# add axis title\n",
    "fig.update_layout(\n",
    "    title = \"Employment and Distance Travelled to Work\",\n",
    "    xaxis={\n",
    "        'title':'Population with Long Commute',\n",
    "        'tickformat':\"2%\"\n",
    "        },\n",
    "    yaxis={'title':'Employed to Service Sector',\n",
    "           'tickformat':\"2%\"})\n",
    "\n",
    "fig.show()"
   ]
  },
  {
   "cell_type": "code",
   "execution_count": 30,
   "metadata": {},
   "outputs": [],
   "source": [
    "pio.write_html(fig, file=f'./output/ts058_ts060_v2.html', config={\"responsive\": True}, auto_open=True)"
   ]
  },
  {
   "cell_type": "code",
   "execution_count": 26,
   "metadata": {},
   "outputs": [
    {
     "name": "stdout",
     "output_type": "stream",
     "text": [
      "['#636EFA', '#EF553B', '#00CC96', '#AB63FA', '#FFA15A', '#19D3F3', '#FF6692', '#B6E880', '#FF97FF', '#FECB52']\n"
     ]
    }
   ],
   "source": [
    "print(px.colors.qualitative.Plotly)"
   ]
  },
  {
   "cell_type": "code",
   "execution_count": null,
   "metadata": {},
   "outputs": [],
   "source": []
  }
 ],
 "metadata": {
  "kernelspec": {
   "display_name": "base",
   "language": "python",
   "name": "python3"
  },
  "language_info": {
   "codemirror_mode": {
    "name": "ipython",
    "version": 3
   },
   "file_extension": ".py",
   "mimetype": "text/x-python",
   "name": "python",
   "nbconvert_exporter": "python",
   "pygments_lexer": "ipython3",
   "version": "3.8.3"
  }
 },
 "nbformat": 4,
 "nbformat_minor": 2
}
